{
  "nbformat": 4,
  "nbformat_minor": 0,
  "metadata": {
    "colab": {
      "provenance": [],
      "toc_visible": true,
      "authorship_tag": "ABX9TyMFRqUmHvib+oHrwaZRnbPy",
      "include_colab_link": true
    },
    "kernelspec": {
      "name": "python3",
      "display_name": "Python 3"
    },
    "language_info": {
      "name": "python"
    }
  },
  "cells": [
    {
      "cell_type": "markdown",
      "metadata": {
        "id": "view-in-github",
        "colab_type": "text"
      },
      "source": [
        "<a href=\"https://colab.research.google.com/github/chrisnelsonlab/BMEG4983_2024/blob/main/W4_2024_BMEG4983.ipynb\" target=\"_parent\"><img src=\"https://colab.research.google.com/assets/colab-badge.svg\" alt=\"Open In Colab\"/></a>"
      ]
    },
    {
      "cell_type": "markdown",
      "source": [
        "<img src=https://brand.uark.edu/_resources/images/UA_Logo_Horizontal.jpg width=\"400\" height=\"96\">\n",
        "\n",
        "###BMEG 4983 - Genome Engineering and Synthetic Biology -\n",
        "###For more information, check out the Nelson lab for Therapeutic Genome Engineering (https://nelsonlab.uark.edu/)\n",
        "\n",
        "\n",
        "#Data Workshop 4 - Cloning and DNA alignment\n",
        "\n",
        "Side note, if anyone tried out coding to solve wordle, check out this video:\n",
        "https://www.youtube.com/watch?v=v68zYyaEmEA\n",
        "\n",
        "\n",
        "\n"
      ],
      "metadata": {
        "id": "w_8nRoMsgqat"
      }
    },
    {
      "cell_type": "markdown",
      "source": [
        "# 4.1 Workbook Outline\n",
        "* 1 Introduction\n",
        "* 2 Getting gene information online and designing a gRNA\n",
        "* 3 Getting cDNA information and finding open reading frames\n",
        "* 4 Creating a plasmid and DNA Alignment\n",
        "* 5 qRT-PCR\n",
        "* 6 Alignment\n",
        "* 7 NGS\n",
        "* 8 RNAseq\n",
        "* 9 Indel analysis"
      ],
      "metadata": {
        "id": "6bkZ_V5uhEOo"
      }
    },
    {
      "cell_type": "markdown",
      "source": [
        "# 4.2. Cloning a cDNA expression plasmid\n",
        "\n",
        "Let's finish making your plasmid. Picking up where we left off in workbook 3, get your insert sequence. Recall that we would like to place your cDNA into pcDNA3.1\n",
        "\n",
        "\n",
        "The plasmid map is shown below (the sequence is also provided in code below)\n",
        "\n",
        "<img src=\"https://github.com/chrisnelsonlab/BMEG4983_2024/blob/main/pcdna3_1.png?raw=true\">\n",
        "\n",
        "\n",
        "Notice the multiple cloning site starting with NheI (895) and ending with ApaI (1001). We should clone your cDNA there.\n",
        "\n",
        "Recall that we are using EcoRI (952) and NotI (979)\n",
        "\n",
        "The recognition sites are:\n",
        "\n",
        "<img src=https://www.sigmaaldrich.com/deepweb/content/dam/sigma-aldrich/product5/192/ecor-i.eps/_jcr_content/renditions/ecor-i-medium.jpg width=\"400\">\n",
        "Credit sigmaaldrich\n",
        "\n",
        "\n",
        "<img src=https://www.sigmaaldrich.com/deepweb/content/dam/sigma-aldrich/product7/077/not-i.eps/_jcr_content/renditions/not-i-medium.jpg width=\"400\">\n",
        "Credit sigmaaldrich\n",
        "\n",
        "\n",
        "For the homework problem below, make a plasmid sequence using pCDNA3.1 with your cDNA inserted.\n",
        "\n"
      ],
      "metadata": {
        "id": "fqt9kMWbioYX"
      }
    },
    {
      "cell_type": "code",
      "execution_count": 7,
      "metadata": {
        "colab": {
          "base_uri": "https://localhost:8080/"
        },
        "id": "QXuuu1--gl6L",
        "outputId": "d0ffbfa6-5daf-4b00-b164-8d59ec0eca5d"
      },
      "outputs": [
        {
          "output_type": "stream",
          "name": "stdout",
          "text": [
            "GACGGATCGGGAGATCTCCCGATCCCCTATGGTGCACTCTCAGTACAATCTGCTCTGATGCCGCATAGTTAAGCCAGTATCTGCTCCCTGCTTGTGTGTTGGAGGTCGCTGAGTAGTGCGCGAGCAAAATTTAAGCTACAACAAGGCAAGGCTTGACCGACAATTGCATGAAGAATCTGCTTAGGGTTAGGCGTTTTGCGCTGCTTCGCGATGTACGGGCCAGATATACGCGTTGACATTGATTATTGACTAGTTATTAATAGTAATCAATTACGGGGTCATTAGTTCATAGCCCATATATGGAGTTCCGCGTTACATAACTTACGGTAAATGGCCCGCCTGGCTGACCGCCCAACGACCCCCGCCCATTGACGTCAATAATGACGTATGTTCCCATAGTAACGCCAATAGGGACTTTCCATTGACGTCAATGGGTGGAGTATTTACGGTAAACTGCCCACTTGGCAGTACATCAAGTGTATCATATGCCAAGTACGCCCCCTATTGACGTCAATGACGGTAAATGGCCCGCCTGGCATTATGCCCAGTACATGACCTTATGGGACTTTCCTACTTGGCAGTACATCTACGTATTAGTCATCGCTATTACCATGGTGATGCGGTTTTGGCAGTACATCAATGGGCGTGGATAGCGGTTTGACTCACGGGGATTTCCAAGTCTCCACCCCATTGACGTCAATGGGAGTTTGTTTTGGCACCAAAATCAACGGGACTTTCCAAAATGTCGTAACAACTCCGCCCCATTGACGCAAATGGGCGGTAGGCGTGTACGGTGGGAGGTCTATATAAGCAGAGCTCTCTGGCTAACTAGAGAACCCACTGCTTACTGGCTTATCGAAATTAATACGACTCACTATAGGGAGACCCAAGCTGGCTAGCGTTTAAACTTAAGCTTGGTACCGAGCTCGGATCCACTAGTCCAGTGTGGTGGAATTCTGCAGATATCCAGCACAGTGGCGGCCGCTCGAGTCTAGAGGGCCCGTTTAAACCCGCTGATCAGCCTCGACTGTGCCTTCTAGTTGCCAGCCATCTGTTGTTTGCCCCTCCCCCGTGCCTTCCTTGACCCTGGAAGGTGCCACTCCCACTGTCCTTTCCTAATAAAATGAGGAAATTGCATCGCATTGTCTGAGTAGGTGTCATTCTATTCTGGGGGGTGGGGTGGGGCAGGACAGCAAGGGGGAGGATTGGGAAGACAATAGCAGGCATGCTGGGGATGCGGTGGGCTCTATGGCTTCTGAGGCGGAAAGAACCAGCTGGGGCTCTAGGGGGTATCCCCACGCGCCCTGTAGCGGCGCATTAAGCGCGGCGGGTGTGGTGGTTACGCGCAGCGTGACCGCTACACTTGCCAGCGCCCTAGCGCCCGCTCCTTTCGCTTTCTTCCCTTCCTTTCTCGCCACGTTCGCCGGCTTTCCCCGTCAAGCTCTAAATCGGGGGCTCCCTTTAGGGTTCCGATTTAGTGCTTTACGGCACCTCGACCCCAAAAAACTTGATTAGGGTGATGGTTCACGTAGTGGGCCATCGCCCTGATAGACGGTTTTTCGCCCTTTGACGTTGGAGTCCACGTTCTTTAATAGTGGACTCTTGTTCCAAACTGGAACAACACTCAACCCTATCTCGGTCTATTCTTTTGATTTATAAGGGATTTTGCCGATTTCGGCCTATTGGTTAAAAAATGAGCTGATTTAACAAAAATTTAACGCGAATTAATTCTGTGGAATGTGTGTCAGTTAGGGTGTGGAAAGTCCCCAGGCTCCCCAGCAGGCAGAAGTATGCAAAGCATGCATCTCAATTAGTCAGCAACCAGGTGTGGAAAGTCCCCAGGCTCCCCAGCAGGCAGAAGTATGCAAAGCATGCATCTCAATTAGTCAGCAACCATAGTCCCGCCCCTAACTCCGCCCATCCCGCCCCTAACTCCGCCCAGTTCCGCCCATTCTCCGCCCCATGGCTGACTAATTTTTTTTATTTATGCAGAGGCCGAGGCCGCCTCTGCCTCTGAGCTATTCCAGAAGTAGTGAGGAGGCTTTTTTGGAGGCCTAGGCTTTTGCAAAAAGCTCCCGGGAGCTTGTATATCCATTTTCGGATCTGATCAAGAGACAGGATGAGGATCGTTTCGCATGATTGAACAAGATGGATTGCACGCAGGTTCTCCGGCCGCTTGGGTGGAGAGGCTATTCGGCTATGACTGGGCACAACAGACAATCGGCTGCTCTGATGCCGCCGTGTTCCGGCTGTCAGCGCAGGGGCGCCCGGTTCTTTTTGTCAAGACCGACCTGTCCGGTGCCCTGAATGAACTGCAGGACGAGGCAGCGCGGCTATCGTGGCTGGCCACGACGGGCGTTCCTTGCGCAGCTGTGCTCGACGTTGTCACTGAAGCGGGAAGGGACTGGCTGCTATTGGGCGAAGTGCCGGGGCAGGATCTCCTGTCATCTCACCTTGCTCCTGCCGAGAAAGTATCCATCATGGCTGATGCAATGCGGCGGCTGCATACGCTTGATCCGGCTACCTGCCCATTCGACCACCAAGCGAAACATCGCATCGAGCGAGCACGTACTCGGATGGAAGCCGGTCTTGTCGATCAGGATGATCTGGACGAAGAGCATCAGGGGCTCGCGCCAGCCGAACTGTTCGCCAGGCTCAAGGCGCGCATGCCCGACGGCGAGGATCTCGTCGTGACCCATGGCGATGCCTGCTTGCCGAATATCATGGTGGAAAATGGCCGCTTTTCTGGATTCATCGACTGTGGCCGGCTGGGTGTGGCGGACCGCTATCAGGACATAGCGTTGGCTACCCGTGATATTGCTGAAGAGCTTGGCGGCGAATGGGCTGACCGCTTCCTCGTGCTTTACGGTATCGCCGCTCCCGATTCGCAGCGCATCGCCTTCTATCGCCTTCTTGACGAGTTCTTCTGAGCGGGACTCTGGGGTTCGAAATGACCGACCAAGCGACGCCCAACCTGCCATCACGAGATTTCGATTCCACCGCCGCCTTCTATGAAAGGTTGGGCTTCGGAATCGTTTTCCGGGACGCCGGCTGGATGATCCTCCAGCGCGGGGATCTCATGCTGGAGTTCTTCGCCCACCCCAACTTGTTTATTGCAGCTTATAATGGTTACAAATAAAGCAATAGCATCACAAATTTCACAAATAAAGCATTTTTTTCACTGCATTCTAGTTGTGGTTTGTCCAAACTCATCAATGTATCTTATCATGTCTGTATACCGTCGACCTCTAGCTAGAGCTTGGCGTAATCATGGTCATAGCTGTTTCCTGTGTGAAATTGTTATCCGCTCACAATTCCACACAACATACGAGCCGGAAGCATAAAGTGTAAAGCCTGGGGTGCCTAATGAGTGAGCTAACTCACATTAATTGCGTTGCGCTCACTGCCCGCTTTCCAGTCGGGAAACCTGTCGTGCCAGCTGCATTAATGAATCGGCCAACGCGCGGGGAGAGGCGGTTTGCGTATTGGGCGCTCTTCCGCTTCCTCGCTCACTGACTCGCTGCGCTCGGTCGTTCGGCTGCGGCGAGCGGTATCAGCTCACTCAAAGGCGGTAATACGGTTATCCACAGAATCAGGGGATAACGCAGGAAAGAACATGTGAGCAAAAGGCCAGCAAAAGGCCAGGAACCGTAAAAAGGCCGCGTTGCTGGCGTTTTTCCATAGGCTCCGCCCCCCTGACGAGCATCACAAAAATCGACGCTCAAGTCAGAGGTGGCGAAACCCGACAGGACTATAAAGATACCAGGCGTTTCCCCCTGGAAGCTCCCTCGTGCGCTCTCCTGTTCCGACCCTGCCGCTTACCGGATACCTGTCCGCCTTTCTCCCTTCGGGAAGCGTGGCGCTTTCTCATAGCTCACGCTGTAGGTATCTCAGTTCGGTGTAGGTCGTTCGCTCCAAGCTGGGCTGTGTGCACGAACCCCCCGTTCAGCCCGACCGCTGCGCCTTATCCGGTAACTATCGTCTTGAGTCCAACCCGGTAAGACACGACTTATCGCCACTGGCAGCAGCCACTGGTAACAGGATTAGCAGAGCGAGGTATGTAGGCGGTGCTACAGAGTTCTTGAAGTGGTGGCCTAACTACGGCTACACTAGAAGAACAGTATTTGGTATCTGCGCTCTGCTGAAGCCAGTTACCTTCGGAAAAAGAGTTGGTAGCTCTTGATCCGGCAAACAAACCACCGCTGGTAGCGGTTTTTTTGTTTGCAAGCAGCAGATTACGCGCAGAAAAAAAGGATCTCAAGAAGATCCTTTGATCTTTTCTACGGGGTCTGACGCTCAGTGGAACGAAAACTCACGTTAAGGGATTTTGGTCATGAGATTATCAAAAAGGATCTTCACCTAGATCCTTTTAAATTAAAAATGAAGTTTTAAATCAATCTAAAGTATATATGAGTAAACTTGGTCTGACAGTTACCAATGCTTAATCAGTGAGGCACCTATCTCAGCGATCTGTCTATTTCGTTCATCCATAGTTGCCTGACTCCCCGTCGTGTAGATAACTACGATACGGGAGGGCTTACCATCTGGCCCCAGTGCTGCAATGATACCGCGAGACCCACGCTCACCGGCTCCAGATTTATCAGCAATAAACCAGCCAGCCGGAAGGGCCGAGCGCAGAAGTGGTCCTGCAACTTTATCCGCCTCCATCCAGTCTATTAATTGTTGCCGGGAAGCTAGAGTAAGTAGTTCGCCAGTTAATAGTTTGCGCAACGTTGTTGCCATTGCTACAGGCATCGTGGTGTCACGCTCGTCGTTTGGTATGGCTTCATTCAGCTCCGGTTCCCAACGATCAAGGCGAGTTACATGATCCCCCATGTTGTGCAAAAAAGCGGTTAGCTCCTTCGGTCCTCCGATCGTTGTCAGAAGTAAGTTGGCCGCAGTGTTATCACTCATGGTTATGGCAGCACTGCATAATTCTCTTACTGTCATGCCATCCGTAAGATGCTTTTCTGTGACTGGTGAGTACTCAACCAAGTCATTCTGAGAATAGTGTATGCGGCGACCGAGTTGCTCTTGCCCGGCGTCAATACGGGATAATACCGCGCCACATAGCAGAACTTTAAAAGTGCTCATCATTGGAAAACGTTCTTCGGGGCGAAAACTCTCAAGGATCTTACCGCTGTTGAGATCCAGTTCGATGTAACCCACTCGTGCACCCAACTGATCTTCAGCATCTTTTACTTTCACCAGCGTTTCTGGGTGAGCAAAAACAGGAAGGCAAAATGCCGCAAAAAAGGGAATAAGGGCGACACGGAAATGTTGAATACTCATACTCTTCCTTTTTCAATATTATTGAAGCATTTATCAGGGTTATTGTCTCATGAGCGGATACATATTTGAATGTATTTAGAAAAATAAACAAATAGGGGTTCCGCGCACATTTCCCCGAAAAGTGCCACCTGACGTC\n",
            "951\n",
            "977\n",
            "G\n"
          ]
        }
      ],
      "source": [
        "# Virtual Restriction digest\n",
        "\n",
        "#Search sequence\n",
        "\n",
        "\n",
        "pCDNA3_1 = \"GACGGATCGGGAGATCTCCCGATCCCCTATGGTGCACTCTCAGTACAATCTGCTCTGATGCCGCATAGTTAAGCCAGTATCTGCTCCCTGCTTGTGTGTTGGAGGTCGCTGAGTAGTGCGCGAGCAAAATTTAAGCTACAACAAGGCAAGGCTTGACCGACAATTGCATGAAGAATCTGCTTAGGGTTAGGCGTTTTGCGCTGCTTCGCGATGTACGGGCCAGATATACGCGTTGACATTGATTATTGACTAGTTATTAATAGTAATCAATTACGGGGTCATTAGTTCATAGCCCATATATGGAGTTCCGCGTTACATAACTTACGGTAAATGGCCCGCCTGGCTGACCGCCCAACGACCCCCGCCCATTGACGTCAATAATGACGTATGTTCCCATAGTAACGCCAATAGGGACTTTCCATTGACGTCAATGGGTGGAGTATTTACGGTAAACTGCCCACTTGGCAGTACATCAAGTGTATCATATGCCAAGTACGCCCCCTATTGACGTCAATGACGGTAAATGGCCCGCCTGGCATTATGCCCAGTACATGACCTTATGGGACTTTCCTACTTGGCAGTACATCTACGTATTAGTCATCGCTATTACCATGGTGATGCGGTTTTGGCAGTACATCAATGGGCGTGGATAGCGGTTTGACTCACGGGGATTTCCAAGTCTCCACCCCATTGACGTCAATGGGAGTTTGTTTTGGCACCAAAATCAACGGGACTTTCCAAAATGTCGTAACAACTCCGCCCCATTGACGCAAATGGGCGGTAGGCGTGTACGGTGGGAGGTCTATATAAGCAGAGCTCTCTGGCTAACTAGAGAACCCACTGCTTACTGGCTTATCGAAATTAATACGACTCACTATAGGGAGACCCAAGCTGGCTAGCGTTTAAACTTAAGCTTGGTACCGAGCTCGGATCCACTAGTCCAGTGTGGTGGAATTCTGCAGATATCCAGCACAGTGGCGGCCGCTCGAGTCTAGAGGGCCCGTTTAAACCCGCTGATCAGCCTCGACTGTGCCTTCTAGTTGCCAGCCATCTGTTGTTTGCCCCTCCCCCGTGCCTTCCTTGACCCTGGAAGGTGCCACTCCCACTGTCCTTTCCTAATAAAATGAGGAAATTGCATCGCATTGTCTGAGTAGGTGTCATTCTATTCTGGGGGGTGGGGTGGGGCAGGACAGCAAGGGGGAGGATTGGGAAGACAATAGCAGGCATGCTGGGGATGCGGTGGGCTCTATGGCTTCTGAGGCGGAAAGAACCAGCTGGGGCTCTAGGGGGTATCCCCACGCGCCCTGTAGCGGCGCATTAAGCGCGGCGGGTGTGGTGGTTACGCGCAGCGTGACCGCTACACTTGCCAGCGCCCTAGCGCCCGCTCCTTTCGCTTTCTTCCCTTCCTTTCTCGCCACGTTCGCCGGCTTTCCCCGTCAAGCTCTAAATCGGGGGCTCCCTTTAGGGTTCCGATTTAGTGCTTTACGGCACCTCGACCCCAAAAAACTTGATTAGGGTGATGGTTCACGTAGTGGGCCATCGCCCTGATAGACGGTTTTTCGCCCTTTGACGTTGGAGTCCACGTTCTTTAATAGTGGACTCTTGTTCCAAACTGGAACAACACTCAACCCTATCTCGGTCTATTCTTTTGATTTATAAGGGATTTTGCCGATTTCGGCCTATTGGTTAAAAAATGAGCTGATTTAACAAAAATTTAACGCGAATTAATTCTGTGGAATGTGTGTCAGTTAGGGTGTGGAAAGTCCCCAGGCTCCCCAGCAGGCAGAAGTATGCAAAGCATGCATCTCAATTAGTCAGCAACCAGGTGTGGAAAGTCCCCAGGCTCCCCAGCAGGCAGAAGTATGCAAAGCATGCATCTCAATTAGTCAGCAACCATAGTCCCGCCCCTAACTCCGCCCATCCCGCCCCTAACTCCGCCCAGTTCCGCCCATTCTCCGCCCCATGGCTGACTAATTTTTTTTATTTATGCAGAGGCCGAGGCCGCCTCTGCCTCTGAGCTATTCCAGAAGTAGTGAGGAGGCTTTTTTGGAGGCCTAGGCTTTTGCAAAAAGCTCCCGGGAGCTTGTATATCCATTTTCGGATCTGATCAAGAGACAGGATGAGGATCGTTTCGCATGATTGAACAAGATGGATTGCACGCAGGTTCTCCGGCCGCTTGGGTGGAGAGGCTATTCGGCTATGACTGGGCACAACAGACAATCGGCTGCTCTGATGCCGCCGTGTTCCGGCTGTCAGCGCAGGGGCGCCCGGTTCTTTTTGTCAAGACCGACCTGTCCGGTGCCCTGAATGAACTGCAGGACGAGGCAGCGCGGCTATCGTGGCTGGCCACGACGGGCGTTCCTTGCGCAGCTGTGCTCGACGTTGTCACTGAAGCGGGAAGGGACTGGCTGCTATTGGGCGAAGTGCCGGGGCAGGATCTCCTGTCATCTCACCTTGCTCCTGCCGAGAAAGTATCCATCATGGCTGATGCAATGCGGCGGCTGCATACGCTTGATCCGGCTACCTGCCCATTCGACCACCAAGCGAAACATCGCATCGAGCGAGCACGTACTCGGATGGAAGCCGGTCTTGTCGATCAGGATGATCTGGACGAAGAGCATCAGGGGCTCGCGCCAGCCGAACTGTTCGCCAGGCTCAAGGCGCGCATGCCCGACGGCGAGGATCTCGTCGTGACCCATGGCGATGCCTGCTTGCCGAATATCATGGTGGAAAATGGCCGCTTTTCTGGATTCATCGACTGTGGCCGGCTGGGTGTGGCGGACCGCTATCAGGACATAGCGTTGGCTACCCGTGATATTGCTGAAGAGCTTGGCGGCGAATGGGCTGACCGCTTCCTCGTGCTTTACGGTATCGCCGCTCCCGATTCGCAGCGCATCGCCTTCTATCGCCTTCTTGACGAGTTCTTCTGAGCGGGACTCTGGGGTTCGAAATGACCGACCAAGCGACGCCCAACCTGCCATCACGAGATTTCGATTCCACCGCCGCCTTCTATGAAAGGTTGGGCTTCGGAATCGTTTTCCGGGACGCCGGCTGGATGATCCTCCAGCGCGGGGATCTCATGCTGGAGTTCTTCGCCCACCCCAACTTGTTTATTGCAGCTTATAATGGTTACAAATAAAGCAATAGCATCACAAATTTCACAAATAAAGCATTTTTTTCACTGCATTCTAGTTGTGGTTTGTCCAAACTCATCAATGTATCTTATCATGTCTGTATACCGTCGACCTCTAGCTAGAGCTTGGCGTAATCATGGTCATAGCTGTTTCCTGTGTGAAATTGTTATCCGCTCACAATTCCACACAACATACGAGCCGGAAGCATAAAGTGTAAAGCCTGGGGTGCCTAATGAGTGAGCTAACTCACATTAATTGCGTTGCGCTCACTGCCCGCTTTCCAGTCGGGAAACCTGTCGTGCCAGCTGCATTAATGAATCGGCCAACGCGCGGGGAGAGGCGGTTTGCGTATTGGGCGCTCTTCCGCTTCCTCGCTCACTGACTCGCTGCGCTCGGTCGTTCGGCTGCGGCGAGCGGTATCAGCTCACTCAAAGGCGGTAATACGGTTATCCACAGAATCAGGGGATAACGCAGGAAAGAACATGTGAGCAAAAGGCCAGCAAAAGGCCAGGAACCGTAAAAAGGCCGCGTTGCTGGCGTTTTTCCATAGGCTCCGCCCCCCTGACGAGCATCACAAAAATCGACGCTCAAGTCAGAGGTGGCGAAACCCGACAGGACTATAAAGATACCAGGCGTTTCCCCCTGGAAGCTCCCTCGTGCGCTCTCCTGTTCCGACCCTGCCGCTTACCGGATACCTGTCCGCCTTTCTCCCTTCGGGAAGCGTGGCGCTTTCTCATAGCTCACGCTGTAGGTATCTCAGTTCGGTGTAGGTCGTTCGCTCCAAGCTGGGCTGTGTGCACGAACCCCCCGTTCAGCCCGACCGCTGCGCCTTATCCGGTAACTATCGTCTTGAGTCCAACCCGGTAAGACACGACTTATCGCCACTGGCAGCAGCCACTGGTAACAGGATTAGCAGAGCGAGGTATGTAGGCGGTGCTACAGAGTTCTTGAAGTGGTGGCCTAACTACGGCTACACTAGAAGAACAGTATTTGGTATCTGCGCTCTGCTGAAGCCAGTTACCTTCGGAAAAAGAGTTGGTAGCTCTTGATCCGGCAAACAAACCACCGCTGGTAGCGGTTTTTTTGTTTGCAAGCAGCAGATTACGCGCAGAAAAAAAGGATCTCAAGAAGATCCTTTGATCTTTTCTACGGGGTCTGACGCTCAGTGGAACGAAAACTCACGTTAAGGGATTTTGGTCATGAGATTATCAAAAAGGATCTTCACCTAGATCCTTTTAAATTAAAAATGAAGTTTTAAATCAATCTAAAGTATATATGAGTAAACTTGGTCTGACAGTTACCAATGCTTAATCAGTGAGGCACCTATCTCAGCGATCTGTCTATTTCGTTCATCCATAGTTGCCTGACTCCCCGTCGTGTAGATAACTACGATACGGGAGGGCTTACCATCTGGCCCCAGTGCTGCAATGATACCGCGAGACCCACGCTCACCGGCTCCAGATTTATCAGCAATAAACCAGCCAGCCGGAAGGGCCGAGCGCAGAAGTGGTCCTGCAACTTTATCCGCCTCCATCCAGTCTATTAATTGTTGCCGGGAAGCTAGAGTAAGTAGTTCGCCAGTTAATAGTTTGCGCAACGTTGTTGCCATTGCTACAGGCATCGTGGTGTCACGCTCGTCGTTTGGTATGGCTTCATTCAGCTCCGGTTCCCAACGATCAAGGCGAGTTACATGATCCCCCATGTTGTGCAAAAAAGCGGTTAGCTCCTTCGGTCCTCCGATCGTTGTCAGAAGTAAGTTGGCCGCAGTGTTATCACTCATGGTTATGGCAGCACTGCATAATTCTCTTACTGTCATGCCATCCGTAAGATGCTTTTCTGTGACTGGTGAGTACTCAACCAAGTCATTCTGAGAATAGTGTATGCGGCGACCGAGTTGCTCTTGCCCGGCGTCAATACGGGATAATACCGCGCCACATAGCAGAACTTTAAAAGTGCTCATCATTGGAAAACGTTCTTCGGGGCGAAAACTCTCAAGGATCTTACCGCTGTTGAGATCCAGTTCGATGTAACCCACTCGTGCACCCAACTGATCTTCAGCATCTTTTACTTTCACCAGCGTTTCTGGGTGAGCAAAAACAGGAAGGCAAAATGCCGCAAAAAAGGGAATAAGGGCGACACGGAAATGTTGAATACTCATACTCTTCCTTTTTCAATATTATTGAAGCATTTATCAGGGTTATTGTCTCATGAGCGGATACATATTTGAATGTATTTAGAAAAATAAACAAATAGGGGTTCCGCGCACATTTCCCCGAAAAGTGCCACCTGACGTC\"\n",
        "EcoRI = \"GAATTC\"\n",
        "NotI = \"GCGGCCGC\"\n",
        "\n",
        "print(pCDNA3_1)\n",
        "\n",
        "\n",
        "print(pCDNA3_1.find(EcoRI))\n",
        "print(pCDNA3_1.find(NotI))\n",
        "\n",
        "# How would you assemble your sequence from here?\n"
      ]
    },
    {
      "cell_type": "markdown",
      "source": [
        "# 4.3 DNA Alignment Introduction"
      ],
      "metadata": {
        "id": "COccT8Uaiaxo"
      }
    },
    {
      "cell_type": "markdown",
      "source": [
        "\n",
        "##4.2.1 Pairwise vs Multiple sequence alignments\n",
        "In a pairwise alignment, we want to compare two examples\n",
        "\n",
        "<img src=http://compbio.pbworks.com/f/2psa.bmp>\n",
        "\n",
        "In multiple alignment, we might want to make a consensus or map eveolution (in the case of a virus)\n",
        "\n",
        "**For example:**\n",
        "\n",
        "<img src=https://www.codoncode.com/images/aligner2.png>\n",
        "\n",
        "\n",
        "**Try out an example for yourself manually:**\n",
        "\n",
        "```Python\n",
        "mySeq1 = \"ATCGTCTGA\"\n",
        "mySeq2 = \"ATGTTCTGA\"\n",
        "```\n",
        "\n",
        "How would you align these? Could there be a base-pair substituion? Could there be a gap?\n",
        "\n",
        "```Python\n",
        "ATCGTCTGA\n",
        "|||#|||||\n",
        "ATGTTCTGA\n",
        "```\n",
        "\n",
        "\n",
        "**What about a more ambiguous example:**\n",
        "\n",
        "```Python\n",
        "mySeq1 = \"ATCGTCTGA\"\n",
        "mySeq2 = \"ATGTCTTGA\"\n",
        "```\n",
        "\n",
        "How would you align these? Could there be a base-pair substituion? Could there be a gap?\n",
        "\n",
        "**Only allowing mismatches**\n",
        "```Python\n",
        "ATCGTCTGA\n",
        "|||###|||\n",
        "ATGTCTTGA\n",
        "```\n",
        "There are three mismatches\n",
        "\n",
        "**Try out a gap?**\n",
        "```Python\n",
        "ATCGTCT-GA\n",
        "|||#|||#||\n",
        "ATG-TCTTGA\n",
        "```\n",
        "Now there are two penalities\n",
        "\n",
        "Which one should you weight more heavily?\n",
        "\n",
        "To do this programmatically, we will need to assign weights for these penalities. We can make different kinds of penalties...\n",
        "\n",
        "\n",
        "\n",
        "*   Mismatch (are different types of mismatches weighted differently?)\n",
        "*   Opening a gap\n",
        "*   Extending a gap\n",
        "*   Score for a correct match?\n"
      ],
      "metadata": {
        "id": "LlOTvIX0iYYv"
      }
    },
    {
      "cell_type": "markdown",
      "source": [
        "# 4.3 Recusion and Dynamic Programming\n",
        "Recusion and Dynamic Programming is an important topic to understand for how DNA alignment works. To be clear, you don't need to be an expert in this class. This is an overview to give you intution for how these algorithms work. We will do some examples to think about the process of \"thinking\"."
      ],
      "metadata": {
        "id": "jolCtittlmbb"
      }
    },
    {
      "cell_type": "markdown",
      "source": [
        "## 4.3.1 The eight queen problem\n",
        "\n",
        "First we need a program that can look deeply into many possible alignments. Recursion is a process where a function calls on itself. This allows for unique\n",
        "functionality distinct from for loops and while loops\n",
        "\n",
        "A good example of this is the 8 queens problem. Imagine you are provided a chess board and 8 queens. The goal is to place 8 queens anywhere on the board such that they cannot attack each other.\n",
        "\n",
        "<img src=\"https://raw.githubusercontent.com/chrisnelsonlab/DIY-Genome-2021/main/images/8queens.png\" width=\"300\">\n",
        "\n",
        "\n",
        "It may be simpler to start with a 4x4 chess board and try to place 4 queens (there are 2 solutions to this version (technically it's only one by symmetry). Try this excercise on a piece of paper or on the image below. Pay attention to your mental process as you try and solve.\n",
        "\n",
        "\n",
        "<img src=\"https://raw.githubusercontent.com/chrisnelsonlab/DIY-Genome-2021/main/images/4queens.png\" width=\"250\">\n",
        "\n",
        "### Writing code to solve it.\n",
        "\n",
        "If we tried to write code that would solve this, let's model our mental process. You may have placed a queen on the first column, then moved to the next column and so on until you got stuck. Then you would remove a queen that was already placed and try again.\n",
        "\n",
        "If we did the same thing, we could write a function that tried to place a queen. If the function was successful, the function would call itself and try to place another queen. If unsuccessful, the program would back up.\n",
        "\n",
        "Look at the code below. Notice that the function placequeens() calls itself?\n",
        "\n",
        "The function has already been written. Notice that (for example) if you chose a board size of 8, there are 92 wins and 1965 losses. This is an exhausitve search (meaning we found every possible win).\n",
        "\n",
        "\n",
        "If we tried this with a for loop that tried every possible placement, there would be 1,700,000,000,000,000 possibilities. If we made the reasonable restriction that there could only be one queen per column, that still leaves us with 16 million possibilities. You could further optimize the looping method by trying only rows that haven't been used which would leave you with 40,000 options. Still a 20 fold improvment to use a recursive method.\n",
        "\n",
        "This would also scale with larger data sets. For example, a boardsize of 12 gives 800,000 possibilites with the recursive method but 479 million with the loop method.\n",
        "\n",
        "Also, notice the non-linear nature of the time it takes to complete this calculation. This is another important problem in genomicsas the genome is large and there are many potential alignments that we could choose.  \n",
        "\n",
        "### Data Collection Challenge\n",
        "How do the number of solutions scale as a function of the size of the board? Try out several board sizes to see how the number of solutions scales."
      ],
      "metadata": {
        "id": "rUCZW23-lsP5"
      }
    },
    {
      "cell_type": "code",
      "source": [
        "#Code to solve all possible solutions of the 8 queens problem\n",
        "\n",
        "##ADD TIME TO COMPLETE.\n",
        "import time\n",
        "start = time.time()\n",
        "#Prints the current board in ascii format. Mainly for debug\n",
        "def printasciiboard(board):\n",
        "    for i in range(0,len(board)):\n",
        "        linetoprint = \" \"\n",
        "        for j in range (0,len(board)):\n",
        "            linetoprint = linetoprint+\" \"+str(board[i][j])\n",
        "        print(linetoprint)\n",
        "    print('')\n",
        "\n",
        "#This function checks for a given position, if the placed queen would be\n",
        "#under attack for a neighbor.\n",
        "#Checks horizontal and then diaganally. No need to check vertical. Only one\n",
        "#queen per vertical is placed.\n",
        "def checkattack(board,row,column):\n",
        "\n",
        "    #Check horizontal\n",
        "    tempvalue = sum(board[row][:])\n",
        "    if(tempvalue>0):\n",
        "        return False\n",
        "    #Check diaganally once\n",
        "    for i in range(0,len(board)):\n",
        "        for j in range(0,len(board)):\n",
        "            if(board[i][j]==1):\n",
        "                if(abs(i-row)==abs(j-column)):\n",
        "                        return False\n",
        "    return True\n",
        "\n",
        "\n",
        "#Recursive function. Trys to place a queen and then calls itself\n",
        "#to place an additional queen. Backs up when it hits a dead end.\n",
        "#Countin: Round 0 first placement, Round 1 second placement, etc\n",
        "def placequeen(board,column, wins, losses):\n",
        "\n",
        "    if(sum(sum(board,[])) ==len(board)):\n",
        "        #printasciiboard(board)   #uncomment to print all winning arrangements\n",
        "        wins = wins+1\n",
        "    else:\n",
        "        losses = losses +1\n",
        "\n",
        "    for row in range(0,len(board)):\n",
        "        #Position_attempt = [row][column]\n",
        "        #print(\"Row: \" +str(row)+\"  Column \"+str(column))\n",
        "\n",
        "        if (checkattack(board,row,column)):\n",
        "            board[row][column] = 1\n",
        "            # This is where the recursion happens!\n",
        "            board,wins,losses = placequeen(board,column+1,wins,losses)\n",
        "            board[row][column] = 0\n",
        "\n",
        "    return board,wins,losses\n",
        "\n",
        "\n",
        "#Solves for an n x n board. n must be equal.\n",
        "#@title What size board do you want to solve?\n",
        "boardsize = 8 #@param {type:\"slider\", min:4, max:12, step:1}\n",
        "\n",
        "if (boardsize < 4):\n",
        "  boardsize = 4\n",
        "if (boardsize > 12):\n",
        "  boardsize = 12\n",
        "cols = boardsize\n",
        "rows = boardsize\n",
        "\n",
        "#make an empty 2D board\n",
        "board = [[0 for i in range(cols)] for j in range(rows)]\n",
        "\n",
        "#Print the empty board\n",
        "printasciiboard(board)\n",
        "\n",
        "#Count wins and losses\n",
        "wins = 0\n",
        "losses = 0\n",
        "\n",
        "#Begin recursive algorithm\n",
        "board, wins, losses = placequeen(board,0,wins,losses)\n",
        "print(\"wins:\"+str(wins))\n",
        "print(\"losses:\"+str(losses))\n",
        "end = time.time()\n",
        "print(\"time elapsed:\"+ str(round((end - start),5)))"
      ],
      "metadata": {
        "colab": {
          "base_uri": "https://localhost:8080/"
        },
        "id": "YTPEdyBFlyJj",
        "outputId": "94a05c05-b851-40da-bb33-d97e946da65d"
      },
      "execution_count": 9,
      "outputs": [
        {
          "output_type": "stream",
          "name": "stdout",
          "text": [
            "  0 0 0 0 0 0 0 0\n",
            "  0 0 0 0 0 0 0 0\n",
            "  0 0 0 0 0 0 0 0\n",
            "  0 0 0 0 0 0 0 0\n",
            "  0 0 0 0 0 0 0 0\n",
            "  0 0 0 0 0 0 0 0\n",
            "  0 0 0 0 0 0 0 0\n",
            "  0 0 0 0 0 0 0 0\n",
            "\n",
            "wins:92\n",
            "losses:1965\n",
            "time elapsed:0.09221\n"
          ]
        }
      ]
    },
    {
      "cell_type": "markdown",
      "source": [
        "1. Using the code above, try to find out how many solution exist for chess boards that are 4x4 up through 12x12. How long does each one take? Graph your results to see if there is a trend. *Tip: Comment out the printed board to speed up the program.*\n",
        "\n",
        "Hopefully you will note an exponential trend. With each increasing borad size interger, the time it takes to complete the program increases non-linearly.  This is an important problem in data science and will revisted in many problems that involve genetics, logistics, optimization, game design, bitcoin, and many other applications."
      ],
      "metadata": {
        "id": "n0w2QPRtmb5Z"
      }
    },
    {
      "cell_type": "code",
      "source": [
        "#Let's graph it. Put your own data in here:\n",
        "import matplotlib.pyplot as plt\n",
        "\n",
        "x  = [4, 5, 6, 7, 8, 9, 10, 11, 12]\n",
        "y1 = [0.00267, 0.00542, 0.00523, 0.01261, 0.05015, 0.24253, 1.24855, 7.05152, 42.52486]\n",
        "\n",
        "#uncomment to put your own data in here\n",
        "#y2 = [2, 4, 6, 4, 2, 4, 6, 4, 2]\n",
        "\n",
        "plt.plot(x, y1, label=\"Data collected on google colab\")\n",
        "\n",
        "#uncomment to put your own data in here\n",
        "#plt.plot(x, y2, label=\"line H\")\n",
        "plt.plot()\n",
        "\n",
        "\n",
        "plt.xlabel(\"Board size\")\n",
        "plt.ylabel(\"time(s)\")\n",
        "plt.title(\"Line Graph Example\")\n",
        "plt.legend()\n",
        "plt.show()"
      ],
      "metadata": {
        "id": "BiuiaRj3mgE3"
      },
      "execution_count": null,
      "outputs": []
    },
    {
      "cell_type": "markdown",
      "source": [
        "## 4.3.2 Fibbonaci Sequence Example\n",
        "\n",
        "Optional excercise - can you code a recursive algorithm for calculating any Fibbonaci sequence? In this case, dynamic programing is useful"
      ],
      "metadata": {
        "id": "CIcWcf8wmkw9"
      }
    },
    {
      "cell_type": "code",
      "source": [
        "# prompt: I need an algorithm for calculating the fibbonaci sequence for any n value provided\n",
        "\n",
        "#This is chat gpt's attempt. It uses recurision, but not dynamic programming\n",
        "#This means for large n values, it has to do extra work\n",
        "def fib(n):\n",
        "  if n < 2:\n",
        "    return n\n",
        "  else:\n",
        "    return fib(n-1) + fib(n-2)\n",
        "print(fib(11))"
      ],
      "metadata": {
        "colab": {
          "base_uri": "https://localhost:8080/"
        },
        "id": "s1lq4c3Pmkck",
        "outputId": "eb1c841d-e0d1-4130-97f9-1780390f7025"
      },
      "execution_count": 13,
      "outputs": [
        {
          "output_type": "stream",
          "name": "stdout",
          "text": [
            "89\n"
          ]
        }
      ]
    },
    {
      "cell_type": "markdown",
      "source": [
        "## 4.3.3 The golf tee game\n",
        "\n",
        "<img src=\"https://www.cs.virginia.edu/~evans/cs201j/problem-sets/ps4/cbfront.jpg\" height=300>\n",
        "\n",
        "How would you go about solving this?\n",
        "\n",
        "You could try solving recursivly, try each move in a systematic way, backing up when you can no longer move.\n",
        "\n",
        "What do we need to know?\n",
        "\n",
        "We need to encode the allowable moves in a way that python can understand\n",
        "We can encode the board like this:\n",
        "\n",
        "```Python\n",
        "      0\n",
        "    1   2\n",
        "   3  4  5\n",
        "  6  7  8  9\n",
        "10 11 12 13 14\n",
        "```\n",
        "\n",
        "For example, an allowable move could be from 3, over 1 to 0.  To perform that move, 3 and 1 would be occupied and 0 would be empty.\n",
        "\n",
        "\n",
        "The code below prints the worst scoring boards and where the position of the last peg in winning arrangments."
      ],
      "metadata": {
        "id": "TlrNwjwPnQs8"
      }
    },
    {
      "cell_type": "code",
      "source": [
        "#This function prints an easier to understand ascii board\n",
        "def asciiartboard(currentboard):\n",
        "    print('    '+str(currentboard[0]))\n",
        "    print('   '+str(currentboard[1])+' '+str(currentboard[2]))\n",
        "    print('  '+str(currentboard[3])+' '+str(currentboard[4])+' '+str(currentboard[5]))\n",
        "    print(' '+str(currentboard[6])+' '+str(currentboard[7])+' '+str(currentboard[8])+' '+str(currentboard[9]))\n",
        "    print(str(currentboard[10])+' '+str(currentboard[11])+' '+str(currentboard[12])+' '+str(currentboard[13])+' '+str(currentboard[14]))\n",
        "\n",
        "#This is the recursive function. It keeps track of a lot of data so we can ask\n",
        "#questions later (where is the end peg? What is the worst way to lose etc.)\n",
        "\n",
        "#The function uses:\n",
        "#currentboard =  the current state of the board\n",
        "#movelist = the allowable moves\n",
        "#shortlist = keeping track of what moves we have done\n",
        "#winlose = a list of how often we have won or lost\n",
        "#alldata = Keeping a list of all the winning boards\n",
        "def attemptmove(currentboard,movelist,shortlist,winlose,alldata):\n",
        "    #Try every move\n",
        "    trueloss = True\n",
        "\n",
        "    for i in range(0,len(movelist)):\n",
        "        tempmove = movelist[i]\n",
        "\n",
        "        #If a move is avilable try it\n",
        "        if (currentboard[tempmove[0]]==1 and currentboard[tempmove[1]]==1 and currentboard[tempmove[2]]==0):\n",
        "\n",
        "            currentboard[tempmove[0]]=0\n",
        "            currentboard[tempmove[1]]=0\n",
        "            currentboard[tempmove[2]]=1\n",
        "            shortlist.append(tempmove)\n",
        "\n",
        "            #When this returns that means we hit a dead end and need to reverse the last move we made\n",
        "            shortlist, winlose, alldata = attemptmove(currentboard,movelist,shortlist,winlose, alldata)\n",
        "\n",
        "\n",
        "            if (sum(currentboard) == 1):\n",
        "                #print('win')\n",
        "\n",
        "                winlose.append(1)\n",
        "                for j in range(0, len(currentboard)):\n",
        "                    if currentboard[j] ==1:\n",
        "                        alldata.append(j)\n",
        "                        #this prints only the first winning arrangement\n",
        "                        if(len(alldata)<2):\n",
        "                          print(shortlist)\n",
        "                #backup and go again\n",
        "                shortlist.pop()\n",
        "            else:\n",
        "                trueloss = True\n",
        "                for k in range(0, len(movelist)):\n",
        "                    tempmove2 = movelist[k]\n",
        "                    if (currentboard[tempmove2[0]]==1 and currentboard[tempmove2[1]]==1 and currentboard[tempmove2[2]]==0):\n",
        "                        trueloss = False\n",
        "                if(trueloss):\n",
        "                    winlose.append(0)\n",
        "                    #Out of curiosity, what is the worst way to lose?\n",
        "                    if(len(shortlist)<7):\n",
        "                        asciiartboard(currentboard)\n",
        "                        print(shortlist)\n",
        "\n",
        "\n",
        "                shortlist.pop()\n",
        "\n",
        "            #Did we we win? If so append a winning move list\n",
        "            #did we lose? If so append a loss\n",
        "            currentboard[tempmove[0]]=1\n",
        "            currentboard[tempmove[1]]=1\n",
        "            currentboard[tempmove[2]]=0\n",
        "\n",
        "    return shortlist,winlose,alldata\n",
        "\n",
        "'''\n",
        "      0\n",
        "    1   2\n",
        "   3  4  5\n",
        "  6  7  8  9\n",
        "10 11 12 13 14\n",
        "'''\n",
        "\n",
        "'''\n",
        "     0\n",
        "    1 1\n",
        "   1 1 1\n",
        "  1 1 1 1\n",
        " 1 1 1 1 1\n",
        "'''\n",
        "\n",
        "initialsetup = [1,1,1,1,1,1,1,1,1,1,1,1,1,1,1]\n",
        "#@title What is the empty posistion? { run: \"auto\" }\n",
        "emptyposition = 0  #@param {type: \"slider\", min: 0, max: 14}\n",
        "\n",
        "\n",
        "    #DON\"T EDIT THIS LINE\n",
        "initialsetup[emptyposition] = 0\n",
        "print(initialsetup)\n",
        "print('here')\n",
        "\n",
        "\n",
        "#MAKE A MOVE LIST\n",
        "allowablemoves = []\n",
        "allowablemoves.append([0,1,3])\n",
        "allowablemoves.append([0,2,5])\n",
        "allowablemoves.append([1,3,6])\n",
        "allowablemoves.append([1,4,8])\n",
        "allowablemoves.append([2,4,7])\n",
        "allowablemoves.append([2,5,9])\n",
        "allowablemoves.append([3,1,0])\n",
        "allowablemoves.append([3,4,5])\n",
        "allowablemoves.append([3,6,10])\n",
        "allowablemoves.append([3,7,12])\n",
        "allowablemoves.append([4,7,11])\n",
        "allowablemoves.append([4,8,13])\n",
        "allowablemoves.append([5,2,0])\n",
        "allowablemoves.append([5,4,3])\n",
        "allowablemoves.append([5,8,12])\n",
        "allowablemoves.append([5,9,14])\n",
        "allowablemoves.append([6,3,1])\n",
        "allowablemoves.append([6,7,8])\n",
        "allowablemoves.append([7,4,2])\n",
        "allowablemoves.append([7,8,9])\n",
        "allowablemoves.append([8,4,1])\n",
        "allowablemoves.append([8,7,6])\n",
        "allowablemoves.append([9,5,2])\n",
        "allowablemoves.append([9,8,7])\n",
        "allowablemoves.append([10,6,3])\n",
        "allowablemoves.append([10,11,12])\n",
        "allowablemoves.append([11,7,4])\n",
        "allowablemoves.append([11,12,13])\n",
        "allowablemoves.append([12,7,3])\n",
        "allowablemoves.append([12,8,5])\n",
        "allowablemoves.append([12,11,10])\n",
        "allowablemoves.append([12,13,14])\n",
        "allowablemoves.append([13,8,4])\n",
        "allowablemoves.append([13,12,11])\n",
        "allowablemoves.append([14,9,5])\n",
        "allowablemoves.append([14,13,12])\n",
        "\n",
        "win = False\n",
        "#attemptmove(initialsetup,allowablemoves)\n",
        "currentboard = initialsetup\n",
        "shortlist = []\n",
        "alldata = []\n",
        "winlose = []\n",
        "shortlist, winlose, alldata = attemptmove(currentboard,allowablemoves,shortlist,winlose, alldata)\n",
        "print(len(winlose))\n",
        "print(sum(winlose))\n",
        "print('made it here')\n",
        "\n",
        "\n",
        "\n",
        "\n",
        "print('What position does the last peg end up?')\n",
        "print(alldata.count(0))\n",
        "print(alldata.count(1))\n",
        "print(alldata.count(2))\n",
        "print(alldata.count(3))\n",
        "print(alldata.count(4))\n",
        "print(alldata.count(5))\n",
        "print(alldata.count(6))\n",
        "print(alldata.count(7))\n",
        "print(alldata.count(8))\n",
        "print(alldata.count(9))\n",
        "print(alldata.count(10))\n",
        "print(alldata.count(11))\n",
        "print(alldata.count(12))\n",
        "print(alldata.count(13))\n",
        "print(alldata.count(14))"
      ],
      "metadata": {
        "colab": {
          "base_uri": "https://localhost:8080/"
        },
        "id": "PCOHVlHMnP72",
        "outputId": "9cc75893-7216-4227-d0e2-5fe0dc1629fe"
      },
      "execution_count": 16,
      "outputs": [
        {
          "output_type": "stream",
          "name": "stdout",
          "text": [
            "[0, 1, 1, 1, 1, 1, 1, 1, 1, 1, 1, 1, 1, 1, 1]\n",
            "here\n",
            "[[3, 1, 0], [5, 4, 3], [0, 2, 5], [6, 3, 1], [9, 5, 2], [11, 7, 4], [12, 8, 5], [1, 4, 8], [2, 5, 9], [14, 9, 5], [5, 8, 12], [13, 12, 11], [10, 11, 12]]\n",
            "    0\n",
            "   0 0\n",
            "  1 1 1\n",
            " 0 0 0 0\n",
            "1 1 1 1 1\n",
            "[[3, 1, 0], [12, 7, 3], [9, 8, 7], [6, 7, 8], [5, 8, 12], [0, 2, 5]]\n",
            "    0\n",
            "   0 0\n",
            "  1 1 1\n",
            " 0 0 0 0\n",
            "1 1 1 1 1\n",
            "[[5, 2, 0], [12, 8, 5], [6, 7, 8], [9, 8, 7], [3, 7, 12], [0, 1, 3]]\n",
            "568630\n",
            "29760\n",
            "made it here\n",
            "What position does the last peg end up?\n",
            "6816\n",
            "0\n",
            "0\n",
            "0\n",
            "0\n",
            "0\n",
            "3408\n",
            "0\n",
            "0\n",
            "3408\n",
            "0\n",
            "0\n",
            "16128\n",
            "0\n",
            "0\n"
          ]
        }
      ]
    },
    {
      "cell_type": "markdown",
      "source": [
        "# 4.4 Making our own Aligner (not optimized)\n",
        "We will use the Needleman Wunsch algorithm to demonstrate.\n",
        "\n",
        "There are many options for DNA alignment and algorithms can be highly optimized\n",
        "\n",
        "This algorith is for demonstration only\n"
      ],
      "metadata": {
        "id": "jCa6gT6Uoe1K"
      }
    },
    {
      "cell_type": "code",
      "source": [
        "#This function prints an ascii version of our aligment for easier reading\n",
        "def printasciialign(seqpath1, seqpath2):\n",
        "  align_str = ''\n",
        "  for i in range(0,len(seqpath1)):\n",
        "    if(seqpath1[i]!=seqpath2[i]):\n",
        "      align_str=align_str+'#'\n",
        "    else:\n",
        "      align_str=align_str+'|'\n",
        "  print(seqpath1)\n",
        "  print(align_str)\n",
        "  print(seqpath2)\n",
        "\n",
        "\n",
        "#This function prints an ascii version of our grid for easier reading\n",
        "def printascii(SW_matrix,seq1,seq2):\n",
        "    tempstring = '     '\n",
        "    for i in range(0,len(seq1)):\n",
        "        tempstring = tempstring + '  '+seq1[i]\n",
        "    print(tempstring)\n",
        "    for i in range(0,len(SW_matrix)):\n",
        "        if(i ==0):\n",
        "            tempstring = '  '\n",
        "            for j in range(0,len(SW_matrix[0])):\n",
        "                if(SW_matrix[i][j]<10):\n",
        "                  tempstring = tempstring+'  '+str(SW_matrix[i][j])\n",
        "                else:\n",
        "                  tempstring = tempstring+' '+str(SW_matrix[i][j])\n",
        "        else:\n",
        "            tempstring = seq2[i-1]+' '\n",
        "            for j in range(0,len(SW_matrix[0])):\n",
        "              if(SW_matrix[i][j]<10):\n",
        "                tempstring = tempstring+'  '+str(SW_matrix[i][j])\n",
        "              else:\n",
        "                tempstring = tempstring+' '+str(SW_matrix[i][j])\n",
        "        print(tempstring)\n",
        "#This function is the recursive function that seeks to optimize the aligment\n",
        "#score based on the paramaters we provided\n",
        "\n",
        "def findpath(SW_matrix, max_i, max_j, path1, path2,seq1,seq2):\n",
        "    print('current pos: '+str(max_i)+' '+str(max_j)+' score: '+str(SW_matrix[max_i][max_j]))\n",
        "    print(path1)\n",
        "    print(path2)\n",
        "    if(max_i == 0 or max_j==0):\n",
        "        print('hit the end')\n",
        "        return path1,path2\n",
        "    else:\n",
        "        #diaganal is best\n",
        "        if(SW_matrix[max_i-1][max_j-1]>=SW_matrix[max_i][max_j-1]and SW_matrix[max_i-1][max_j-1]>= SW_matrix[max_i-1][max_j]):\n",
        "            print('move diag')\n",
        "            path1 = seq1[max_i-1] + path1\n",
        "            path2 = seq2[max_j-1]+ path2\n",
        "            path1,path2 = findpath(SW_matrix, max_i-1, max_j-1, path1, path2,seq1,seq2)\n",
        "\n",
        "        elif(SW_matrix[max_i][max_j-1]>SW_matrix[max_i-1][max_j]):\n",
        "            print('move up')\n",
        "            path1 = '-'+path1\n",
        "            path2 = seq2[max_j-1]+ path2\n",
        "            path1,path2 = findpath(SW_matrix, max_i, max_j-1, path1, path2,seq1,seq2)\n",
        "        else:\n",
        "            print('move left')\n",
        "            path1 = seq1[max_i-1] + path1\n",
        "            path2 = '-'+path2\n",
        "\n",
        "            path1,path2 = findpath(SW_matrix, max_i-1, max_j, path1, path2,seq1,seq2)\n",
        "\n",
        "    print('returning')\n",
        "    return path1,path2\n",
        "\n",
        "\n",
        "#SW version of Needleman–Wunsch algorithm\n",
        "#No libraries allowed\n",
        "#@title Comparing sequences { run: \"auto\" }\n",
        "\n",
        "#@markdown What paramaters do you want to change?{ run: \"auto\" }\n",
        "match_par = 3  #@param {type: \"number\"}\n",
        "mismatch = -3  #@param {type: \"number\"}\n",
        "gap = -3  #@param {type: \"number\"}\n",
        "\n",
        "#@markdown What sequences do you want to compare?{ run: \"auto\" }\n",
        "seq1 = \"GGTTGACTAGTCTGTTCCTTTC\" #@param {type:\"string\"}\n",
        "seq2 = \"GGTTGACTCTGTTCCTTTCATG\" #@param {type:\"string\"}\n",
        "# --- Form ends here --- #\n",
        "\n",
        "m = len(seq1)\n",
        "n = len(seq2)\n",
        "SW_matrix = [[0 for i in range(n+1)] for j in range(m+1)]\n",
        "\n",
        "max_score = 0\n",
        "max_i = 0\n",
        "max_j = 0\n",
        "for i in range(1, m+1):\n",
        "    for j in range(1,n+1):\n",
        "        if(seq1[i-1]==seq2[j-1]):\n",
        "            score = match_par\n",
        "        else:\n",
        "            score = mismatch\n",
        "\n",
        "        diag_score = SW_matrix[i-1][j-1] + score\n",
        "        up_score   = SW_matrix[i-1][j] + gap\n",
        "        left_score = SW_matrix[i][j-1] + gap\n",
        "        newscore = max(0,diag_score,up_score,left_score)\n",
        "        SW_matrix[i][j]= max(0,diag_score,up_score,left_score)\n",
        "        if(newscore > max_score):\n",
        "            max_score = newscore\n",
        "            max_i = i\n",
        "            max_j = j\n",
        "        #printascii(SW_matrix,seq2,seq1)\n",
        "        #input('enter')\n",
        "print(max_score)\n",
        "printascii(SW_matrix,seq2,seq1)\n",
        "path1 = ''\n",
        "path2 = ''\n",
        "path1, path2 = findpath(SW_matrix, max_i, max_j,path1,path2,seq1,seq2)\n",
        "printasciialign(path1, path2)"
      ],
      "metadata": {
        "id": "I9nRF0l-ojVW"
      },
      "execution_count": null,
      "outputs": []
    },
    {
      "cell_type": "markdown",
      "source": [
        "#4.5 Using Biopython for alignment"
      ],
      "metadata": {
        "id": "Xm26TegTooaa"
      }
    },
    {
      "cell_type": "markdown",
      "source": [
        "## 4.5.1 Installing with pip. Importing some of the features\n",
        "Read more: https://biopython.org/"
      ],
      "metadata": {
        "id": "wSq6x1GEoq85"
      }
    },
    {
      "cell_type": "code",
      "source": [
        "#Uncomment this line the first time\n",
        "!pip install biopython\n",
        "\n",
        "import Bio\n",
        "from Bio import AlignIO\n",
        "from Bio import pairwise2\n",
        "from Bio.pairwise2 import format_alignment\n",
        "from Bio.Seq import Seq\n",
        "#This line makes sure it works\n",
        "print(\"Biopython version:\", Bio.__version__)"
      ],
      "metadata": {
        "colab": {
          "base_uri": "https://localhost:8080/"
        },
        "id": "tVj5x9eNooFP",
        "outputId": "671dc468-b472-452d-ecba-5041bab5c48d"
      },
      "execution_count": 1,
      "outputs": [
        {
          "output_type": "stream",
          "name": "stdout",
          "text": [
            "Collecting biopython\n",
            "  Downloading biopython-1.83-cp310-cp310-manylinux_2_17_x86_64.manylinux2014_x86_64.whl (3.1 MB)\n",
            "\u001b[2K     \u001b[90m━━━━━━━━━━━━━━━━━━━━━━━━━━━━━━━━━━━━━━━━\u001b[0m \u001b[32m3.1/3.1 MB\u001b[0m \u001b[31m17.1 MB/s\u001b[0m eta \u001b[36m0:00:00\u001b[0m\n",
            "\u001b[?25hRequirement already satisfied: numpy in /usr/local/lib/python3.10/dist-packages (from biopython) (1.25.2)\n",
            "Installing collected packages: biopython\n",
            "Successfully installed biopython-1.83\n",
            "Biopython version: 1.83\n"
          ]
        },
        {
          "output_type": "stream",
          "name": "stderr",
          "text": [
            "/usr/local/lib/python3.10/dist-packages/Bio/pairwise2.py:278: BiopythonDeprecationWarning: Bio.pairwise2 has been deprecated, and we intend to remove it in a future release of Biopython. As an alternative, please consider using Bio.Align.PairwiseAligner as a replacement, and contact the Biopython developers if you still need the Bio.pairwise2 module.\n",
            "  warnings.warn(\n"
          ]
        }
      ]
    },
    {
      "cell_type": "markdown",
      "source": [
        "## 4.5.2 Other tools in biopython"
      ],
      "metadata": {
        "id": "YzketeOuozCe"
      }
    },
    {
      "cell_type": "code",
      "source": [
        "# --- Form starts here --- #\n",
        "#@title What is the sequence you transcribe and translate? { run: \"auto\" }\n",
        "mySeq = \"ATGATGCAGGTGTAA\" #@param {type:\"string\"}\n",
        "# --- Form ends here --- #\n",
        "\n",
        "#mySeq now is a string. To use Biopthon, we need it to be a sequence object like this:\n",
        "mySeq2 = Seq(mySeq)\n",
        "\n",
        "#You can find a seqeunce within a sequence (the first instance)\n",
        "print(\"I found an ATG at positition : \"+str(mySeq2.find(\"ATG\")))\n",
        "\n",
        "#Count the number of bases\n",
        "print(\"There are a total of \"+str(mySeq2.count(\"A\"))+ \" instances of A\")\n",
        "\n",
        "#Important note, this is a non-overlapping count\n",
        "print(\"There are a total of \" + str(Seq(\"AAAA\").count(\"AA\")) + \" counts of AA\")\n",
        "\n",
        "#Transcribe\n",
        "myRNA = mySeq2.transcribe()\n",
        "print(\"The RNA is: \"+myRNA)\n",
        "\n",
        "#Reverse Complement\n",
        "mySeq2_RC = mySeq2.reverse_complement()\n",
        "print(\"The reverse complement is: \"+mySeq2_RC)\n",
        "\n",
        "#You can also translate DNA (or RNA). Assumed to be coding strand\n",
        "coding_dna = Seq(\"ATGGCCATTGTAATGGGCCGCTGAAAGGGTGCCCGATAG\")\n",
        "myPro = mySeq2.translate()\n",
        "print(\"My protein: \"+myPro)"
      ],
      "metadata": {
        "id": "4spqf2qSo3dS"
      },
      "execution_count": null,
      "outputs": []
    },
    {
      "cell_type": "markdown",
      "source": [
        "##4.5.3 DNA alignment in biopython"
      ],
      "metadata": {
        "id": "zM9Fg_3yo6aZ"
      }
    },
    {
      "cell_type": "code",
      "source": [
        "seq1 = Seq(\"ATGTCTGTCTAG\")\n",
        "seq2 = Seq(\"ATGTCTCTAG\")\n",
        "alignments = pairwise2.align.globalxx(seq1, seq2)\n",
        "for alignment in alignments:\n",
        "    print(format_alignment(*alignment))\n",
        "\n",
        "seq1 = Seq(\"GGTTGACTAGTCTGTTCCTTTC\")\n",
        "seq2 = Seq(\"TGGGGAGTCCCTGCCACACTCAGTCCCCCACCACACTGAATCTCCCCTCCTCACAGTTGCCATGTAGACCCCTTGGGTTGACTAGTCTGTTCCTTTCCCGCACCTTGTCATGTACCATCAATAAAGTACCCTGTGCTCAACCA\")\n",
        "alignments = pairwise2.align.globalxx(seq1, seq2)\n",
        "for alignment in alignments:\n",
        "    print(format_alignment(*alignment))\n",
        "\n",
        "#CODE  DESCRIPTION\n",
        "#x     No parameters. Identical characters have score of 1, otherwise 0.\n",
        "#m     A match score is the score of identical chars, otherwise mismatch\n",
        "#      score.\n",
        "#d     A dictionary returns the score of any pair of characters.\n",
        "#c     A callback function returns scores.\n",
        "\n",
        "#CODE  DESCRIPTION\n",
        "#x     No gap penalties.\n",
        "#s     Same open and extend gap penalties for both sequences.\n",
        "#d     The sequences have different open and extend gap penalties.\n",
        "#c     A callback function returns the gap penalties.\n",
        "\n",
        "#Change settings to decrease gap extending penalty\n",
        "seq1 = Seq(\"GGTTGACTAGTCTGTTCCTTTC\")\n",
        "seq2 = Seq(\"TGGGGAGTCCCTGCCACACTCAGTCCCCCACCACACTGAATCTCCCCTCCTCACAGTTGCCATGTAGACCCCTTGGGTTGACTAGTCTGTTCCTTTCCCGCACCTTGTCATGTACCATCAATAAAGTACCCTGTGCTCAACCA\")\n",
        "#2 points for match, minus one for mismatch,, -.5 for opening a gap, -.1 for extending the gap\n",
        "alignments = pairwise2.align.globalms(seq1, seq2,2, -1, -.5, -.1)\n",
        "for alignment in alignments:\n",
        "    print(format_alignment(*alignment))\n",
        "\n",
        "#Try a semi-global\n",
        "alignments = pairwise2.align.globalms(seq1, seq2,2, -1, -1, -1, penalize_end_gaps=(False, False))\n",
        "for alignment in alignments:\n",
        "    print(format_alignment(*alignment))\n",
        "\n",
        "#Local alignment\n",
        "alignments = pairwise2.align.localms(seq1,seq2, 2, -1, -3, -3)\n",
        "for alignment in alignments:\n",
        "    print(format_alignment(*alignment))\n",
        "\n",
        "\n",
        "seq1 = Seq(\"GENEEDITINGISMYEASIESTCLASS\")\n",
        "seq2 = Seq(\"GENEEDITINGISNTEASYASACLASS\")\n",
        "alignments = pairwise2.align.localms(seq1,seq2, 2, -1, -3, -3)\n",
        "for alignment in alignments:\n",
        "    print(format_alignment(*alignment))"
      ],
      "metadata": {
        "id": "zKuKUDS7o96C"
      },
      "execution_count": null,
      "outputs": []
    },
    {
      "cell_type": "markdown",
      "source": [
        "# 4.6 Homework 4"
      ],
      "metadata": {
        "id": "vuoY5M-3pHpv"
      }
    },
    {
      "cell_type": "markdown",
      "source": [
        "# 4.6.1 New plasmid sequence\n",
        "\n",
        "Put your new plasmid sequence here\n"
      ],
      "metadata": {
        "id": "ckkIPpsdpK3O"
      }
    },
    {
      "cell_type": "markdown",
      "source": [
        "## 4.6.2 HW4 Problem 2\n",
        "Working for the CDC, you receive the following two sequences from respiratory samples. Can you identify what amino acids substitutions exist between wild type and patient 001?\n",
        "\n",
        "```\n",
        ">sequence of unknown illness wild type\n",
        "GGCGAGAACGAGGAGGACATCACCATCAACGGCATCAGCATGTACGAGGCCAGCATCGAGAGCACCTGCCTGGCCAGCAGC\n",
        ">sequence of unknown illness patient 001\n",
        "GGCGAGAACGAGGAGGACATCACCATCAACGGCATCAGCAACACCGAGGCCAGCTACGCCAGCGCCTGCCTGGCCAGCAGC\n",
        "```\n",
        "\n",
        "*Hints:*\n",
        "* Write your answers as A###Y where A is the amino acid of the wild type, ### is the position within the amino acid sequence and Y is the amino acid of patient 001.\n",
        "\n",
        "* Assume the sequence starts at 1 which is a GGC = Glycine or G.\n",
        "* We will assume only substitutions and no gaps.\n",
        "* If using python or matlab for your alignment, heavily penalize gaps:   \n",
        " * Python: alignments = pairwise2.align.localms(seq1,seq2, 2, -1, -3, -3)\n",
        " * MATLAB: [Score, Alignment] = swalign(seq1,seq2, 'GapOpen',20)\n",
        "\n",
        "\n",
        "\n",
        "<center>\n",
        "\n",
        "| Amino acid substitution #      | Substitution |\n",
        "| :-: | :-: |\n",
        "| 1      | A007Y (example)       |\n",
        "| 2   |         |\n",
        "| 3      |        |\n",
        "| 4   |         |\n",
        "| 5      |        |\n",
        "| 6   |         |\n",
        "</center>"
      ],
      "metadata": {
        "id": "AcI4kMehpWNH"
      }
    },
    {
      "cell_type": "markdown",
      "source": [
        "## 4.6.3 HW4 Problem 3\n",
        "\n",
        "Show below an alignment of your cDNA with the cDNA from the mouse analog gene. If you aren't working with a human gene, you can pick another analogous gene (additional copy or similar organism)\n",
        "\n",
        "If your gene is very large, you can use a single exon instead.\n",
        "\n",
        "Here is an example:\n",
        "\n",
        "This is an exon from TP53(human):\n",
        "\n",
        "CTGGAGTCTTCCAGTGTGATGATGGTGAGGATGGGCCTCCGGTTCATGC\n",
        "CGCCCATGCAGGAACTGTTACACATGTAGTTGTAGTGGATGGTGGTACAG\n",
        "TCAGAGCCAAC\n",
        "\n",
        "\n",
        "I'll BLAT this sequence against mouse to find the analogous exon\n",
        "\n",
        "GCCGGCTCTGAGTATACCACCATCCACTACAAGTACATGTGTAATAGCT\n",
        "CCTGCATGGGGGGCATGAACCGCCGACCTATCCTTACCATCATCACACTG\n",
        "GAAGACTCCAG\n",
        "\n",
        "Now I'll align these two sequences using biopython"
      ],
      "metadata": {
        "id": "PfxOA-jhrniP"
      }
    },
    {
      "cell_type": "code",
      "source": [
        "seq1 = Seq(\"CTGGAGTCTTCCAGTGTGATGATGGTGAGGATGGGCCTCCGGTTCATGCCGCCCATGCAGGAACTGTTACACATGTAGTTGTAGTGGATGGTGGTACAGTCAGAGCCAAC\")\n",
        "seq2 = Seq(\"GCCGGCTCTGAGTATACCACCATCCACTACAAGTACATGTGTAATAGCTCCTGCATGGGGGGCATGAACCGCCGACCTATCCTTACCATCATCACACTGGAAGACTCCAG\")\n",
        "\n",
        "alignments = pairwise2.align.globalms(seq1, seq2,2, -1, -.5, -.1)\n",
        "\n",
        "#this will print just the top scoring alignment\n",
        "alignment = alignments[0]\n",
        "print(format_alignment(*alignment))\n",
        "\n",
        "#This will print all alignments\n",
        "#for alignment in alignments:\n",
        "#    print(format_alignment(*alignment))\n",
        "\n",
        "#notice that didn't go well\n",
        "\n",
        "#Let's try reverse complementing the sequence\n",
        "seq2RC = seq2.reverse_complement()\n",
        "\n",
        "alignments = pairwise2.align.globalms(seq1, seq2RC,2, -1, -.5, -.1)\n",
        "\n",
        "#this will print just the top scoring alignment\n",
        "alignmentRC = alignments[0]\n",
        "print(format_alignment(*alignmentRC))\n",
        "\n",
        "#for alignment in alignments:\n",
        "#    print(format_alignment(*alignment))"
      ],
      "metadata": {
        "colab": {
          "base_uri": "https://localhost:8080/"
        },
        "id": "baIlMh-UrxLH",
        "outputId": "3f105971-8780-4f69-d9dd-489b5b5dd68d"
      },
      "execution_count": 2,
      "outputs": [
        {
          "output_type": "stream",
          "name": "stdout",
          "text": [
            "-------CTGGAGT-------CT-TCCAG-T----GTGATG-ATGGTG----AG-----G-ATGGGCCTCCGGTT-CATG--CCGC---CC-ATGCAGGAACTGTTACACATGT-AGTTGT---AG-TGGATGGTG-GTACAGTC-AGAGCCAAC\n",
            "       || ||||       |  ||||  |    || |   || |||    ||     | |||||     ||   ||||  ||||   || || |     |  |||| ||  | |    |   |  ||||      | ||  || ||       \n",
            "GCCGGCTCT-GAGTATACCACC-ATCCA-CTACAAGT-A--CAT-GTGTAATAGCTCCTGCATGGG-----GG--GCATGAACCGCCGACCTAT-C-----C--TTAC-CA--TCA----TCACA-CTGGA-----AG-AC--TCCAG-------\n",
            "  Score=106.2\n",
            "\n",
            "CTGGAGTCTTCCAGTGTGATGATGGTGA-GGAT-GGGCCTC--CGGTTCATGCCGCCC-ATGCAGGAA-CTG-TTACACATGTAG-TTGTAGTGGATGGTGG--TACAGTCAGAGCCAA--C\n",
            "|||||||||||||||||||||||||| | |||| ||   ||  ||||||||||| ||| ||||||| | ||  |||||||||||  ||||||||||||||||  |||  ||||||||    |\n",
            "CTGGAGTCTTCCAGTGTGATGATGGT-AAGGATAGG---TCGGCGGTTCATGCC-CCCCATGCAGG-AGCT-ATTACACATGTA-CTTGTAGTGGATGGTGGTATAC--TCAGAGCC--GGC\n",
            "  Score=186.8\n",
            "\n"
          ]
        }
      ]
    }
  ]
}