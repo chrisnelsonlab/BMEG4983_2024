{
  "nbformat": 4,
  "nbformat_minor": 0,
  "metadata": {
    "colab": {
      "provenance": [],
      "toc_visible": true,
      "authorship_tag": "ABX9TyN1/piMimj+PyVxAGbM8ws1",
      "include_colab_link": true
    },
    "kernelspec": {
      "name": "python3",
      "display_name": "Python 3"
    },
    "language_info": {
      "name": "python"
    }
  },
  "cells": [
    {
      "cell_type": "markdown",
      "metadata": {
        "id": "view-in-github",
        "colab_type": "text"
      },
      "source": [
        "<a href=\"https://colab.research.google.com/github/chrisnelsonlab/BMEG4983_2024/blob/main/W3_BMEG4983_2024.ipynb\" target=\"_parent\"><img src=\"https://colab.research.google.com/assets/colab-badge.svg\" alt=\"Open In Colab\"/></a>"
      ]
    },
    {
      "cell_type": "code",
      "execution_count": null,
      "metadata": {
        "id": "mplyiSTWeaKl"
      },
      "outputs": [],
      "source": []
    },
    {
      "cell_type": "markdown",
      "source": [
        "<img src=https://brand.uark.edu/_resources/images/UA_Logo_Horizontal.jpg width=\"400\" height=\"96\">\n",
        "\n",
        "####BMEG 4983 - Genome Engineering and Synthetic Biology -\n",
        "####For more information, check out the Nelson lab for Therapeutic Genome Engineering (https://nelsonlab.uark.edu/)\n",
        "\n",
        "#3. Data Workshop 3 - Open Reading frames, cDNA, and cloning\n",
        "Update for 2024\n",
        "\n",
        "\n",
        "The goal for today is to find your cDNA sequence, find the largest open reading frame, and find the amino acid sequence.  file and design CRISPR gRNAs that tile the whole sequence (Every available PAM). This will combine our previous two lessons in using python, data I/O, and handling sequence data."
      ],
      "metadata": {
        "id": "HWx7tGaGea7E"
      }
    },
    {
      "cell_type": "markdown",
      "source": [
        "# 3.1 Outline\n",
        "\n",
        "\n",
        "*   3.2 Data Input - We need to get our cDNA sequence into the computer, manual option\n",
        "*   3.3 Data Input - using biopython\n",
        "*   3.4 Finding an open reading frame\n",
        "*   3.5 Translating\n",
        "*   3.6 Designing primers for cloning\n"
      ],
      "metadata": {
        "id": "p82bSxwCfFYr"
      }
    },
    {
      "cell_type": "markdown",
      "source": [
        "# 3.2 cDNA sequence aquisition option 1 - manual\n",
        "\n",
        "Go to NCBI (or google your gene name + NCBI)\n",
        "\n",
        "<img src=\"https://github.com/chrisnelsonlab/BMEG4983_2024/blob/main/NCBI1.png?raw=true\">\n",
        "\n",
        "You should see a page like this. You need to find the RNA isoform that you want.\n",
        "\n",
        "Scorlling way down, I find a list of RNA isoforms. See the NM_000546.6? That is what I want. Click on that\n",
        "\n",
        "<img src=\"https://github.com/chrisnelsonlab/BMEG4983_2024/blob/main/NCBI2.png?raw=true\">\n",
        "\n",
        "You land on a page that looks like this. you can pick up the sequence with the FASTA button\n",
        "\n",
        "\n",
        "<img src=\"https://github.com/chrisnelsonlab/BMEG4983_2024/blob/main/NCBI3.png?raw=true\">\n",
        "\n",
        "\n",
        "Finally I obtain:\n",
        "```\n",
        ">NM_000546.6 Homo sapiens tumor protein p53 (TP53), transcript variant 1, mRNA\n",
        "CTCAAAAGTCTAGAGCCACCGTCCAGGGAGCAGGTAGCTGCTGGGCTCCGGGGACACTTTGCGTTCGGGC\n",
        "TGGGAGCGTGCTTTCCACGACGGTGACACGCTTCCCTGGATTGGCAGCCAGACTGCCTTCCGGGTCACTG\n",
        "CCATGGAGGAGCCGCAGTCAGATCCTAGCGTCGAGCCCCCTCTGAGTCAGGAAACATTTTCAGACCTATG\n",
        "GAAACTACTTCCTGAAAACAACGTTCTGTCCCCCTTGCCGTCCCAAGCAATGGATGATTTGATGCTGTCC\n",
        "CCGGACGATATTGAACAATGGTTCACTGAAGACCCAGGTCCAGATGAAGCTCCCAGAATGCCAGAGGCTG\n",
        "CTCCCCCCGTGGCCCCTGCACCAGCAGCTCCTACACCGGCGGCCCCTGCACCAGCCCCCTCCTGGCCCCT\n",
        "GTCATCTTCTGTCCCTTCCCAGAAAACCTACCAGGGCAGCTACGGTTTCCGTCTGGGCTTCTTGCATTCT\n",
        "GGGACAGCCAAGTCTGTGACTTGCACGTACTCCCCTGCCCTCAACAAGATGTTTTGCCAACTGGCCAAGA\n",
        "CCTGCCCTGTGCAGCTGTGGGTTGATTCCACACCCCCGCCCGGCACCCGCGTCCGCGCCATGGCCATCTA\n",
        "CAAGCAGTCACAGCACATGACGGAGGTTGTGAGGCGCTGCCCCCACCATGAGCGCTGCTCAGATAGCGAT\n",
        "GGTCTGGCCCCTCCTCAGCATCTTATCCGAGTGGAAGGAAATTTGCGTGTGGAGTATTTGGATGACAGAA\n",
        "ACACTTTTCGACATAGTGTGGTGGTGCCCTATGAGCCGCCTGAGGTTGGCTCTGACTGTACCACCATCCA\n",
        "CTACAACTACATGTGTAACAGTTCCTGCATGGGCGGCATGAACCGGAGGCCCATCCTCACCATCATCACA\n",
        "CTGGAAGACTCCAGTGGTAATCTACTGGGACGGAACAGCTTTGAGGTGCGTGTTTGTGCCTGTCCTGGGA\n",
        "GAGACCGGCGCACAGAGGAAGAGAATCTCCGCAAGAAAGGGGAGCCTCACCACGAGCTGCCCCCAGGGAG\n",
        "CACTAAGCGAGCACTGCCCAACAACACCAGCTCCTCTCCCCAGCCAAAGAAGAAACCACTGGATGGAGAA\n",
        "TATTTCACCCTTCAGATCCGTGGGCGTGAGCGCTTCGAGATGTTCCGAGAGCTGAATGAGGCCTTGGAAC\n",
        "TCAAGGATGCCCAGGCTGGGAAGGAGCCAGGGGGGAGCAGGGCTCACTCCAGCCACCTGAAGTCCAAAAA\n",
        "GGGTCAGTCTACCTCCCGCCATAAAAAACTCATGTTCAAGACAGAAGGGCCTGACTCAGACTGACATTCT\n",
        "CCACTTCTTGTTCCCCACTGACAGCCTCCCACCCCCATCTCTCCCTCCCCTGCCATTTTGGGTTTTGGGT\n",
        "CTTTGAACCCTTGCTTGCAATAGGTGTGCGTCAGAAGCACCCAGGACTTCCATTTGCTTTGTCCCGGGGC\n",
        "TCCACTGAACAAGTTGGCCTGCACTGGTGTTTTGTTGTGGGGAGGAGGATGGGGAGTAGGACATACCAGC\n",
        "TTAGATTTTAAGGTTTTTACTGTGAGGGATGTTTGGGAGATGTAAGAAATGTTCTTGCAGTTAAGGGTTA\n",
        "GTTTACAATCAGCCACATTCTAGGTAGGGGCCCACTTCACCGTACTAACCAGGGAAGCTGTCCCTCACTG\n",
        "TTGAATTTTCTCTAACTTCAAGGCCCATATCTGTGAAATGCTGGCATTTGCACCTACCTCACAGAGTGCA\n",
        "TTGTGAGGGTTAATGAAATAATGTACATCTGGCCTTGAAACCACCTTTTATTACATGGGGTCTAGAACTT\n",
        "GACCCCCTTGAGGGTGCTTGTTCCCTCTCCCTGTTGGTCGGTGGGTTGGTAGTTTCTACAGTTGGGCAGC\n",
        "TGGTTAGGTAGAGGGAGTTGTCAAGTCTCTGCTGGCCCAGCCAAACCCTGTCTGACAACCTCTTGGTGAA\n",
        "CCTTAGTACCTAAAAGGAAATCTCACCCCATCCCACACCCTGGAGGATTTCATCTCTTGTATATGATGAT\n",
        "CTGGATCCACCAAGACTTGTTTTATGCTCAGGGTCAATTTCTTTTTTCTTTTTTTTTTTTTTTTTTCTTT\n",
        "TTCTTTGAGACTGGGTCTCGCTTTGTTGCCCAGGCTGGAGTGGAGTGGCGTGATCTTGGCTTACTGCAGC\n",
        "CTTTGCCTCCCCGGCTCGAGCAGTCCTGCCTCAGCCTCCGGAGTAGCTGGGACCACAGGTTCATGCCACC\n",
        "ATGGCCAGCCAACTTTTGCATGTTTTGTAGAGATGGGGTCTCACAGTGTTGCCCAGGCTGGTCTCAAACT\n",
        "CCTGGGCTCAGGCGATCCACCTGTCTCAGCCTCCCAGAGTGCTGGGATTACAATTGTGAGCCACCACGTC\n",
        "CAGCTGGAAGGGTCAACATCTTTTACATTCTGCAAGCACATCTGCATTTTCACCCCACCCTTCCCCTCCT\n",
        "TCTCCCTTTTTATATCCCATTTTTATATCGATCTCTTATTTTACAATAAAACTTTGCTGCCA\n",
        "```\n",
        "\n",
        "I can put that into python as a string. Remember you can put a line break with this character \\\n",
        "```python\n",
        "seq_header = \"NM_000546.6 Homo sapiens tumor protein p53 (TP53), transcript variant 1, mRNA\"\n",
        "seq = \"CTCAAAAGTCTAGAGCCACCGTCCAGGGAGCAGGTAGCTGCTGGGCTCCGGGGACACTTTGCGTTCGGGC\\\n",
        "TGGGAGCGTGCTTTCCACGACGGTGACACGCTTCCCTGGATTGGCAGCCAGACTGCCTTCCGGGTCACTG\\\n",
        "CCATGGAGGAGCCGCAGTCAGATCCTAGCGTCGAGCCCCCTCTGAGTCAGGAAACATTTTCAGACCTATG\\\n",
        "GAAACTACTTCCTGAAAACAACGTTCTGTCCCCCTTGCCGTCCCAAGCAATGGATGATTTGATGCTGTCC\\\n",
        "CCGGACGATATTGAACAATGGTTCACTGAAGACCCAGGTCCAGATGAAGCTCCCAGAATGCCAGAGGCTG\\\n",
        "CTCCCCCCGTGGCCCCTGCACCAGCAGCTCCTACACCGGCGGCCCCTGCACCAGCCCCCTCCTGGCCCCT\\\n",
        "GTCATCTTCTGTCCCTTCCCAGAAAACCTACCAGGGCAGCTACGGTTTCCGTCTGGGCTTCTTGCATTCT\\\n",
        "GGGACAGCCAAGTCTGTGACTTGCACGTACTCCCCTGCCCTCAACAAGATGTTTTGCCAACTGGCCAAGA\\\n",
        "CCTGCCCTGTGCAGCTGTGGGTTGATTCCACACCCCCGCCCGGCACCCGCGTCCGCGCCATGGCCATCTA\\\n",
        "CAAGCAGTCACAGCACATGACGGAGGTTGTGAGGCGCTGCCCCCACCATGAGCGCTGCTCAGATAGCGAT\\\n",
        "GGTCTGGCCCCTCCTCAGCATCTTATCCGAGTGGAAGGAAATTTGCGTGTGGAGTATTTGGATGACAGAA\\\n",
        "ACACTTTTCGACATAGTGTGGTGGTGCCCTATGAGCCGCCTGAGGTTGGCTCTGACTGTACCACCATCCA\\\n",
        "CTACAACTACATGTGTAACAGTTCCTGCATGGGCGGCATGAACCGGAGGCCCATCCTCACCATCATCACA\\\n",
        "CTGGAAGACTCCAGTGGTAATCTACTGGGACGGAACAGCTTTGAGGTGCGTGTTTGTGCCTGTCCTGGGA\\\n",
        "GAGACCGGCGCACAGAGGAAGAGAATCTCCGCAAGAAAGGGGAGCCTCACCACGAGCTGCCCCCAGGGAG\\\n",
        "CACTAAGCGAGCACTGCCCAACAACACCAGCTCCTCTCCCCAGCCAAAGAAGAAACCACTGGATGGAGAA\\\n",
        "TATTTCACCCTTCAGATCCGTGGGCGTGAGCGCTTCGAGATGTTCCGAGAGCTGAATGAGGCCTTGGAAC\\\n",
        "TCAAGGATGCCCAGGCTGGGAAGGAGCCAGGGGGGAGCAGGGCTCACTCCAGCCACCTGAAGTCCAAAAA\\\n",
        "GGGTCAGTCTACCTCCCGCCATAAAAAACTCATGTTCAAGACAGAAGGGCCTGACTCAGACTGACATTCT\\\n",
        "CCACTTCTTGTTCCCCACTGACAGCCTCCCACCCCCATCTCTCCCTCCCCTGCCATTTTGGGTTTTGGGT\\\n",
        "CTTTGAACCCTTGCTTGCAATAGGTGTGCGTCAGAAGCACCCAGGACTTCCATTTGCTTTGTCCCGGGGC\\\n",
        "TCCACTGAACAAGTTGGCCTGCACTGGTGTTTTGTTGTGGGGAGGAGGATGGGGAGTAGGACATACCAGC\\\n",
        "TTAGATTTTAAGGTTTTTACTGTGAGGGATGTTTGGGAGATGTAAGAAATGTTCTTGCAGTTAAGGGTTA\\\n",
        "GTTTACAATCAGCCACATTCTAGGTAGGGGCCCACTTCACCGTACTAACCAGGGAAGCTGTCCCTCACTG\\\n",
        "TTGAATTTTCTCTAACTTCAAGGCCCATATCTGTGAAATGCTGGCATTTGCACCTACCTCACAGAGTGCA\\\n",
        "TTGTGAGGGTTAATGAAATAATGTACATCTGGCCTTGAAACCACCTTTTATTACATGGGGTCTAGAACTT\\\n",
        "GACCCCCTTGAGGGTGCTTGTTCCCTCTCCCTGTTGGTCGGTGGGTTGGTAGTTTCTACAGTTGGGCAGC\\\n",
        "TGGTTAGGTAGAGGGAGTTGTCAAGTCTCTGCTGGCCCAGCCAAACCCTGTCTGACAACCTCTTGGTGAA\\\n",
        "CCTTAGTACCTAAAAGGAAATCTCACCCCATCCCACACCCTGGAGGATTTCATCTCTTGTATATGATGAT\\\n",
        "CTGGATCCACCAAGACTTGTTTTATGCTCAGGGTCAATTTCTTTTTTCTTTTTTTTTTTTTTTTTTCTTT\\\n",
        "TTCTTTGAGACTGGGTCTCGCTTTGTTGCCCAGGCTGGAGTGGAGTGGCGTGATCTTGGCTTACTGCAGC\\\n",
        "CTTTGCCTCCCCGGCTCGAGCAGTCCTGCCTCAGCCTCCGGAGTAGCTGGGACCACAGGTTCATGCCACC\\\n",
        "ATGGCCAGCCAACTTTTGCATGTTTTGTAGAGATGGGGTCTCACAGTGTTGCCCAGGCTGGTCTCAAACT\\\n",
        "CCTGGGCTCAGGCGATCCACCTGTCTCAGCCTCCCAGAGTGCTGGGATTACAATTGTGAGCCACCACGTC\\\n",
        "CAGCTGGAAGGGTCAACATCTTTTACATTCTGCAAGCACATCTGCATTTTCACCCCACCCTTCCCCTCCT\\\n",
        "TCTCCCTTTTTATATCCCATTTTTATATCGATCTCTTATTTTACAATAAAACTTTGCTGCCA\"\n",
        "print(seq)\n",
        "```\n",
        "\n",
        "Takes a minute, but it works. If you only have one sequence to find, this will be quicker than using a programmatic interface.\n",
        "\n",
        "Bonus step: double check your sequence in BLAT. How does it align? Does it have the UTRs in there? Is it a large isoform or a shorter one?\n",
        "\n"
      ],
      "metadata": {
        "id": "ZMu4RvKbfWMB"
      }
    },
    {
      "cell_type": "markdown",
      "source": [
        "# 3.3 What about programmatically?\n",
        "\n",
        "We can use a toolbox called biopython to do a lot of tasks here\n",
        "\n",
        "```\n",
        "!pip install biopython\n",
        "```\n",
        "\n",
        "You only need to run this once, so I would leave it in it's own cell"
      ],
      "metadata": {
        "id": "yDVANX52hBkE"
      }
    },
    {
      "cell_type": "code",
      "source": [
        "!pip install biopython"
      ],
      "metadata": {
        "colab": {
          "base_uri": "https://localhost:8080/"
        },
        "id": "ziSFiUXShMNr",
        "outputId": "4e72114a-88d1-4ae0-efb7-9d1779ea97b3"
      },
      "execution_count": 1,
      "outputs": [
        {
          "output_type": "stream",
          "name": "stdout",
          "text": [
            "Collecting biopython\n",
            "  Downloading biopython-1.83-cp310-cp310-manylinux_2_17_x86_64.manylinux2014_x86_64.whl (3.1 MB)\n",
            "\u001b[2K     \u001b[90m━━━━━━━━━━━━━━━━━━━━━━━━━━━━━━━━━━━━━━━━\u001b[0m \u001b[32m3.1/3.1 MB\u001b[0m \u001b[31m9.6 MB/s\u001b[0m eta \u001b[36m0:00:00\u001b[0m\n",
            "\u001b[?25hRequirement already satisfied: numpy in /usr/local/lib/python3.10/dist-packages (from biopython) (1.23.5)\n",
            "Installing collected packages: biopython\n",
            "Successfully installed biopython-1.83\n"
          ]
        }
      ]
    },
    {
      "cell_type": "code",
      "source": [
        "from Bio import Entrez\n",
        "from Bio import SeqIO\n",
        "\n",
        "from Bio import Entrez\n",
        "Entrez.email = \"cnelsonlab@gmail.com\"  # Always tell NCBI who you are\n",
        "stream = Entrez.efetch(db=\"nucleotide\", id=\"NM_000546  \", rettype=\"gb\", retmode=\"text\")\n",
        "record = SeqIO.read(stream, \"genbank\")\n",
        "print(record.seq)"
      ],
      "metadata": {
        "colab": {
          "base_uri": "https://localhost:8080/"
        },
        "id": "Vqp2IVYghS5n",
        "outputId": "123a197b-5961-49bd-ab55-e056d7a8fe23"
      },
      "execution_count": 5,
      "outputs": [
        {
          "output_type": "stream",
          "name": "stdout",
          "text": [
            "CTCAAAAGTCTAGAGCCACCGTCCAGGGAGCAGGTAGCTGCTGGGCTCCGGGGACACTTTGCGTTCGGGCTGGGAGCGTGCTTTCCACGACGGTGACACGCTTCCCTGGATTGGCAGCCAGACTGCCTTCCGGGTCACTGCCATGGAGGAGCCGCAGTCAGATCCTAGCGTCGAGCCCCCTCTGAGTCAGGAAACATTTTCAGACCTATGGAAACTACTTCCTGAAAACAACGTTCTGTCCCCCTTGCCGTCCCAAGCAATGGATGATTTGATGCTGTCCCCGGACGATATTGAACAATGGTTCACTGAAGACCCAGGTCCAGATGAAGCTCCCAGAATGCCAGAGGCTGCTCCCCCCGTGGCCCCTGCACCAGCAGCTCCTACACCGGCGGCCCCTGCACCAGCCCCCTCCTGGCCCCTGTCATCTTCTGTCCCTTCCCAGAAAACCTACCAGGGCAGCTACGGTTTCCGTCTGGGCTTCTTGCATTCTGGGACAGCCAAGTCTGTGACTTGCACGTACTCCCCTGCCCTCAACAAGATGTTTTGCCAACTGGCCAAGACCTGCCCTGTGCAGCTGTGGGTTGATTCCACACCCCCGCCCGGCACCCGCGTCCGCGCCATGGCCATCTACAAGCAGTCACAGCACATGACGGAGGTTGTGAGGCGCTGCCCCCACCATGAGCGCTGCTCAGATAGCGATGGTCTGGCCCCTCCTCAGCATCTTATCCGAGTGGAAGGAAATTTGCGTGTGGAGTATTTGGATGACAGAAACACTTTTCGACATAGTGTGGTGGTGCCCTATGAGCCGCCTGAGGTTGGCTCTGACTGTACCACCATCCACTACAACTACATGTGTAACAGTTCCTGCATGGGCGGCATGAACCGGAGGCCCATCCTCACCATCATCACACTGGAAGACTCCAGTGGTAATCTACTGGGACGGAACAGCTTTGAGGTGCGTGTTTGTGCCTGTCCTGGGAGAGACCGGCGCACAGAGGAAGAGAATCTCCGCAAGAAAGGGGAGCCTCACCACGAGCTGCCCCCAGGGAGCACTAAGCGAGCACTGCCCAACAACACCAGCTCCTCTCCCCAGCCAAAGAAGAAACCACTGGATGGAGAATATTTCACCCTTCAGATCCGTGGGCGTGAGCGCTTCGAGATGTTCCGAGAGCTGAATGAGGCCTTGGAACTCAAGGATGCCCAGGCTGGGAAGGAGCCAGGGGGGAGCAGGGCTCACTCCAGCCACCTGAAGTCCAAAAAGGGTCAGTCTACCTCCCGCCATAAAAAACTCATGTTCAAGACAGAAGGGCCTGACTCAGACTGACATTCTCCACTTCTTGTTCCCCACTGACAGCCTCCCACCCCCATCTCTCCCTCCCCTGCCATTTTGGGTTTTGGGTCTTTGAACCCTTGCTTGCAATAGGTGTGCGTCAGAAGCACCCAGGACTTCCATTTGCTTTGTCCCGGGGCTCCACTGAACAAGTTGGCCTGCACTGGTGTTTTGTTGTGGGGAGGAGGATGGGGAGTAGGACATACCAGCTTAGATTTTAAGGTTTTTACTGTGAGGGATGTTTGGGAGATGTAAGAAATGTTCTTGCAGTTAAGGGTTAGTTTACAATCAGCCACATTCTAGGTAGGGGCCCACTTCACCGTACTAACCAGGGAAGCTGTCCCTCACTGTTGAATTTTCTCTAACTTCAAGGCCCATATCTGTGAAATGCTGGCATTTGCACCTACCTCACAGAGTGCATTGTGAGGGTTAATGAAATAATGTACATCTGGCCTTGAAACCACCTTTTATTACATGGGGTCTAGAACTTGACCCCCTTGAGGGTGCTTGTTCCCTCTCCCTGTTGGTCGGTGGGTTGGTAGTTTCTACAGTTGGGCAGCTGGTTAGGTAGAGGGAGTTGTCAAGTCTCTGCTGGCCCAGCCAAACCCTGTCTGACAACCTCTTGGTGAACCTTAGTACCTAAAAGGAAATCTCACCCCATCCCACACCCTGGAGGATTTCATCTCTTGTATATGATGATCTGGATCCACCAAGACTTGTTTTATGCTCAGGGTCAATTTCTTTTTTCTTTTTTTTTTTTTTTTTTCTTTTTCTTTGAGACTGGGTCTCGCTTTGTTGCCCAGGCTGGAGTGGAGTGGCGTGATCTTGGCTTACTGCAGCCTTTGCCTCCCCGGCTCGAGCAGTCCTGCCTCAGCCTCCGGAGTAGCTGGGACCACAGGTTCATGCCACCATGGCCAGCCAACTTTTGCATGTTTTGTAGAGATGGGGTCTCACAGTGTTGCCCAGGCTGGTCTCAAACTCCTGGGCTCAGGCGATCCACCTGTCTCAGCCTCCCAGAGTGCTGGGATTACAATTGTGAGCCACCACGTCCAGCTGGAAGGGTCAACATCTTTTACATTCTGCAAGCACATCTGCATTTTCACCCCACCCTTCCCCTCCTTCTCCCTTTTTATATCCCATTTTTATATCGATCTCTTATTTTACAATAAAACTTTGCTGCCA\n"
          ]
        }
      ]
    },
    {
      "cell_type": "markdown",
      "source": [
        "# 3.4 Finding an open reading frame (ORF)"
      ],
      "metadata": {
        "id": "boUBcK47nQvC"
      }
    },
    {
      "cell_type": "code",
      "source": [
        "#This function finds the longest sequence with an ATG to a stop codon\n",
        "#defined as TAG, TAA, or TAG. It returns the coordinates of the start and stop\n",
        "#returns as -1 if not found\n",
        "def find_largest_open_reading_frame(input_cDNA):\n",
        "  longest_orf = 0\n",
        "  orf_start = -1\n",
        "  orf_end = -1\n",
        "  for i in range(len(input_cDNA)-3):\n",
        "    if(input_cDNA[i:i+3]=='ATG'):\n",
        "      start = i;\n",
        "      for j in range(i+3, len(input_cDNA)-3, 3):\n",
        "        if(input_cDNA[j:j+3]=='TAG' or input_cDNA[j:j+3]=='TAA' or input_cDNA[j:j+3]=='TGA'):\n",
        "          stop = j\n",
        "          #print('size: = '+str(j-i)+' start: '+str(i)+' stop: '+str(j))\n",
        "          #print(seq_translate(my_transcript[i:j+3]))\n",
        "          if(j-i>longest_orf):\n",
        "            print('found a longer one')\n",
        "            longest_orf = j-i\n",
        "            orf_start = i\n",
        "            orf_end = j\n",
        "          break\n",
        "  return orf_start, orf_end\n",
        "\n",
        "#No open reading frame\n",
        "practice_seq = \"GTGGCCATTGTAATCGGCCGCTGAAAGGGTGCCCGATAG\"\n",
        "longest_start, longest_end = find_largest_open_reading_frame(practice_seq)\n",
        "print('The longest ORF has a size of: = '+str(longest_end-longest_start)+' start: '+str(longest_start)+' stop: '+str(longest_end))\n",
        "print('The amino acid sequence is:')\n",
        "print(seq_translate(practice_seq[longest_start:longest_end+3]))\n",
        "\n",
        "#version with open reading frame\n",
        "\n",
        "practice_seq = \"GTGGCCATTGTAATGGGCCGCTGAAAGGGTGCCCGATA\"\n",
        "longest_start, longest_end = find_largest_open_reading_frame(practice_seq)\n",
        "print('The longest ORF has a size of: = '+str(longest_end-longest_start)+' start: '+str(longest_start)+' stop: '+str(longest_end))\n",
        "print('The amino acid sequence is:')\n",
        "print(seq_translate(practice_seq[longest_start:longest_end+3]))"
      ],
      "metadata": {
        "colab": {
          "base_uri": "https://localhost:8080/"
        },
        "id": "3vMr7Rr7omc0",
        "outputId": "6d08af9f-b909-4f5e-f324-71aa02944b89"
      },
      "execution_count": 12,
      "outputs": [
        {
          "output_type": "stream",
          "name": "stdout",
          "text": [
            "The longest ORF has a size of: = 0 start: -1 stop: -1\n",
            "The amino acid sequence is:\n",
            "\n",
            "found a longer one\n",
            "The longest ORF has a size of: = 9 start: 12 stop: 21\n",
            "The amino acid sequence is:\n",
            "MGR_\n"
          ]
        }
      ]
    },
    {
      "cell_type": "markdown",
      "source": [
        "# 3.5 Translating"
      ],
      "metadata": {
        "id": "nxDj_fXMnY0o"
      }
    },
    {
      "cell_type": "code",
      "source": [
        "#Placeholder function for translating a sequence\n",
        "#GB - I fixed it so it doesn't thrown an error if your cDNA isn't divisble by 3\n",
        "codon_table = {\n",
        "        'ATA':'I', 'ATC':'I', 'ATT':'I', 'ATG':'M',\n",
        "        'ACA':'T', 'ACC':'T', 'ACG':'T', 'ACT':'T',\n",
        "        'AAC':'N', 'AAT':'N', 'AAA':'K', 'AAG':'K',\n",
        "        'AGC':'S', 'AGT':'S', 'AGA':'R', 'AGG':'R',\n",
        "        'CTA':'L', 'CTC':'L', 'CTG':'L', 'CTT':'L',\n",
        "        'CCA':'P', 'CCC':'P', 'CCG':'P', 'CCT':'P',\n",
        "        'CAC':'H', 'CAT':'H', 'CAA':'Q', 'CAG':'Q',\n",
        "        'CGA':'R', 'CGC':'R', 'CGG':'R', 'CGT':'R',\n",
        "        'GTA':'V', 'GTC':'V', 'GTG':'V', 'GTT':'V',\n",
        "        'GCA':'A', 'GCC':'A', 'GCG':'A', 'GCT':'A',\n",
        "        'GAC':'D', 'GAT':'D', 'GAA':'E', 'GAG':'E',\n",
        "        'GGA':'G', 'GGC':'G', 'GGG':'G', 'GGT':'G',\n",
        "        'TCA':'S', 'TCC':'S', 'TCG':'S', 'TCT':'S',\n",
        "        'TTC':'F', 'TTT':'F', 'TTA':'L', 'TTG':'L',\n",
        "        'TAC':'Y', 'TAT':'Y', 'TAA':'_', 'TAG':'_',\n",
        "        'TGC':'C', 'TGT':'C', 'TGA':'_', 'TGG':'W',\n",
        "    }\n",
        "def seq_translate(my_seq):\n",
        "  amino_acid_seq = ''\n",
        "  for i in range(0,len(my_seq),3):\n",
        "    if(len(my_seq[i:i+3])>2):\n",
        "      amino_acid_seq = amino_acid_seq + codon_table[my_seq[i:i+3]]\n",
        "    else:\n",
        "      print(\"additional nucleotides not translated, not divisible by 3 \"+str(my_seq[i:i+3]))\n",
        "  return amino_acid_seq\n",
        "\n",
        "example_AA = seq_translate('ATGTTATCGGGGTG')\n",
        "print(example_AA)"
      ],
      "metadata": {
        "colab": {
          "base_uri": "https://localhost:8080/"
        },
        "id": "VQS6XdbTnar8",
        "outputId": "98155add-0546-4f77-99c2-8f49e8ad300f"
      },
      "execution_count": 18,
      "outputs": [
        {
          "output_type": "stream",
          "name": "stdout",
          "text": [
            "additional nucleotides not translated, not divisible by 3 TG\n",
            "MLSG\n"
          ]
        }
      ]
    },
    {
      "cell_type": "markdown",
      "source": [
        "# 3.6 Cloning your CDS into a plasmid"
      ],
      "metadata": {
        "id": "u65aXfOFufgH"
      }
    },
    {
      "cell_type": "markdown",
      "source": [
        "## 3.6.1 PCR principle\n",
        "\n",
        "<img src=https://upload.wikimedia.org/wikipedia/commons/a/ab/Polymerase_chain_reaction-en.svg width=\"800\">\n",
        "Credit wiki\n",
        "\n",
        "Polymerase chain reaction works by using a DNA polymerase (copying enzyme), to directly copy a sequence of DNA. Each round, the polymerase enzymes add dNTPs (the nucleotides) extending the primer sequences (a sequence you specify)\n",
        "\n",
        "Each round you (ideally) get 2 times the input. This exponential growth allows us to make a large amount of DNA or detect very rare sequences.\n",
        "\n",
        "The two applications we will discuss today for PCR are:\n",
        "\n",
        "1. **Cloning** - use PCR to make many copies of a sequence that we need to use for bioengineering applications\n",
        "\n",
        "2. **Detection and quantification** - use PCR (or quantitative PCR) to quantify the original number of a specific gene. This can be used to tell you how frequent a specific transcript was inside a group of cells (or other genomics applications).\n"
      ],
      "metadata": {
        "id": "xtHdfbfZunM6"
      }
    },
    {
      "cell_type": "markdown",
      "source": [
        "# 3.6.2 Primer designs for cloning\n",
        "<img src=https://media.addgene.org/data/easy-thumbnails/filer_public/cms/filer_public/f4/a4/f4a45260-23ea-40bc-a7b1-4fc4526abf95/pcr-based-cloning.gif__800.0x346.0_crop_subsampling-2_upscale.png width=\"800\">\n",
        "Credit addgene\n",
        "\n",
        "\n",
        "Molecular cloning can be used to place your gene of interest (YGOI, in figure), into a plasmid DNA that can be transfected into cells to investigate the gene's function.\n",
        "\n",
        "In the figure above, a gene is being moved from a donor plasmid to a recipient plasmid. You can also use PCR to specifically amplify your gene from the RNA of the organism.\n",
        "\n",
        "We can design primers to specifically amplify our gene from the start codon (ATG) to the stop codon. Typically you will leave out the 5' and 3' untranslated regions to conserve space.\n",
        "\n",
        "We will also need to add some sequence information to each side. PCR allows us to add sequence on the 5' end of the primer. You can do this on both the forward and reverse primer. Let's work through an example:"
      ],
      "metadata": {
        "id": "kVdVh-93uqFx"
      }
    },
    {
      "cell_type": "markdown",
      "source": [
        "## 3.6.3 Primer overhangs for cloning a cDNA\n",
        "\n",
        "Let's work through GAPDH as an example. First we need the cDNA sequence for GAPDH.\n",
        "\n",
        "This is the whole sequence (including UTRs)\n",
        "```\n",
        "GCTCTCTGCTCCTCCTGTTCGACAGTCAGCCGCATCTTCTTTTGCGTCGCCAGCCGAGCC\n",
        "ACATCGCTCAGACACCATGGGGAAGGTGAAGGTCGGAGTCAACGGATTTGGTCGTATTGG\n",
        "GCGCCTGGTCACCAGGGCTGCTTTTAACTCTGGTAAAGTGGATATTGTTGCCATCAATGA\n",
        "CCCCTTCATTGACCTCAACTACATGGTTTACATGTTCCAATATGATTCCACCCATGGCAA\n",
        "ATTCCATGGCACCGTCAAGGCTGAGAACGGGAAGCTTGTCATCAATGGAAATCCCATCAC\n",
        "CATCTTCCAGGAGCGAGATCCCTCCAAAATCAAGTGGGGCGATGCTGGCGCTGAGTACGT\n",
        "CGTGGAGTCCACTGGCGTCTTCACCACCATGGAGAAGGCTGGGGCTCATTTGCAGGGGGG\n",
        "AGCCAAAAGGGTCATCATCTCTGCCCCCTCTGCTGATGCCCCCATGTTCGTCATGGGTGT\n",
        "GAACCATGAGAAGTATGACAACAGCCTCAAGATCATCAGCAATGCCTCCTGCACCACCAA\n",
        "CTGCTTAGCACCCCTGGCCAAGGTCATCCATGACAACTTTGGTATCGTGGAAGGACTCAT\n",
        "GACCACAGTCCATGCCATCACTGCCACCCAGAAGACTGTGGATGGCCCCTCCGGGAAACT\n",
        "GTGGCGTGATGGCCGCGGGGCTCTCCAGAACATCATCCCTGCCTCTACTGGCGCTGCCAA\n",
        "GGCTGTGGGCAAGGTCATCCCTGAGCTGAACGGGAAGCTCACTGGCATGGCCTTCCGTGT\n",
        "CCCCACTGCCAACGTGTCAGTGGTGGACCTGACCTGCCGTCTAGAAAAACCTGCCAAATA\n",
        "TGATGACATCAAGAAGGTGGTGAAGCAGGCGTCGGAGGGCCCCCTCAAGGGCATCCTGGG\n",
        "CTACACTGAGCACCAGGTGGTCTCCTCTGACTTCAACAGCGACACCCACTCCTCCACCTT\n",
        "TGACGCTGGGGCTGGCATTGCCCTCAACGACCACTTTGTCAAGCTCATTTCCTGGTATGA\n",
        "CAACGAATTTGGCTACAGCAACAGGGTGGTGGACCTCATGGCCCACATGGCCTCCAAGGA\n",
        "GTAAGACCCCTGGACCACCAGCCCCAGCAAGAGCACAAGAGGAAGAGAGAGACCCTCACT\n",
        "GCTGGGGAGTCCCTGCCACACTCAGTCCCCCACCACACTGAATCTCCCCTCCTCACAGTT\n",
        "GCCATGTAGACCCCTTGAAGAGGGGAGGGGCCTAGGGAGCCGCACCTTGTCATGTACCAT\n",
        "CAATAAAGTACCCTGTGCTCAACCA\n",
        "```\n",
        "From start codon to stop looks like:\n",
        "```\n",
        "ATGGGGAAGGTGAAGGTCGGAGTCAACGGATTTGGTCGTATTGGGCGCCTGGTCACCAGG\n",
        "GCTGCTTTTAACTCTGGTAAAGTGGATATTGTTGCCATCAATGACCCCTTCATTGACCTC\n",
        "AACTACATGGTTTACATGTTCCAATATGATTCCACCCATGGCAAATTCCATGGCACCGTC\n",
        "AAGGCTGAGAACGGGAAGCTTGTCATCAATGGAAATCCCATCACCATCTTCCAGGAGCGA\n",
        "GATCCCTCCAAAATCAAGTGGGGCGATGCTGGCGCTGAGTACGTCGTGGAGTCCACTGGC\n",
        "GTCTTCACCACCATGGAGAAGGCTGGGGCTCATTTGCAGGGGGGAGCCAAAAGGGTCATC\n",
        "ATCTCTGCCCCCTCTGCTGATGCCCCCATGTTCGTCATGGGTGTGAACCATGAGAAGTAT\n",
        "GACAACAGCCTCAAGATCATCAGCAATGCCTCCTGCACCACCAACTGCTTAGCACCCCTG\n",
        "GCCAAGGTCATCCATGACAACTTTGGTATCGTGGAAGGACTCATGACCACAGTCCATGCC\n",
        "ATCACTGCCACCCAGAAGACTGTGGATGGCCCCTCCGGGAAACTGTGGCGTGATGGCCGC\n",
        "GGGGCTCTCCAGAACATCATCCCTGCCTCTACTGGCGCTGCCAAGGCTGTGGGCAAGGTC\n",
        "ATCCCTGAGCTGAACGGGAAGCTCACTGGCATGGCCTTCCGTGTCCCCACTGCCAACGTG\n",
        "TCAGTGGTGGACCTGACCTGCCGTCTAGAAAAACCTGCCAAATATGATGACATCAAGAAG\n",
        "GTGGTGAAGCAGGCGTCGGAGGGCCCCCTCAAGGGCATCCTGGGCTACACTGAGCACCAG\n",
        "GTGGTCTCCTCTGACTTCAACAGCGACACCCACTCCTCCACCTTTGACGCTGGGGCTGGC\n",
        "ATTGCCCTCAACGACCACTTTGTCAAGCTCATTTCCTGGTATGACAACGAATTTGGCTAC\n",
        "AGCAACAGGGTGGTGGACCTCATGGCCCACATGGCCTCCAAGGAGTAA\n",
        "```\n",
        "\n",
        "Let's look at the area right around the start codon:\n",
        "```\n",
        "TCAGACACC ATG GGG\n",
        "```\n",
        "\n",
        "There is a conserved sequnce motif right before and after the start codon. This is called the Kozak consensus sequence.\n",
        "\n",
        "Here is a weblogo image showing the probability of a base appearing in the Kozak consensus sequence.\n",
        "<img src=https://upload.wikimedia.org/wikipedia/en/1/18/Human_Kozak_context._Version_2.png width=\"600\"> Credit wiki\n",
        "\n",
        "Notice that there is more likely to be a 'G' right after the start codon\n",
        "\n",
        "Also notice that 'ACC' is likely to appear right before. That is consistent with GAPDH that we found above.\n",
        "\n",
        "If we want to maximize expression of our gene, we should make sure to add the Kozak consensus sequence before the start codon.\n",
        "\n",
        "\n",
        "The next thing we need to add is a sequence that we can digest with restriction enzymes. This will depend on the plasmid you are using. Let's use the example provided from the addgene image above. Let's say we want to use EcoRI on the 5' end and NotI on the 3' end. Here is what those enzymes do:\n",
        "\n",
        "\n",
        "<img src=https://www.sigmaaldrich.com/deepweb/content/dam/sigma-aldrich/product5/192/ecor-i.eps/_jcr_content/renditions/ecor-i-medium.jpg width=\"400\">\n",
        "Credit sigmaaldrich\n",
        "\n",
        "\n",
        "<img src=https://www.sigmaaldrich.com/deepweb/content/dam/sigma-aldrich/product7/077/not-i.eps/_jcr_content/renditions/not-i-medium.jpg width=\"400\">\n",
        "Credit sigmaaldrich\n",
        "\n",
        "\n",
        "\n",
        "EcoRI recognizes GAATTC and then makes a cut as the red line shows. That will leave an overhang of 'AATT' that we can use to insert into the plasmid that has been digested with the same enzymes.\n",
        "\n",
        "Last, we may want to add a padding on the end. Some enzymes don't do well with digesting at the very end. We can pad our sequence with something we know. I often use another restriction site for eample 'GTTGTT' as padding.\n",
        "\n",
        "It so happens that NEB publishes ideal padding for EcoRI and NotI\n",
        "\n",
        "<img src=\"https://github.com/chrisnelsonlab/BMEG4983_2024/blob/main/EcoRI.png?raw=true\">\n",
        "\n",
        "<img src=\"https://github.com/chrisnelsonlab/BMEG4983_2024/blob/main/NotI.png?raw=true\">\n",
        "\n",
        "So the entire structure of the primers will be:\n",
        "\n",
        "Forward:[CCG][GAATTC][GCCACC][15-20 bp of your gene starting with ATG]\n",
        "\n",
        "Reverse: [AAGGAAAAAA][GCGGCCGC][15-20 bp of your gene starting with stop codon going reverse complement]\n",
        "\n",
        "Let's work through an example:\n"
      ],
      "metadata": {
        "id": "DGCKMJgtu7P1"
      }
    },
    {
      "cell_type": "code",
      "source": [
        "#We need a function to reverse complement a sequence.\n",
        "def reverse_complement(seq):\n",
        "  #Reverse\n",
        "  seq_reverse = seq[::-1]\n",
        "  #complement\n",
        "  seq_RC = seq_reverse.replace('A','t')\n",
        "  seq_RC = seq_RC.replace('T','a')\n",
        "  seq_RC = seq_RC.replace('C','g')\n",
        "  seq_RC = seq_RC.replace('G','c')\n",
        "  seq_RC = seq_RC.upper()\n",
        "  return seq_RC\n",
        "\n",
        "\n",
        "my_cDNA = 'ATGGGGAAGGTGAAGGTCGGAGTCAACGGATTTGGTCGTATTGGGCGCCTGGTCACCAGGGCTGCTTTTAACTCTGGTAAAGTGGATATTGTTGCCATCAATGACCCCTTCATTGACCTCAACTACATGGTTTACATGTTCCAATATGATTCCACCCATGGCAAATTCCATGGCACCGTCAAGGCTGAGAACGGGAAGCTTGTCATCAATGGAAATCCCATCACCATCTTCCAGGAGCGAGATCCCTCCAAAATCAAGTGGGGCGATGCTGGCGCTGAGTACGTCGTGGAGTCCACTGGCGTCTTCACCACCATGGAGAAGGCTGGGGCTCATTTGCAGGGGGGAGCCAAAAGGGTCATCATCTCTGCCCCCTCTGCTGATGCCCCCATGTTCGTCATGGGTGTGAACCATGAGAAGTATGACAACAGCCTCAAGATCATCAGCAATGCCTCCTGCACCACCAACTGCTTAGCACCCCTGGCCAAGGTCATCCATGACAACTTTGGTATCGTGGAAGGACTCATGACCACAGTCCATGCCATCACTGCCACCCAGAAGACTGTGGATGGCCCCTCCGGGAAACTGTGGCGTGATGGCCGCGGGGCTCTCCAGAACATCATCCCTGCCTCTACTGGCGCTGCCAAGGCTGTGGGCAAGGTCATCCCTGAGCTGAACGGGAAGCTCACTGGCATGGCCTTCCGTGTCCCCACTGCCAACGTGTCAGTGGTGGACCTGACCTGCCGTCTAGAAAAACCTGCCAAATATGATGACATCAAGAAGGTGGTGAAGCAGGCGTCGGAGGGCCCCCTCAAGGGCATCCTGGGCTACACTGAGCACCAGGTGGTCTCCTCTGACTTCAACAGCGACACCCACTCCTCCACCTTTGACGCTGGGGCTGGCATTGCCCTCAACGACCACTTTGTCAAGCTCATTTCCTGGTATGACAACGAATTTGGCTACAGCAACAGGGTGGTGGACCTCATGGCCCACATGGCCTCCAAGGAGTAA'\n",
        "primer_length = 15\n",
        "KOZAK= 'GCCACC'\n",
        "\n",
        "ECORI = 'GAATTC'\n",
        "NOTI = 'GCGGCCGC'\n",
        "\n",
        "PADDING_EcoRI = 'CCG'\n",
        "PADDING_NotI = 'AAGGAAAAAA'\n",
        "\n",
        "\n",
        "#Now for the reverse primer, we need to reverse complement the sequences\n",
        "my_cDNA_RC = reverse_complement(my_cDNA)\n",
        "\n",
        "\n",
        "#One thing to note is most restriction enzymes read the same backwards and forwards\n",
        "print('EcoRI is '+ECORI)\n",
        "#Reverse\n",
        "EcoRI_RC = reverse_complement(ECORI)\n",
        "print('EcoRI reverse complement is : ' +EcoRI_RC)\n",
        "print('Notice they are the same')\n",
        "print('')\n",
        "NOTI_RC = reverse_complement(NOTI)\n",
        "\n",
        "\n",
        "Forward_primer = PADDING_EcoRI+ECORI+KOZAK+my_cDNA[0:primer_length]\n",
        "Reverse_Primer = PADDING_NotI+NOTI_RC+my_cDNA_RC[0:primer_length]\n",
        "\n",
        "print('we would order the following two primers')\n",
        "print('The foward primer is: ' +Forward_primer)\n",
        "print('The reverse primer is: ' +Reverse_Primer)"
      ],
      "metadata": {
        "colab": {
          "base_uri": "https://localhost:8080/"
        },
        "id": "y3Lt798EvTNG",
        "outputId": "d8210152-c78e-40ea-8bd2-06b6a2a1eae0"
      },
      "execution_count": 20,
      "outputs": [
        {
          "output_type": "stream",
          "name": "stdout",
          "text": [
            "EcoRI is GAATTC\n",
            "EcoRI reverse complement is : GAATTC\n",
            "Notice they are the same\n",
            "\n",
            "we would order the following two primers\n",
            "The foward primer is: CCGGAATTCGCCACCATGGGGAAGGTGAAG\n",
            "The reverse primer is: AAGGAAAAAAGCGGCCGCTTACTCCTTGGAGGC\n"
          ]
        }
      ]
    },
    {
      "cell_type": "markdown",
      "source": [
        "# 3.7 Problems"
      ],
      "metadata": {
        "id": "RK013-aGkbYE"
      }
    },
    {
      "cell_type": "markdown",
      "source": [
        "# 3.7.1 What is your transcript sequence that you chose?\n",
        "Provide the identifier (e.g. NM_) as a string and the sequence as a string. You can also combine those into one biopython sequence object."
      ],
      "metadata": {
        "id": "a9bwj8c0kdu9"
      }
    },
    {
      "cell_type": "markdown",
      "source": [
        "## 3.7.2 What is the longest open reading frame from your transcript?\n",
        "\n",
        "Provide the length in nucleotides and the sequence:\n",
        "\n"
      ],
      "metadata": {
        "id": "f4EBo-SjlC_d"
      }
    },
    {
      "cell_type": "code",
      "source": [
        "#Placeholder code"
      ],
      "metadata": {
        "id": "TqzbIBxClN0u"
      },
      "execution_count": null,
      "outputs": []
    },
    {
      "cell_type": "markdown",
      "source": [
        "## 3.7.3 What is the amino acid sequence of your longest ORF from above?\n",
        "\n",
        "Provide the amino acid seqeunce below\n",
        "\n",
        "Hint, you can use biopython to do this as well\n",
        "\n",
        "```python\n",
        "coding_dna = Seq(\"GTGGCCATTGTAATGGGCCGCTGAAAGGGTGCCCGATAG\")\n",
        "\n",
        "#Basic method, * is stop\n",
        "coding_dna.translate()\n",
        "output:\n",
        "Seq('VAIVMGR*KGAR*', HasStopCodon(ExtendedIUPACProtein(), '*'))\n",
        "\n",
        "#Use a different stop symbol\n",
        "coding_dna.translate(stop_symbol=\"@\")\n",
        "output:\n",
        "Seq('VAIVMGR@KGAR@', HasStopCodon(ExtendedIUPACProtein(), '@'))\n",
        "\n",
        "\n",
        "#Stop at the stop codon\n",
        "coding_dna.translate(to_stop=True)\n",
        "output:\n",
        "Seq('VAIVMGR', ExtendedIUPACProtein())\n",
        "```"
      ],
      "metadata": {
        "id": "Mq7yqDvulPji"
      }
    },
    {
      "cell_type": "markdown",
      "source": [
        "## 3.7.4 Design primers to clone your CDS into a plasmid\n",
        "\n",
        "Assuming you have access to reverse transcribed RNA, design primers that\n",
        "specifically amplify the coding sequence with the following stipulations:\n",
        "\n",
        "1. You want to add the KOZAK consensus sequence onto the front right before your \"ATG\". So that your start codon will look like GCCACCATG\n",
        "\n",
        "```\n",
        "Kozak = \"GCCACC\"\n",
        "```\n",
        "\n",
        "2. You want to add a EcoRI site onto the 5' side\n",
        "\n",
        "3. You want to add an NotI site onto the 3' side\n",
        "\n",
        "4. Add some padding to your primers on the 5' end of each. This improves digestion\n",
        "\n",
        "For EcoRI add \"CCG\" on the 5' side\n",
        "\n",
        "For NotI add \"AAGGAAAAAA\" on the 5' side"
      ],
      "metadata": {
        "id": "IOioLadmrcCX"
      }
    }
  ]
}