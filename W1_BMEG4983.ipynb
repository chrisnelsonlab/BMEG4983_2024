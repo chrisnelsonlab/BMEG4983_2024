{
  "nbformat": 4,
  "nbformat_minor": 0,
  "metadata": {
    "colab": {
      "provenance": [],
      "toc_visible": true,
      "include_colab_link": true
    },
    "kernelspec": {
      "name": "python3",
      "display_name": "Python 3"
    },
    "language_info": {
      "name": "python"
    }
  },
  "cells": [
    {
      "cell_type": "markdown",
      "metadata": {
        "id": "view-in-github",
        "colab_type": "text"
      },
      "source": [
        "<a href=\"https://colab.research.google.com/github/chrisnelsonlab/BMEG4983_2024/blob/main/W1_BMEG4983.ipynb\" target=\"_parent\"><img src=\"https://colab.research.google.com/assets/colab-badge.svg\" alt=\"Open In Colab\"/></a>"
      ]
    },
    {
      "cell_type": "markdown",
      "metadata": {
        "id": "aI7_gZZ1qPDE"
      },
      "source": [
        "<img src=https://brand.uark.edu/_resources/images/UA_Logo_Horizontal.jpg width=\"400\" height=\"96\">\n",
        "\n",
        "###BMEG 4983 - Genome Engineering and Synthetic Biology -\n",
        "###For more information, check out the Nelson lab for Therapeutic Genome Engineering (https://nelsonlab.uark.edu/)\n",
        "\n",
        "\n",
        "#Data Workshop 1 - Python, Google Colab, and Sequences\n"
      ]
    },
    {
      "cell_type": "markdown",
      "source": [
        "# 1.1 Class objective\n",
        "This is a survey course of contemporary topics in biotechnology. We will cover a lot of ground at a superficial level\n",
        "\n",
        "At the end of this course you will:\n",
        "* Understand important genome engineering topics\n",
        "* Have a better concept of the human genome and genomics\n",
        "* Be able to use online tools to find information about genes\n",
        "* Be able to use some programing to automate tasks, collect data, etc\n",
        "* Be knowledgeable about ethical debates in genome engineering\n",
        "* Read and analyze primary literature\n",
        "* Identify potential career pathways in biotech"
      ],
      "metadata": {
        "id": "6gPrVZfaAE4f"
      }
    },
    {
      "cell_type": "markdown",
      "source": [
        "# 1.2 Data Workshop 1 Outline\n",
        "* Markdown boxes\n",
        "* Code blocks\n",
        "* Input and output\n",
        "* Basic logic and control in python\n"
      ],
      "metadata": {
        "id": "3ec1wXWWAnZ0"
      }
    },
    {
      "cell_type": "markdown",
      "metadata": {
        "id": "1LEBcLbtq4X7"
      },
      "source": [
        "This is a markdown box.\n",
        "\n",
        "Try changing the format. Check out this guide:\n",
        "https://colab.research.google.com/notebooks/markdown_guide.ipynb\n",
        "\n",
        "\n",
        "Try making headings, block quotes, and code blocks. Some examples are in the next box\n",
        "\n"
      ]
    },
    {
      "cell_type": "markdown",
      "metadata": {
        "id": "vipcPtDY8FI6"
      },
      "source": [
        "# 1.3 Example Markdown box\n",
        "## Example subheading\n",
        "### Even smaller subheading\n",
        "### My Great Heading {#HeadinglinkA}\n",
        "\n",
        "\n",
        "### Make a table\n",
        "The second line decides left align, center align, or right align\n",
        "\n",
        "| Syntax      | Description | Test Text     |\n",
        "| :---        |    :----:   |          ---: |\n",
        "| Header      | Title       | Here's this   |\n",
        "| Paragraph   | Text        | And more      |\n",
        "\n",
        "\n",
        "### Bold and Italic\n",
        "**bold text**\n",
        "*italicized text*\n",
        "\n",
        "### Block quote\n",
        ">I can make block quotes\n",
        "\n",
        "### Code block\n",
        "\n",
        "To make a code block, do the following\n",
        "(This character ` is on the top left of the keyboard)\n",
        "\n",
        "\n",
        "```\n",
        "#comment\n",
        "r = 3\n",
        "area = pi*r^2\n",
        "print(area)\n",
        "\n",
        "```\n",
        "\n",
        "If you put the code style, it will format for you\n",
        "Here is an example with python:\n",
        "```python\n",
        "#comment\n",
        "r = 3\n",
        "area = pi*r^2\n",
        "print(area)\n",
        "\n",
        "```\n",
        "\n",
        "Equations - you can use LaTex for formating equations\n",
        "See example:\n",
        "\n",
        "When $a \\ne 0$, there are two solutions to $(ax^2 + bx + c = 0)$ and they are\n",
        "\n",
        "$$ x = {-b \\pm \\sqrt{b^2-4ac} \\over 2a} $$"
      ]
    },
    {
      "cell_type": "markdown",
      "source": [
        "# 1.4 Example Code blocks"
      ],
      "metadata": {
        "id": "rvNSqyUyXOoP"
      }
    },
    {
      "cell_type": "code",
      "metadata": {
        "id": "-loNP7b0q5DW",
        "colab": {
          "base_uri": "https://localhost:8080/"
        },
        "outputId": "4f9a86f9-8b11-4e8c-e172-ca5e0e5a9b5a"
      },
      "source": [
        "#EXAMPLE CODE\n",
        "\n",
        "#Author: Chris Nelson\n",
        "#Problem Set 1\n",
        "#Date: 1/21/21\n",
        "#Co-authors: None\n",
        "\n",
        "#This script reads in two sequence files and aligns the sequences.\n",
        "\n",
        "#Make sure we can use colab:\n",
        "print('Hello World')\n",
        "\n",
        "#This is to test how code blocks link together\n",
        "x = 3\n"
      ],
      "execution_count": null,
      "outputs": [
        {
          "output_type": "stream",
          "name": "stdout",
          "text": [
            "Hello World\n"
          ]
        }
      ]
    },
    {
      "cell_type": "code",
      "source": [
        "#Code block need to be run in order to work properly\n",
        "#For example, if you ran this before the other you would get an error.\n",
        "\n",
        "print(x)"
      ],
      "metadata": {
        "colab": {
          "base_uri": "https://localhost:8080/"
        },
        "id": "7CPhla3dXVb1",
        "outputId": "4f3f0521-c8b7-4567-ee95-af2755f2d858"
      },
      "execution_count": null,
      "outputs": [
        {
          "output_type": "stream",
          "name": "stdout",
          "text": [
            "3\n"
          ]
        }
      ]
    },
    {
      "cell_type": "markdown",
      "source": [
        "# 1.5 Basic Python\n",
        "\n",
        "*   Variable types\n",
        " *   String and character\n",
        " *   Interger, float, double\n",
        " *   \n",
        "*   If / elif / else\n",
        "*   for loops\n",
        "*   while loops\n",
        "*   functions - define at the top of your code\n",
        "*   Built-in tools and libraries\n",
        "*   Community\n",
        "\n",
        "\n"
      ],
      "metadata": {
        "id": "nsxcDE7wNgRP"
      }
    },
    {
      "cell_type": "markdown",
      "source": [
        "## 1.5.1 Data types\n",
        "\n",
        "\n",
        "*   Boolean (True / False)\n",
        "*   Int\n",
        "*   Float\n",
        "*   String\n"
      ],
      "metadata": {
        "id": "pViQtAobUv-d"
      }
    },
    {
      "cell_type": "code",
      "source": [
        "#Python infers varabile types\n",
        "control_var = True\n",
        "print(type(control_var))\n",
        "button_presses = 3\n",
        "print(type(button_presses))\n",
        "gpa_student2 = 3.75\n",
        "print(type(gpa_student2))\n",
        "my_sequence = \"ATCTGTCTAG\"\n",
        "print(type(my_sequence))\n",
        "my_sequence = 3\n",
        "print(type(my_sequence))\n",
        "my_var = int(3)"
      ],
      "metadata": {
        "id": "JXUyTrxZU0o_",
        "colab": {
          "base_uri": "https://localhost:8080/"
        },
        "outputId": "b189fdef-bd52-4363-f491-89e943aea0bd"
      },
      "execution_count": null,
      "outputs": [
        {
          "output_type": "stream",
          "name": "stdout",
          "text": [
            "<class 'bool'>\n",
            "<class 'int'>\n",
            "<class 'float'>\n",
            "<class 'str'>\n",
            "<class 'int'>\n"
          ]
        }
      ]
    },
    {
      "cell_type": "code",
      "source": [
        "#What happens if you change variable types?\n",
        "button_presses = 3.75\n",
        "print(type(button_presses))\n",
        "button_presses = \"ATC\"\n",
        "print(type(button_presses))"
      ],
      "metadata": {
        "id": "lGrBD6U0U4LQ"
      },
      "execution_count": null,
      "outputs": []
    },
    {
      "cell_type": "markdown",
      "source": [
        "## 1.5.2 Access characters in a string\n",
        "\n",
        "```python\n",
        "my_sequence = \"ATCGAT\"\n",
        "```\n",
        "\n",
        "| Position      | Character |\n",
        "| ----------- | ----------- |\n",
        "| 0      | A       |\n",
        "| 1   | T        |\n",
        "| 2      | C       |\n",
        "| 3   | G        |\n",
        "| 4      | A       |\n",
        "| 5   | T        |\n",
        "\n",
        "Get first letter\n",
        "```python\n",
        "my_sequence[0]\n",
        "```\n",
        "\n",
        "Get last letter\n",
        "```python\n",
        "my_sequence[-1]\n",
        "#or\n",
        "my_sequence[len(my_sequence)]\n",
        "```\n",
        "\n",
        "Get a series of letters.\n",
        "\n",
        "* First number is the start position (leave out for beginning)\n",
        "\n",
        "* Second number is the end position (leave out for end)\n",
        "\n",
        "* Third number is the spacing (leave out for 1)\n",
        "\n",
        "* First number is inclusive. Second number is not inclusive.\n",
        "\n",
        "```python\n",
        "#First two letters (0 and 1)\n",
        "my_sequence[0:2]\n",
        "#Last two letters\n",
        "my_sequence[len(my_sequence)-2:len(my_sequence)]\n",
        "my_sequence[-2:]\n",
        "#Every other letter\n",
        "my_sequence[::2]\n",
        "#Reverse it\n",
        "my_sequence[::-1]\n",
        "\n",
        "```"
      ],
      "metadata": {
        "id": "abKk7J-AU7ge"
      }
    },
    {
      "cell_type": "code",
      "source": [
        "#How do you access elements in a string\n",
        "# --- Form starts here --- #\n",
        "#@title How do you access elements in a string? { run: \"auto\" }\n",
        "my_sequence = \"ATCTGTCTGTCTA\" #@param {type:\"string\"}\n",
        "position_to_change = 3 #@param {type:\"number\"}\n",
        "new_base = \"G\" #@param {type:\"string\"}\n",
        "# --- Form ends here --- #\n",
        "\n",
        "#Get just posistion 4\n",
        "print(\"position 3: \" + my_sequence[3])\n",
        "#Get just the last position\n",
        "print(\"position -1: \" + my_sequence[-1])\n",
        "#Code placeholder\n",
        "#Get every other base\n",
        "print(\"every other base: \" + my_sequence[::2])\n",
        "\n",
        "\n",
        "#Are these the same?\n",
        "print(\"Two ways to access the last two elements in a string\")\n",
        "print(my_sequence[len(my_sequence)-2:len(my_sequence)])\n",
        "print(my_sequence[-2:])\n",
        "\n",
        "\n",
        "#Can you change a string?\n",
        "#Strings are immutable. Uncomment and see what happens\n",
        "#my_sequence[4]='T'\n",
        "\n",
        "#So how would you change a string?\n",
        "print(\"Changing a string\")\n",
        "print(my_sequence[0:position_to_change])\n",
        "print(my_sequence[position_to_change+1::])\n",
        "my_sequence = my_sequence[0:position_to_change]+new_base+my_sequence[position_to_change+1::]\n",
        "print('new sequence: ' + my_sequence)"
      ],
      "metadata": {
        "id": "F43_BTkbVC3l"
      },
      "execution_count": null,
      "outputs": []
    },
    {
      "cell_type": "markdown",
      "source": [
        "## 1.5.3 Basic python logic and control\n",
        "\n",
        "Highlights from this section\n",
        "*   spacing matters!\n",
        "*   If/elif/else\n",
        "*   While loops / for loops\n",
        "*   User input and forms\n"
      ],
      "metadata": {
        "id": "RmeFzGUtVEOv"
      }
    },
    {
      "cell_type": "code",
      "source": [
        "booleanvar = False\n",
        "if(booleanvar):\n",
        "  print('its true')\n",
        "else:\n",
        "  print('not so')\n",
        "\n",
        "\n",
        "numbervar = 3\n",
        "if(numbervar > 4):\n",
        "  print('here')\n",
        "elif(numbervar > 2):\n",
        "  print('no here')\n",
        "else:\n",
        "  print('no no here')\n",
        "\n",
        "num1 = int(input(\"enter first value\"))\n",
        "print(num1+3)"
      ],
      "metadata": {
        "id": "10xwxfuTVI1A"
      },
      "execution_count": null,
      "outputs": []
    },
    {
      "cell_type": "markdown",
      "source": [
        "## 1.5.4 Data I/O inside google colab - Forms\n",
        "Check out this link for examples:\n",
        "https://colab.research.google.com/notebooks/forms.ipynb\n",
        "\n",
        "Highlights:\n",
        "\n",
        "\n",
        "*   You can hide code and have the input only\n",
        "*   Watch out for data type incompatibility\n",
        "\n"
      ],
      "metadata": {
        "id": "PWTQ59S5VQGP"
      }
    },
    {
      "cell_type": "code",
      "source": [
        "#Example - Number input - users can type any value. Built-in error checking will\n",
        "#stop non-numerical values\n",
        "\n",
        "number_input =  3#@param {type:\"number\"}\n",
        "print(type(number_input))\n",
        "print(number_input) #Is it a float or an int?\n",
        "\n",
        "\n",
        "#Example - Number slider - gives you control over min and max\n",
        "number_slider = -0.1 #@param {type:\"slider\", min:-1, max:1, step:0.1}\n",
        "print(number_slider)"
      ],
      "metadata": {
        "cellView": "form",
        "id": "JgweY7UUVUc4"
      },
      "execution_count": null,
      "outputs": []
    },
    {
      "cell_type": "markdown",
      "source": [
        "## 1.5.5 Python Data Structures (Built-in)\n",
        "\n",
        "\n",
        "*   List - Versatile, holds multiple data types in an array\n",
        "*   Tuple - like a list but cannot be changed\n",
        "*   Dict - Has two entries, a unique key and an entry. Keys cannot be changed.\n",
        "*   Set - Collection of unique items\n",
        "\n",
        "Why would you use each one?"
      ],
      "metadata": {
        "id": "xvqP5Es5VZqQ"
      }
    },
    {
      "cell_type": "markdown",
      "source": [
        "### 1.5.5.1 Example of using lists wrong (pointers)\n",
        "If you attempt to make a new list by setting them equal to another list, you will not make a new list. Both names 'point' to the same data."
      ],
      "metadata": {
        "id": "QmZKXCK_Vgcs"
      }
    },
    {
      "cell_type": "code",
      "source": [
        "#doing list assignments wrong\n",
        "mylist = ['item1', 'item2', 'item3']\n",
        "print(mylist[1])\n",
        "\n",
        "wrong = False\n",
        "\n",
        "if(not wrong):\n",
        "  #correct, makes a copy\n",
        "  mylist2 = list(mylist)\n",
        "else:\n",
        "  #incorrect, does not make a copy. mylist2 and mylist are the same\n",
        "  mylist2 = mylist\n",
        "\n",
        "mylist2[1]='item4'\n",
        "\n",
        "print(mylist[1])\n"
      ],
      "metadata": {
        "id": "TALS0zkLVsJ5"
      },
      "execution_count": null,
      "outputs": []
    },
    {
      "cell_type": "markdown",
      "source": [
        "##1.5.6 Simple function - return the hypotenuse of a right triangle\n",
        "First define the function. Run the cell to commit the function to memory (only once)"
      ],
      "metadata": {
        "id": "gSKObWHAVy9r"
      }
    },
    {
      "cell_type": "code",
      "source": [
        "#Need to import math if you haven't already\n",
        "import math\n",
        "math.sqrt(9)\n",
        "def hypotenuse(a,b):\n",
        "  #Note, sqrt is slow, avoid if you can\n",
        "  return math.sqrt(a*a + b*b)\n",
        "\n",
        "print(hypotenuse(3,4))"
      ],
      "metadata": {
        "id": "PcKhBBdDV5e9"
      },
      "execution_count": null,
      "outputs": []
    },
    {
      "cell_type": "code",
      "source": [
        "#Now run the function\n",
        "print(hypotenuse(3,4))"
      ],
      "metadata": {
        "id": "JY9P2NSPV6xk"
      },
      "execution_count": null,
      "outputs": []
    },
    {
      "cell_type": "markdown",
      "source": [
        "##1.5.7 Sum all odd numbers\n",
        "Given a minimum interger (inclusive) and maximum interger (inclusive), calculate the sum of all the odd numbers in that range"
      ],
      "metadata": {
        "id": "oozXhs4VV8pK"
      }
    },
    {
      "cell_type": "code",
      "source": [
        "def sum_odds(a,b):\n",
        "  sum_ab = 0\n",
        "  for i in range(a,b+1):\n",
        "    if i%2 == 1:\n",
        "      sum_ab += i\n",
        "  return sum_ab\n",
        "\n",
        "print(sum_odds(1,10))\n",
        "print(1+3+5+7+9)"
      ],
      "metadata": {
        "id": "iFv4O032V_LF"
      },
      "execution_count": null,
      "outputs": []
    },
    {
      "cell_type": "markdown",
      "source": [
        "##1.5.8 Counting nucleotides\n"
      ],
      "metadata": {
        "id": "oonkTKNRWCl4"
      }
    },
    {
      "cell_type": "code",
      "source": [
        "def dna_count(s):\n",
        "  num_A = 0\n",
        "  num_T = 0\n",
        "  num_C = 0\n",
        "  num_G = 0\n",
        "  for i in range(0, len(s)):\n",
        "    if(s[i]==\"A\"):\n",
        "      num_A+=1\n",
        "    elif(s[i]==\"T\"):\n",
        "      num_T+=1\n",
        "    elif(s[i]==\"C\"):\n",
        "      num_C+=1\n",
        "    elif(s[i]==\"G\"):\n",
        "      num_G+=1\n",
        "    else:\n",
        "      print(\"ERROR, non ATCG char\")\n",
        "  return num_A, num_G, num_C, num_T\n",
        "\n",
        "#print(dna_count('atcg')) #didn't work???\n",
        "#print(('atcg').upper())\n",
        "\n",
        "print(dna_count(('atcg').upper())) #fixed it\n",
        "\n"
      ],
      "metadata": {
        "id": "cMkKy3sKWEfD"
      },
      "execution_count": null,
      "outputs": []
    },
    {
      "cell_type": "markdown",
      "source": [
        "##1.5.9 Counting nucleotides V2"
      ],
      "metadata": {
        "id": "0D2fkbBTWIhO"
      }
    },
    {
      "cell_type": "code",
      "source": [
        "def dna_count2(s):\n",
        "  return s.count(\"A\"), s.count(\"G\"), s.count(\"C\"), s.count(\"T\")\n",
        "\n",
        "print(dna_count2(('ATCG').upper())) #fixed it\n"
      ],
      "metadata": {
        "id": "bVMY4zk7WG2E"
      },
      "execution_count": null,
      "outputs": []
    },
    {
      "cell_type": "markdown",
      "source": [
        "#1.6 Tutorial List\n",
        "\n",
        "First notebook example:\n",
        "https://colab.research.google.com/\n",
        "\n",
        "Using Markdown\n",
        "https://colab.research.google.com/notebooks/markdown_guide.ipynb\n",
        "\n",
        "Importing Libraries: https://colab.research.google.com/notebooks/snippets/importing_libraries.ipynb\n",
        "\n",
        "Using Forms:\n",
        "https://colab.research.google.com/notebooks/forms.ipynb\n",
        "\n",
        "Data input/output:\n",
        "https://colab.research.google.com/notebooks/io.ipynb"
      ],
      "metadata": {
        "id": "b2uOQkXOXN8O"
      }
    },
    {
      "cell_type": "markdown",
      "source": [
        "# 1.7 Learning Check"
      ],
      "metadata": {
        "id": "3QRFJgYCepcX"
      }
    },
    {
      "cell_type": "code",
      "source": [
        "#@title Learning Check (input answers and hit play button)\n",
        "\n",
        "#@markdown Q1: Can you directly edit strings?\n",
        "answer1 = ' ' #@param [\" \",\"Yes\", \"No\"]\n",
        "\n",
        "#@markdown Q2: I want to isolate \"ATG\" with the following code:\n",
        "\n",
        "#@markdown my_seq = \"CGGATGCGG\"\n",
        "\n",
        "#@markdown print(my_seq[x1:x2])\n",
        "\n",
        "#@markdown What do x1 and x2 need to be?\n",
        "\n",
        "x1 =  -1#@param {type:\"integer\"}\n",
        "x2 =  -1#@param {type:\"integer\"}\n",
        "\n",
        "#@markdown Q3: What side of the DNA should be on the left?\n",
        "answer3 = \" \" #@param [\" \",\"5'\", \"3'\"]\n",
        "\n",
        "#@markdown Q4: What organism is this sequence likely from?\n",
        "\n",
        "#@markdown Sequence = \"cgcaatttacaacacagactttatgagtgtctctatagaaatagagatgttgacacagac\"\n",
        "answer4 = \"\" #@param [\"\", \"human\", \"mouse\", \"aligator\", \"SARS-CoV-2\"]\n",
        "\n",
        "\n",
        "if (answer1 == \"No\"):\n",
        "  print('Q1: Correct')\n",
        "else:\n",
        "  print('Q1: Incorrect')\n",
        "\n",
        "if (x1 == 3 and x2 == 6):\n",
        "  print('Q2: Correct')\n",
        "else:\n",
        "  print('Q2: Incorrect')\n",
        "\n",
        "if (answer3 == \"5'\"):\n",
        "  print('Q3: Correct')\n",
        "else:\n",
        "  print('Q3: Incorrect')\n",
        "\n",
        "if (answer4 == \"SARS-CoV-2\"):\n",
        "  print('Q4: Correct')\n",
        "else:\n",
        "  print('Q4: Incorrect')"
      ],
      "metadata": {
        "id": "O4jl8FRDCkmj"
      },
      "execution_count": null,
      "outputs": []
    },
    {
      "cell_type": "markdown",
      "source": [
        "# 1.8 HW1\n",
        "Homework 1 is designed to determine gene choices, journal club assignments, and ethics panel assignements. Secondary is for you to demonstrate that you have a basic understanding of how google colab notebooks work. There are two code blocks below. Edit them as needed, download the .ipynb file, and upload to blackboard.\n",
        "\n",
        "Before you start to edit the code below, save this to your own google account so you can edit and save.\n",
        "\n",
        "When you are done, turn it in by sharing it with the email I will provide you in class through google colab or github.\n",
        "\n",
        "Only provide the homework problems (not the above text)\n"
      ],
      "metadata": {
        "id": "YDL4F-np7kf6"
      }
    },
    {
      "cell_type": "markdown",
      "source": [
        "## 1.8.1. Q1 - Class preferences"
      ],
      "metadata": {
        "id": "UfFBFk42Otwy"
      }
    },
    {
      "cell_type": "code",
      "source": [
        "# My name\n",
        "# My collaborators are: n/a\n",
        "# Date\n",
        "# The purpose of this script is to\n",
        "\n",
        "#I would like to be called the following during class discussion\n",
        "my_name = 'Dr. Nelson'\n",
        "\n",
        "#My journal club preferences are sorted in order from favorite to least favorite\n",
        "JC_preferences = [\"Gene therapy\", \"Gene-editing therapy\", \"Epigenetics\", \"Cell Therapy\", \"Safety of gene editing\", \"Gene Drives\", \"Molecular diagnostics\"]\n",
        "\n",
        "#My ethics panel preferences are sorted in order from favorite to least favorite\n",
        "ethics_preferences = [\"Gene drives\", \"Embryo editing\", \"Biohacking and DIY\", \"Affordability of gene therapy\", \"GMO Crops\", \"Privacy\", \"Biotech patents\"]\n",
        "\n",
        "#Choose a gene for your project (Should be related to a human disease or your research)\n",
        "#Use the common symbol for the gene\n",
        "gene_choice = \"notagene\"\n",
        "\n",
        "#Additional comments\n",
        "#Use this comment here to make any additional comments that you want me to know\n",
        "#before starting the class. If you have other suggestions for journal club\n",
        "#articles or ethics topics, let me know.\n",
        "\n",
        "#I know a little about google colab and python and can edit code blocks\n",
        "google_colab_basics = False\n",
        "#I know how to download a .ipynb and upload to blackboard as my homework submission\n",
        "homework_turn_in = False\n",
        "#I completed the learning check above successfully\n",
        "learning_check = False\n",
        "\n",
        "\n",
        "#You don't need to edit below this unless there are issues\n",
        "if(google_colab_basics & homework_turn_in & learning_check):\n",
        "  print('Good')\n",
        "  print('Your name for this class is '+my_name)\n",
        "  print('Your gene choice for your project is '+gene_choice)\n",
        "  print('Your journal club preferences are:')\n",
        "  for i,pref in enumerate(JC_preferences):\n",
        "    print(\"Rank #\"+str(i+1)+\": \"+pref)\n",
        "  print('Your ethics panel preferences are:')\n",
        "  for i,pref in enumerate(ethics_preferences):\n",
        "    print(\"Rank #\"+str(i+1)+\": \"+pref)\n",
        "  print('make sure to download this as a .ipynb and submit via blackboard')\n",
        "else:\n",
        "  print('Read the green comments and edit variables as needed')\n"
      ],
      "metadata": {
        "colab": {
          "base_uri": "https://localhost:8080/"
        },
        "id": "lHWwKvFJ77cD",
        "outputId": "d76f33bf-338f-4f1f-f098-07916603f36e"
      },
      "execution_count": null,
      "outputs": [
        {
          "output_type": "stream",
          "name": "stdout",
          "text": [
            "Read the green comments and edit variables as needed\n"
          ]
        }
      ]
    },
    {
      "cell_type": "markdown",
      "source": [
        "## 1.8.2. Q2 - Reverse complement a DNA strand\n",
        "\n",
        "Reverse complement explanation:\n",
        "DNA is double-stranded. For each strand of DNA, there is a strand that runs the opposite direction and has complement bases.\n",
        "\n",
        "DNA is commonly writen from 5' to 3' (unless otherwise stated)\n"
      ],
      "metadata": {
        "id": "hjSBApFEOx-j"
      }
    },
    {
      "cell_type": "code",
      "source": [
        "def reverse_complement (my_seq):\n",
        "  #Add code here to reverse complement the sequence\n",
        "  my_seq_rc = my_seq #This is incorrect as is\n",
        "  return my_seq_rc\n",
        "\n",
        "\n",
        "first_strand = \"ATGTCTGTGCATGCTGTGATCTG\"\n",
        "print(reverse_complement(first_strand))\n",
        "\n"
      ],
      "metadata": {
        "colab": {
          "base_uri": "https://localhost:8080/"
        },
        "id": "TAqp533kO2_r",
        "outputId": "88e78918-5aaf-4bdd-d52a-53fd974932e6"
      },
      "execution_count": null,
      "outputs": [
        {
          "output_type": "stream",
          "name": "stdout",
          "text": [
            "ATGTCTGTGCATGCTGTGATCTG\n"
          ]
        }
      ]
    },
    {
      "cell_type": "markdown",
      "source": [],
      "metadata": {
        "id": "j39T_aXn0889"
      }
    },
    {
      "cell_type": "markdown",
      "source": [
        "## 1.8.3. Q3 Provide an introduction to your gene in Markdown\n",
        "\n",
        ">Pick a gene that is related to a human disease. Do your best to pick different genes than the rest of the class. Briefly describe the function and what is known in an introductory paragraph. Cite your references in an appropriate format. (suggestion 250 words max, 2-5 references).\n",
        "\n",
        "### Introduction to *Gene Choice* (replace with yours)\n",
        "*TP53*, also known as tumor protein p53, is a tumor suppressor gene that plays a critical role in the regulation of cell growth and division. It is located on chromosome 17 and encodes for a protein called p53, which acts as a transcription factor that controls the expression of genes involved in cell cycle arrest, DNA repair, and apoptosis (cell death) (1). Mutations in TP53 are among the most common genetic alterations found in human cancer, and the p53 protein is considered the \"guardian of the genome\" because of its role in preventing the development of cancer (2).\n",
        "\n",
        "The p53 protein is activated in response to cellular stress, such as DNA damage, and functions by binding to DNA and regulating the expression of genes involved in cell cycle arrest, DNA repair, and apoptosis. When the cell's DNA is damaged and cannot be repaired, p53 activates the process of apoptosis, which leads to the death of the cell. This helps prevent the spread of potentially cancerous cells (1,3).\n",
        "\n",
        "The TP53 gene can be mutated in a variety of ways, including point mutations, insertions, and deletions. These mutations can result in the loss of p53 function, leading to the development of cancer. In fact, it is estimated that over 50% of human cancers have mutations in TP53 (4). The most common types of cancer associated with TP53 mutations include lung cancer, breast cancer, ovarian cancer, and colon cancer (5).\n",
        "\n",
        "In conclusion, TP53 is a crucial tumor suppressor gene thatplays a critical role in the regulation of cell growth and division by encoding for the p53 protein. The p53 protein acts as a transcription factor that controls the expression of genes involved in cell cycle arrest, DNA repair, and apoptosis. Mutations in the TP53 gene are among the most common genetic alterations found in human cancer and can result in the loss of p53 function, leading to the development of cancer. The most common types of cancer associated with TP53 mutations include lung cancer, breast cancer, ovarian cancer, and colon cancer.\n",
        "\n",
        "It is important to note that the TP53 gene has many functions and is not only limited to cancer development, it also plays a role in aging, immune system, and other physiological functions. Studies have shown that TP53 mutations can also cause different types of genetic disorders like Li-Fraumeni syndrome, which is a rare disorder that predisposes individuals to a wide variety of cancers. In addition to that, the p53 protein also plays a key role in regulating the immune system and inflammatory response, by modulating the activity of immune cells and promoting the clearance of infected or damaged cells.\n",
        "\n",
        "In terms of future research, more studies are needed to fully understand the mechanisms by which TP53 mutations lead to cancer, as well as to develop effective therapies that target these mutations. Targeted therapies that restore the function of the p53 protein or inhibit the activity of mutant p53 proteins are currently being developed and tested in clinical trials, and show promising results for the treatment of cancers with TP53 mutations (6,7).\n",
        "\n",
        "\n",
        "\n",
        "\n",
        "\n",
        "**References:**\n",
        "\n",
        "[1] Levine, A.J. (1997). p53, the cellular gatekeeper for growth and division. Cell, 88(3), 323-331. - This one is real\n",
        "\n",
        "[2] Vousden, K.H., & Lu, X. (2013). Live or let die: the cell's response to p53. Nature Reviews Cancer, 13(5), 275-287. - This one is real\n",
        "\n",
        "[3] Lane, D.P., & Crawford, L.V. (1979). Isolation of a new structural gene, p53, encoding a phosphoprotein associated with cell transformation. Nature, 278(5705), 261-263. - This is a weird one. I think it picked up this (https://www.nature.com/articles/278261a0)\n",
        "\n",
        "[4] Soussi, T., & Wiman, K.G. (2007). p53: a guardian of the genome or a double-edged sword? Nature Reviews Cancer, 7(8), 523-531.- I'm pretty sure ChatGPT made this one up\n",
        "\n",
        "[5] Lozano, G. (2012). The p53 tumour suppressor gene: 20 years of p53 research. Nature Reviews Cancer, 12(7), 553-567.- I'm pretty sure ChatGPT made this one up\n",
        "\n",
        "[6] Dominguez-Sola, D. et al. (2019) Targeting the p53 pathway in cancer: challenges and opportunities. Nature Reviews Cancer. 19(3, pp.187-204) - I'm pretty sure ChatGPT made this one up\n",
        "\n",
        "[7] Jia, L. et al. (2020) p53 pathway-targeted therapy: current status and future prospects. Cancer Letters. 472, pp.15-26. Also made up?\n",
        "\n",
        "**-Written by ChatGPT, spot edited by prof Nelson**\n",
        "\n",
        "\n"
      ],
      "metadata": {
        "id": "PDp6RroSfAiG"
      }
    },
    {
      "cell_type": "markdown",
      "source": [],
      "metadata": {
        "id": "BRmBHw7f1IXP"
      }
    },
    {
      "cell_type": "markdown",
      "source": [
        "## 1.8.4. Q4 - Gene Therapy and Gene Editing\n",
        ">What kind of gene therapy or genome editing strategy do you expect could be used to treat this disease by targeting this gene? Consider DNA repair, transcriptional activation or transcriptional repression. (suggestion 250 words max)\n",
        "\n",
        "\n",
        "There are several different gene therapy and genome editing strategies that could potentially be used to treat diseases by targeting TP53.\n",
        "\n",
        "One strategy would be to use DNA repair techniques to correct mutations in the TP53 gene. This could involve using techniques such as homologous recombination or non-homologous end joining to repair the damaged DNA. Another approach would be to use transcriptional activation techniques to increase the expression of wild-type TP53 in cells with mutations. This could be achieved by using techniques such as CRISPR-mediated transcriptional activation, which uses a modified form of the CRISPR-Cas9 system to activate gene expression (1).\n",
        "\n",
        "Another approach would be to use transcriptional repression techniques to inhibit the activity of mutant TP53 proteins. This could be achieved by using techniques such as RNA interference or CRISPR-mediated transcriptional repression (CRISPRi) (2).\n",
        "\n",
        "Another strategy that has been proposed is to use genome editing techniques to introduce a functional copy of the TP53 gene in cells with TP53 mutations. This could be achieved by using techniques such as CRISPR-mediated gene therapy, which uses the CRISPR-Cas9 system to introduce a functional copy of the TP53 gene into cells (3).\n",
        "\n",
        "In conclusion, there are several different gene therapy and genome editing strategies that could be used to treat diseases by targeting TP53, including DNA repair, transcriptional activation, and transcriptional repression. Each of these strategies has its own potential benefits and limitations, and further research is needed to determine which strategies will be most effective in the clinic.\n",
        "\n",
        "**References:**\n",
        "\n",
        "[1] Liu, Y. et al. (2018) CRISPR-mediated transcriptional activation. Nature Methods. 15(11), pp.793-796\n",
        "\n",
        "[2] Ran, F.A. et al. (2013) Double nicking by RNA-guided CRISPR Cas9 for enhanced genome editing specificity. Cell. 154(6), pp.1380-1389\n",
        "\n",
        "[3] Nelson, C.E. et al. (2019) Progress and challenges in CRISPR-mediated therapeutics. Nature Reviews Genetics. 20(11), pp.637-652 - *Now I know this one is made up. That's me and I didn't write that article. I'm honored that chatGPT would make up a reference for me though*\n",
        "\n",
        "**-chatGPT**\n"
      ],
      "metadata": {
        "id": "aFD_54JWflr5"
      }
    },
    {
      "cell_type": "markdown",
      "source": [
        "# Prep for next week: Get familiar with google colab\n",
        "Try out the markdown language. Tinker with a few example problems. Here is a great place to find some example bioinformatics challenge problems\n",
        "https://rosalind.info/\n",
        "\n",
        "Try out these problems if you have time (optional):\n",
        "https://rosalind.info/problems/ini2/\n",
        "\n",
        "https://rosalind.info/problems/revc/\n",
        "\n",
        "\n",
        "\n",
        "\n"
      ],
      "metadata": {
        "id": "7ucaLhvRhWj7"
      }
    },
    {
      "cell_type": "markdown",
      "source": [
        "# Challenge Problem (Very optional)\n",
        "Check out the popular online game wordle.\n",
        "https://www.powerlanguage.co.uk/wordle/\n",
        "\n",
        "Can you write a script that will suggest answers to you?\n",
        "\n",
        "*Hint* There is a dictionary of words available here:\n",
        "https://raw.githubusercontent.com/dwyl/english-words/master/words_alpha.txt\n",
        "\n",
        "What might this excercise have to do with genome engineering?"
      ],
      "metadata": {
        "id": "ukXFy6jEQTtw"
      }
    }
  ]
}