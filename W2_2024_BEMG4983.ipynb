{
  "nbformat": 4,
  "nbformat_minor": 0,
  "metadata": {
    "colab": {
      "provenance": [],
      "toc_visible": true,
      "authorship_tag": "ABX9TyOfZIfFTSmgh8OITKzE0V/4",
      "include_colab_link": true
    },
    "kernelspec": {
      "name": "python3",
      "display_name": "Python 3"
    },
    "language_info": {
      "name": "python"
    }
  },
  "cells": [
    {
      "cell_type": "markdown",
      "metadata": {
        "id": "view-in-github",
        "colab_type": "text"
      },
      "source": [
        "<a href=\"https://colab.research.google.com/github/chrisnelsonlab/BMEG4983_2024/blob/main/W2_2024_BEMG4983.ipynb\" target=\"_parent\"><img src=\"https://colab.research.google.com/assets/colab-badge.svg\" alt=\"Open In Colab\"/></a>"
      ]
    },
    {
      "cell_type": "markdown",
      "source": [
        "<img src=https://brand.uark.edu/_resources/images/UA_Logo_Horizontal.jpg width=\"400\" height=\"96\">\n",
        "\n",
        "####BMEG 4983 - Genome Engineering and Synthetic Biology -\n",
        "####For more information, check out the Nelson lab for Therapeutic Genome Engineering (https://nelsonlab.uark.edu/)\n",
        "\n",
        "\n",
        "#2. Data Workshop 2 - Python and sequence data\n",
        "\n",
        "Today, we are going to examine how to access information on our selected\n",
        "genes, do some basic python manipulaiting strings, and design gRNAs.\n",
        "\n",
        "Remember to check the table of contents button on the upper right."
      ],
      "metadata": {
        "id": "rR9pe7l1eGuv"
      }
    },
    {
      "cell_type": "markdown",
      "source": [
        "# Workbook Outline\n",
        "* 1 Introduction\n",
        "* **2 Getting gene information online and designing a gRNA** TODAY\n",
        "* 3 Designing gRNAs programmatically\n",
        "* 4 Importing gene information from databases\n",
        "* 5 qRT-PCR\n",
        "* 6 Alignment\n",
        "* 7 NGS\n",
        "* 8 RNAseq\n",
        "* 9 Indel analysis"
      ],
      "metadata": {
        "id": "MmlroW8Ex04f"
      }
    },
    {
      "cell_type": "markdown",
      "source": [
        "# 2.1 Structure of a gene and genome browser\n",
        "We will do this demonstration in class together. This cell is maintained for refreshing our memory (or in the event of a snow day)\n",
        "\n",
        "First, we need to know what a gene looks like when we go to NCBI or genome browser. Below is an image that shows some of the terms we need to know.\n",
        "\n",
        "<img src=https://thebiologynotes.com/wp-content/uploads/2022/07/Prokaryotic-and-Eukaryotic-Gene-Structure.jpg>\n",
        "\n",
        "From left to right in the eukaryotic version\n",
        "1. Distal control elements - these are enhancers or silencers. They can be some distance away in the 1D structure of DNA but can loop back and be in close proximity. We may discuss this in more detail later.\n",
        "2. Proximal control elements - Here we are mostly talking about the promoter. This helps the cell control what cell type should be expressing this protein\n",
        "3. Next which isn't really shown is the 5' untranslated region (UTR). This is made into RNA but not protein\n",
        "4. Exons - These are the part of the gene that will be in the mature RNA\n",
        "5. Introns - These are transcribed into RNA but removed from teh final mRNA\n",
        "6. Not shown - 3' UTR, makes it to the final mRNA but is not made into protein\n",
        "7. Transriptional termination - a signal that stops RNA from being made\n",
        "8. Distal elements - Similar to the upstream control elements\n",
        "\n",
        "Here is what that looks like in genome browser:\n",
        "\n",
        "<img src=https://genome.ucsc.edu/images/multiRegionButton.png>\n",
        "(Ignore the red arrow, this was the best image I could find hosted online)\n",
        "\n",
        "A few things to note here. We are looking at the gene ACE2. This is on the X chromosome. You can see where on the chromosome we are with the little red line in p22.2. The coordinates are also displayed (chrX:15,560,138-15,602,945). So we are looking at 10s of thousands of bases at once here.\n",
        "\n",
        "Another thing to note is that genes can run either from right to left or left to right. In this case, ACE2 is running from right to left which means the coding region will be on the reverse complment.\n",
        "\n",
        "Genome browser also shows several isoforms here. You can see there are three versions of ACE2 that are slightly different (I can't spot the difference from this view) and one that is quite a bit shorter (the bottom one).\n",
        "\n",
        "Introns are shown as the thin line with '<' pointing in the direction of the gene\n",
        "\n",
        "Sequences that are part of the mature mRNA are shown as boxes. There are thicker boxes which represent coding regions and thinner boxes that represent the UTR. ACE2 has a fairly small 5' UTR (which is on the right b/c this gene is running right to left). The bottom variant has a much larger 3'UTR (running off the side on the left). The top 3 variants are running off the page here. We can move our window or zoom out to examine the remainder of the gene.\n",
        "\n",
        "Go to genome browser at UCSC and find your gene. Treat this like google maps. Try zooming in until you see the amino acid sequence. Try zooming in until you see the DNA sequence.  Look at the beginning of exons. What two bp are right before every exon? What two bp are right at the end of every exon?\n"
      ],
      "metadata": {
        "id": "2F6f6bvreTHI"
      }
    },
    {
      "cell_type": "markdown",
      "source": [
        "# 2.2 Sequence Data\n",
        "After you get your gene sequence into google colab, this is a good chance to tinker with strings. Try some of the following."
      ],
      "metadata": {
        "id": "FKHP7LyZegBe"
      }
    },
    {
      "cell_type": "markdown",
      "source": [
        "## 2.2 Gene information\n",
        "I will use TP53 as an example gene. Use your gene instead for the following.\n",
        "\n",
        "Go to genome browser and find the first coding exon of your gene.\n",
        "\n",
        "My coordinates for the exon I chose:\n",
        "chr17:7,674,859-7,674,971\n",
        "\n",
        "You can right click to get DNA or go here:\n",
        "https://genome.ucsc.edu/cgi-bin/hgc?g=getDna&i=mixed\n",
        "\n",
        "Looks like this\n",
        "\n",
        "<img src=https://raw.githubusercontent.com/chrisnelsonlab/BMEG4983_2024/main/genome_browser1.png>\n",
        "\n",
        "\n",
        "Here is the output:\n",
        "```\n",
        ">hg38_dna range=chr17:7674859-7674971 5'pad=0 3'pad=0 strand=+ repeatMasking=none\n",
        "CTCAGGCGGCTCATAGGGCACCACCACACTATGTCGAAAAGTGTTTCTGT\n",
        "CATCCAAATACTCCACACGCAAATTTCCTTCCACTCGGATAAGATGCTGA\n",
        "GGAGGGGCCAGAC\n",
        "```"
      ],
      "metadata": {
        "id": "mwbtXbz-esJf"
      }
    },
    {
      "cell_type": "markdown",
      "source": [
        "## 2.2.1 Double check your sequence with BLAT\n",
        "\n",
        "Got to Genome Browser and choose Blat\n",
        "\n",
        "<img src=\"https://github.com/chrisnelsonlab/BMEG4983_2024/blob/main/Blat1.png?raw=true\">\n",
        "\n",
        "You can put in a single sequence (without the \">\") or put multiple sequences in at the same time.\n",
        "\n",
        "<img src=\"https://github.com/chrisnelsonlab/BMEG4983_2024/blob/main/Blat2.png?raw=true\">\n",
        "\n",
        "\n",
        "\n",
        "Now check the alignment\n",
        "\n",
        "<img src=\"https://github.com/chrisnelsonlab/BMEG4983_2024/blob/main/Blat3.png?raw=true\">\n",
        "\n",
        "\n",
        "I can zoom to either side to confirm that it is perfect.\n",
        "\n",
        "\n",
        "One more thing - I'm going to go back to the \"get DNA\" page and pad out the sequence by 20bp on each side."
      ],
      "metadata": {
        "id": "n0SGnsF9nntV"
      }
    },
    {
      "cell_type": "markdown",
      "source": [
        "## 2.3 Sequence information in python\n"
      ],
      "metadata": {
        "id": "MSZNP2Bil182"
      }
    },
    {
      "cell_type": "code",
      "source": [
        "seq_header = \"hg38_dna range=chr17:7674839-7674991 5'pad=20 3'pad=20 strand=+ repeatMasking=none\"\n",
        "seq_seq = \"ACCCCAGTTGCAAACCAGACCTCAGGCGGCTCATAGGGCACCACCACACT\\\n",
        "ATGTCGAAAAGTGTTTCTGTCATCCAAATACTCCACACGCAAATTTCCTT\\\n",
        "CCACTCGGATAAGATGCTGAGGAGGGGCCAGACCTAAGAGCAATCAGTGA\\\n",
        "GGA\"\n",
        "\n",
        "exon_header = \"hg38_dna range=chr17:7674839-7674991 5'pad=0 3'pad=0 strand=+ repeatMasking=none\"\n",
        "exon_seq = \"CTCAGGCGGCTCATAGGGCACCACCACACTATGTCGAAAAGTGTTTCTGT\\\n",
        "CATCCAAATACTCCACACGCAAATTTCCTTCCACTCGGATAAGATGCTGA\\\n",
        "GGAGGGGCCAGAC\"\n",
        "\n",
        "\n",
        "print(seq_header)\n",
        "print(seq_seq)\n",
        "print(exon_header)\n",
        "print(exon_seq)"
      ],
      "metadata": {
        "colab": {
          "base_uri": "https://localhost:8080/"
        },
        "id": "POjMbXmaermn",
        "outputId": "d581ed33-b6bb-42e3-8386-d70fd90c392d"
      },
      "execution_count": 3,
      "outputs": [
        {
          "output_type": "stream",
          "name": "stdout",
          "text": [
            "hg38_dna range=chr17:7674839-7674991 5'pad=20 3'pad=20 strand=+ repeatMasking=none\n",
            "ACCCCAGTTGCAAACCAGACCTCAGGCGGCTCATAGGGCACCACCACACTATGTCGAAAAGTGTTTCTGTCATCCAAATACTCCACACGCAAATTTCCTTCCACTCGGATAAGATGCTGAGGAGGGGCCAGACCTAAGAGCAATCAGTGAGGA\n",
            "hg38_dna range=chr17:7674839-7674991 5'pad=0 3'pad=0 strand=+ repeatMasking=none\n",
            "CTCAGGCGGCTCATAGGGCACCACCACACTATGTCGAAAAGTGTTTCTGTCATCCAAATACTCCACACGCAAATTTCCTTCCACTCGGATAAGATGCTGAGGAGGGGCCAGAC\n"
          ]
        }
      ]
    },
    {
      "cell_type": "markdown",
      "source": [
        "## 2.3.1 Counting nucleotides\n",
        "Try implementing code to count individual A, T, C, G and GC%"
      ],
      "metadata": {
        "id": "MOerwaUVmArp"
      }
    },
    {
      "cell_type": "code",
      "execution_count": null,
      "metadata": {
        "id": "LBMUtxCpeAg4"
      },
      "outputs": [],
      "source": [
        "## 2.5.1 Counting nucleotides code placeholder"
      ]
    },
    {
      "cell_type": "markdown",
      "source": [
        "## 2.3.2 Reverse complement\n",
        "You may need to reverse complement your sequence to translate it."
      ],
      "metadata": {
        "id": "6ikhKlUSmR2c"
      }
    },
    {
      "cell_type": "code",
      "source": [
        "## 2.5.2 Placeholder for reverse complement function"
      ],
      "metadata": {
        "id": "mMjqfBPOmmBY"
      },
      "execution_count": null,
      "outputs": []
    },
    {
      "cell_type": "markdown",
      "source": [
        "## 2.3.3 Find an open reading frame and/or Translate a sequence\n",
        "You can try to translate your sequence.\n",
        "\n",
        "\n",
        "We need to use the codon chart. I'll save you some time and make a dictionary that has all of the codons in it.\n",
        "\n",
        "\n",
        "```python\n",
        "codon_table = {\n",
        "        'ATA':'I', 'ATC':'I', 'ATT':'I', 'ATG':'M',\n",
        "        'ACA':'T', 'ACC':'T', 'ACG':'T', 'ACT':'T',\n",
        "        'AAC':'N', 'AAT':'N', 'AAA':'K', 'AAG':'K',\n",
        "        'AGC':'S', 'AGT':'S', 'AGA':'R', 'AGG':'R',                 \n",
        "        'CTA':'L', 'CTC':'L', 'CTG':'L', 'CTT':'L',\n",
        "        'CCA':'P', 'CCC':'P', 'CCG':'P', 'CCT':'P',\n",
        "        'CAC':'H', 'CAT':'H', 'CAA':'Q', 'CAG':'Q',\n",
        "        'CGA':'R', 'CGC':'R', 'CGG':'R', 'CGT':'R',\n",
        "        'GTA':'V', 'GTC':'V', 'GTG':'V', 'GTT':'V',\n",
        "        'GCA':'A', 'GCC':'A', 'GCG':'A', 'GCT':'A',\n",
        "        'GAC':'D', 'GAT':'D', 'GAA':'E', 'GAG':'E',\n",
        "        'GGA':'G', 'GGC':'G', 'GGG':'G', 'GGT':'G',\n",
        "        'TCA':'S', 'TCC':'S', 'TCG':'S', 'TCT':'S',\n",
        "        'TTC':'F', 'TTT':'F', 'TTA':'L', 'TTG':'L',\n",
        "        'TAC':'Y', 'TAT':'Y', 'TAA':'_', 'TAG':'_',\n",
        "        'TGC':'C', 'TGT':'C', 'TGA':'_', 'TGG':'W',\n",
        "    }\n",
        "  ```\n",
        "\n",
        "An open reading frame (ORF) is defined as a sequence that begins with a start codon 'ATG' and ends with one of the following stop codons 'TAA', 'TAG', 'TGA'\n",
        "\n",
        "Could you write a function that takes a sequence as input (a string) and returns the longest ORF? Or a list of all ORFs?\n"
      ],
      "metadata": {
        "id": "psQoYBgwmyZW"
      }
    },
    {
      "cell_type": "markdown",
      "source": [
        "## 2.3.4 Designing a gRNA\n",
        "\n",
        "Now let's design one gRNA manually\n",
        "Examine your exon on genome browser to find an NGG (or a CCN)\n",
        "\n",
        "I have a bunch to choose from\n",
        "\n",
        "<img src=\"https://github.com/chrisnelsonlab/BMEG4983_2024/blob/main/Blat4.png?raw=true\">\n",
        "\n",
        "I'll go with the \"AGG\" next to the four G repeat\n",
        "\n",
        "The protospacer sequence would be the 20bp on the 5' side (to the left)\n",
        "My protospacer\n",
        "\n",
        "```python\n",
        "protospacer_seq = \"CTCGGATAAGATGCTGAGG\"\n",
        "PAM = \"AGG\"\n",
        "```\n",
        "\n",
        "Notice there is a repeat of AGG.\n",
        "\n",
        "The protpsacer and PAM together would be:\n",
        "\n",
        "```python\n",
        "prospacer_and_PAM = protospacer_seq + PAM\n",
        "```"
      ],
      "metadata": {
        "id": "giRmqJDJqJ0D"
      }
    },
    {
      "cell_type": "code",
      "source": [
        "## 2.3.4 Designing a gRNA programmatically\n",
        "\n"
      ],
      "metadata": {
        "id": "GD6IKyu7mpqw"
      },
      "execution_count": null,
      "outputs": []
    },
    {
      "cell_type": "markdown",
      "source": [
        "# 2.5 HW 2\n"
      ],
      "metadata": {
        "id": "3imA_I47tmJp"
      }
    },
    {
      "cell_type": "markdown",
      "source": [
        "## 2.5.1 Q1\n",
        "What are the **genomic coordinates** of your gene? Use hg38.\n",
        "\n",
        "The coordinates of *TP53* from hg38 are:\n",
        "\n",
        "chr17:7668421-7687490"
      ],
      "metadata": {
        "id": "0J600J8_zkiE"
      }
    },
    {
      "cell_type": "markdown",
      "source": [
        "## 2.5.2 Q2\n",
        "\n",
        "What is the **cDNA sequence** of the most common isoform. If you are in doubt about the isoform, you can use the longest isoform. You can do this with code below or using online tools.\n",
        "\n",
        "Document here how you collected the sequence:\n",
        "I chose transcript variant 1 for TP53 documented here:\n",
        "https://www.ncbi.nlm.nih.gov/nuccore/NM_000546.6?report=genbank\n",
        "\n",
        "This isoform is encoded by:\n",
        "\n",
        "```\n",
        ">NM_000546.6 Homo sapiens tumor protein p53 (TP53), transcript variant 1, mRNA\n",
        "CTCAAAAGTCTAGAGCCACCGTCCAGGGAGCAGGTAGCTGCTGGGCTCCGGGGACACTTTGCGTTCGGGC\n",
        "TGGGAGCGTGCTTTCCACGACGGTGACACGCTTCCCTGGATTGGCAGCCAGACTGCCTTCCGGGTCACTG\n",
        "CCATGGAGGAGCCGCAGTCAGATCCTAGCGTCGAGCCCCCTCTGAGTCAGGAAACATTTTCAGACCTATG\n",
        "GAAACTACTTCCTGAAAACAACGTTCTGTCCCCCTTGCCGTCCCAAGCAATGGATGATTTGATGCTGTCC\n",
        "CCGGACGATATTGAACAATGGTTCACTGAAGACCCAGGTCCAGATGAAGCTCCCAGAATGCCAGAGGCTG\n",
        "CTCCCCCCGTGGCCCCTGCACCAGCAGCTCCTACACCGGCGGCCCCTGCACCAGCCCCCTCCTGGCCCCT\n",
        "GTCATCTTCTGTCCCTTCCCAGAAAACCTACCAGGGCAGCTACGGTTTCCGTCTGGGCTTCTTGCATTCT\n",
        "GGGACAGCCAAGTCTGTGACTTGCACGTACTCCCCTGCCCTCAACAAGATGTTTTGCCAACTGGCCAAGA\n",
        "CCTGCCCTGTGCAGCTGTGGGTTGATTCCACACCCCCGCCCGGCACCCGCGTCCGCGCCATGGCCATCTA\n",
        "CAAGCAGTCACAGCACATGACGGAGGTTGTGAGGCGCTGCCCCCACCATGAGCGCTGCTCAGATAGCGAT\n",
        "GGTCTGGCCCCTCCTCAGCATCTTATCCGAGTGGAAGGAAATTTGCGTGTGGAGTATTTGGATGACAGAA\n",
        "ACACTTTTCGACATAGTGTGGTGGTGCCCTATGAGCCGCCTGAGGTTGGCTCTGACTGTACCACCATCCA\n",
        "CTACAACTACATGTGTAACAGTTCCTGCATGGGCGGCATGAACCGGAGGCCCATCCTCACCATCATCACA\n",
        "CTGGAAGACTCCAGTGGTAATCTACTGGGACGGAACAGCTTTGAGGTGCGTGTTTGTGCCTGTCCTGGGA\n",
        "GAGACCGGCGCACAGAGGAAGAGAATCTCCGCAAGAAAGGGGAGCCTCACCACGAGCTGCCCCCAGGGAG\n",
        "CACTAAGCGAGCACTGCCCAACAACACCAGCTCCTCTCCCCAGCCAAAGAAGAAACCACTGGATGGAGAA\n",
        "TATTTCACCCTTCAGATCCGTGGGCGTGAGCGCTTCGAGATGTTCCGAGAGCTGAATGAGGCCTTGGAAC\n",
        "TCAAGGATGCCCAGGCTGGGAAGGAGCCAGGGGGGAGCAGGGCTCACTCCAGCCACCTGAAGTCCAAAAA\n",
        "GGGTCAGTCTACCTCCCGCCATAAAAAACTCATGTTCAAGACAGAAGGGCCTGACTCAGACTGACATTCT\n",
        "CCACTTCTTGTTCCCCACTGACAGCCTCCCACCCCCATCTCTCCCTCCCCTGCCATTTTGGGTTTTGGGT\n",
        "CTTTGAACCCTTGCTTGCAATAGGTGTGCGTCAGAAGCACCCAGGACTTCCATTTGCTTTGTCCCGGGGC\n",
        "TCCACTGAACAAGTTGGCCTGCACTGGTGTTTTGTTGTGGGGAGGAGGATGGGGAGTAGGACATACCAGC\n",
        "TTAGATTTTAAGGTTTTTACTGTGAGGGATGTTTGGGAGATGTAAGAAATGTTCTTGCAGTTAAGGGTTA\n",
        "GTTTACAATCAGCCACATTCTAGGTAGGGGCCCACTTCACCGTACTAACCAGGGAAGCTGTCCCTCACTG\n",
        "TTGAATTTTCTCTAACTTCAAGGCCCATATCTGTGAAATGCTGGCATTTGCACCTACCTCACAGAGTGCA\n",
        "TTGTGAGGGTTAATGAAATAATGTACATCTGGCCTTGAAACCACCTTTTATTACATGGGGTCTAGAACTT\n",
        "GACCCCCTTGAGGGTGCTTGTTCCCTCTCCCTGTTGGTCGGTGGGTTGGTAGTTTCTACAGTTGGGCAGC\n",
        "TGGTTAGGTAGAGGGAGTTGTCAAGTCTCTGCTGGCCCAGCCAAACCCTGTCTGACAACCTCTTGGTGAA\n",
        "CCTTAGTACCTAAAAGGAAATCTCACCCCATCCCACACCCTGGAGGATTTCATCTCTTGTATATGATGAT\n",
        "CTGGATCCACCAAGACTTGTTTTATGCTCAGGGTCAATTTCTTTTTTCTTTTTTTTTTTTTTTTTTCTTT\n",
        "TTCTTTGAGACTGGGTCTCGCTTTGTTGCCCAGGCTGGAGTGGAGTGGCGTGATCTTGGCTTACTGCAGC\n",
        "CTTTGCCTCCCCGGCTCGAGCAGTCCTGCCTCAGCCTCCGGAGTAGCTGGGACCACAGGTTCATGCCACC\n",
        "ATGGCCAGCCAACTTTTGCATGTTTTGTAGAGATGGGGTCTCACAGTGTTGCCCAGGCTGGTCTCAAACT\n",
        "CCTGGGCTCAGGCGATCCACCTGTCTCAGCCTCCCAGAGTGCTGGGATTACAATTGTGAGCCACCACGTC\n",
        "CAGCTGGAAGGGTCAACATCTTTTACATTCTGCAAGCACATCTGCATTTTCACCCCACCCTTCCCCTCCT\n",
        "TCTCCCTTTTTATATCCCATTTTTATATCGATCTCTTATTTTACAATAAAACTTTGCTGCCA\n",
        "```\n"
      ],
      "metadata": {
        "id": "N1qz4zaSw-bQ"
      }
    },
    {
      "cell_type": "markdown",
      "source": [
        "## 2.5.3 Q3\n",
        "\n",
        "What is the longest open reading frame in your cDNA?\n"
      ],
      "metadata": {
        "id": "oZ5CpChwxTns"
      }
    },
    {
      "cell_type": "code",
      "source": [
        "#placeholder code\n",
        "#try to do this yourself, but see placeholder code below if your stuck\n"
      ],
      "metadata": {
        "id": "MwTgyHaayr2y"
      },
      "execution_count": null,
      "outputs": []
    },
    {
      "cell_type": "markdown",
      "source": [
        "##2.5.4 Q4\n",
        "What is the **amino acid sequence** of the sequence from Q2?\n",
        "\n",
        "Document here how you arived at the sequence:\n",
        "I found the longest ORF as documented in the code above.\n",
        "\n",
        "```\n",
        ">TP53 amino acid sequence\n",
        "MEEPQSDPSVEPPLSQETFSDLWKLLPENNVLSPLPSQAMDDLMLSPDDIEQWFTEDPGPDEAPRMPEAAPP\n",
        "VAPAPAAPTPAAPAPAPSWPLSSSVPSQKTYQGSYGFRLGFLHSGTAKSVTCTYSPALNKMFCQLAKTCPVQ\n",
        "LWVDSTPPPGTRVRAMAIYKQSQHMTEVVRRCPHHERCSDSDGLAPPQHLIRVEGNLRVEYLDDRNTFRHSV\n",
        "VVPYEPPEVGSDCTTIHYNYMCNSSCMGGMNRRPILTIITLEDSSGNLLGRNSFEVRVCACPGRDRRTEEEN\n",
        "LRKKGEPHHELPPGSTKRALPNNTSSSPQPKKKPLDGEYFTLQIRGRERFEMFRELNEALELKDAQAGKEPG\n",
        "GSRAHSSHLKSKKGQSTSRHKKLMFKTEGPDSD_\n",
        "```"
      ],
      "metadata": {
        "id": "qcGNTR3nw2qG"
      }
    },
    {
      "cell_type": "markdown",
      "source": [
        "## 2.5.5 Q5\n",
        "\n",
        "Provide five gRNA sequences that will place indels inside the coding region of your gene\n",
        "\n"
      ],
      "metadata": {
        "id": "b0h_kYV1xpMF"
      }
    },
    {
      "cell_type": "markdown",
      "source": [
        "# 2.6 Extra sample code"
      ],
      "metadata": {
        "id": "6a57R0tryzHH"
      }
    },
    {
      "cell_type": "code",
      "source": [
        "#Placeholder function for translating a sequence\n",
        "codon_table = {\n",
        "        'ATA':'I', 'ATC':'I', 'ATT':'I', 'ATG':'M',\n",
        "        'ACA':'T', 'ACC':'T', 'ACG':'T', 'ACT':'T',\n",
        "        'AAC':'N', 'AAT':'N', 'AAA':'K', 'AAG':'K',\n",
        "        'AGC':'S', 'AGT':'S', 'AGA':'R', 'AGG':'R',\n",
        "        'CTA':'L', 'CTC':'L', 'CTG':'L', 'CTT':'L',\n",
        "        'CCA':'P', 'CCC':'P', 'CCG':'P', 'CCT':'P',\n",
        "        'CAC':'H', 'CAT':'H', 'CAA':'Q', 'CAG':'Q',\n",
        "        'CGA':'R', 'CGC':'R', 'CGG':'R', 'CGT':'R',\n",
        "        'GTA':'V', 'GTC':'V', 'GTG':'V', 'GTT':'V',\n",
        "        'GCA':'A', 'GCC':'A', 'GCG':'A', 'GCT':'A',\n",
        "        'GAC':'D', 'GAT':'D', 'GAA':'E', 'GAG':'E',\n",
        "        'GGA':'G', 'GGC':'G', 'GGG':'G', 'GGT':'G',\n",
        "        'TCA':'S', 'TCC':'S', 'TCG':'S', 'TCT':'S',\n",
        "        'TTC':'F', 'TTT':'F', 'TTA':'L', 'TTG':'L',\n",
        "        'TAC':'Y', 'TAT':'Y', 'TAA':'_', 'TAG':'_',\n",
        "        'TGC':'C', 'TGT':'C', 'TGA':'_', 'TGG':'W',\n",
        "    }\n",
        "def seq_translate(my_seq):\n",
        "  amino_acid_seq = ''\n",
        "  for i in range(0,len(my_seq),3):\n",
        "    amino_acid_seq = amino_acid_seq + codon_table[my_seq[i:i+3]]\n",
        "  return amino_acid_seq\n",
        "\n",
        "example_AA = seq_translate('ATGTTATCGGGGTGA')\n",
        "print(example_AA)"
      ],
      "metadata": {
        "colab": {
          "base_uri": "https://localhost:8080/"
        },
        "id": "IsuPO9a5y_Ax",
        "outputId": "f63e5b04-d4d7-443d-a258-5ad68557cac0"
      },
      "execution_count": 5,
      "outputs": [
        {
          "output_type": "stream",
          "name": "stdout",
          "text": [
            "MLSG_\n"
          ]
        }
      ]
    },
    {
      "cell_type": "code",
      "source": [
        "#Calculate open reading frame size and sequence\n",
        "my_transcript = 'CTCAAAAGTCTAGAGCCACCGTCCAGGGAGCAGGTAGCTGCTGGGCTCCGGGGACACTTTGCGTTCGGGC\\\n",
        "TGGGAGCGTGCTTTCCACGACGGTGACACGCTTCCCTGGATTGGCAGCCAGACTGCCTTCCGGGTCACTG\\\n",
        "CCATGGAGGAGCCGCAGTCAGATCCTAGCGTCGAGCCCCCTCTGAGTCAGGAAACATTTTCAGACCTATG\\\n",
        "GAAACTACTTCCTGAAAACAACGTTCTGTCCCCCTTGCCGTCCCAAGCAATGGATGATTTGATGCTGTCC\\\n",
        "CCGGACGATATTGAACAATGGTTCACTGAAGACCCAGGTCCAGATGAAGCTCCCAGAATGCCAGAGGCTG\\\n",
        "CTCCCCCCGTGGCCCCTGCACCAGCAGCTCCTACACCGGCGGCCCCTGCACCAGCCCCCTCCTGGCCCCT\\\n",
        "GTCATCTTCTGTCCCTTCCCAGAAAACCTACCAGGGCAGCTACGGTTTCCGTCTGGGCTTCTTGCATTCT\\\n",
        "GGGACAGCCAAGTCTGTGACTTGCACGTACTCCCCTGCCCTCAACAAGATGTTTTGCCAACTGGCCAAGA\\\n",
        "CCTGCCCTGTGCAGCTGTGGGTTGATTCCACACCCCCGCCCGGCACCCGCGTCCGCGCCATGGCCATCTA\\\n",
        "CAAGCAGTCACAGCACATGACGGAGGTTGTGAGGCGCTGCCCCCACCATGAGCGCTGCTCAGATAGCGAT\\\n",
        "GGTCTGGCCCCTCCTCAGCATCTTATCCGAGTGGAAGGAAATTTGCGTGTGGAGTATTTGGATGACAGAA\\\n",
        "ACACTTTTCGACATAGTGTGGTGGTGCCCTATGAGCCGCCTGAGGTTGGCTCTGACTGTACCACCATCCA\\\n",
        "CTACAACTACATGTGTAACAGTTCCTGCATGGGCGGCATGAACCGGAGGCCCATCCTCACCATCATCACA\\\n",
        "CTGGAAGACTCCAGTGGTAATCTACTGGGACGGAACAGCTTTGAGGTGCGTGTTTGTGCCTGTCCTGGGA\\\n",
        "GAGACCGGCGCACAGAGGAAGAGAATCTCCGCAAGAAAGGGGAGCCTCACCACGAGCTGCCCCCAGGGAG\\\n",
        "CACTAAGCGAGCACTGCCCAACAACACCAGCTCCTCTCCCCAGCCAAAGAAGAAACCACTGGATGGAGAA\\\n",
        "TATTTCACCCTTCAGATCCGTGGGCGTGAGCGCTTCGAGATGTTCCGAGAGCTGAATGAGGCCTTGGAAC\\\n",
        "TCAAGGATGCCCAGGCTGGGAAGGAGCCAGGGGGGAGCAGGGCTCACTCCAGCCACCTGAAGTCCAAAAA\\\n",
        "GGGTCAGTCTACCTCCCGCCATAAAAAACTCATGTTCAAGACAGAAGGGCCTGACTCAGACTGACATTCT\\\n",
        "CCACTTCTTGTTCCCCACTGACAGCCTCCCACCCCCATCTCTCCCTCCCCTGCCATTTTGGGTTTTGGGT\\\n",
        "CTTTGAACCCTTGCTTGCAATAGGTGTGCGTCAGAAGCACCCAGGACTTCCATTTGCTTTGTCCCGGGGC\\\n",
        "TCCACTGAACAAGTTGGCCTGCACTGGTGTTTTGTTGTGGGGAGGAGGATGGGGAGTAGGACATACCAGC\\\n",
        "TTAGATTTTAAGGTTTTTACTGTGAGGGATGTTTGGGAGATGTAAGAAATGTTCTTGCAGTTAAGGGTTA\\\n",
        "GTTTACAATCAGCCACATTCTAGGTAGGGGCCCACTTCACCGTACTAACCAGGGAAGCTGTCCCTCACTG\\\n",
        "TTGAATTTTCTCTAACTTCAAGGCCCATATCTGTGAAATGCTGGCATTTGCACCTACCTCACAGAGTGCA\\\n",
        "TTGTGAGGGTTAATGAAATAATGTACATCTGGCCTTGAAACCACCTTTTATTACATGGGGTCTAGAACTT\\\n",
        "GACCCCCTTGAGGGTGCTTGTTCCCTCTCCCTGTTGGTCGGTGGGTTGGTAGTTTCTACAGTTGGGCAGC\\\n",
        "TGGTTAGGTAGAGGGAGTTGTCAAGTCTCTGCTGGCCCAGCCAAACCCTGTCTGACAACCTCTTGGTGAA\\\n",
        "CCTTAGTACCTAAAAGGAAATCTCACCCCATCCCACACCCTGGAGGATTTCATCTCTTGTATATGATGAT\\\n",
        "CTGGATCCACCAAGACTTGTTTTATGCTCAGGGTCAATTTCTTTTTTCTTTTTTTTTTTTTTTTTTCTTT\\\n",
        "TTCTTTGAGACTGGGTCTCGCTTTGTTGCCCAGGCTGGAGTGGAGTGGCGTGATCTTGGCTTACTGCAGC\\\n",
        "CTTTGCCTCCCCGGCTCGAGCAGTCCTGCCTCAGCCTCCGGAGTAGCTGGGACCACAGGTTCATGCCACC\\\n",
        "ATGGCCAGCCAACTTTTGCATGTTTTGTAGAGATGGGGTCTCACAGTGTTGCCCAGGCTGGTCTCAAACT\\\n",
        "CCTGGGCTCAGGCGATCCACCTGTCTCAGCCTCCCAGAGTGCTGGGATTACAATTGTGAGCCACCACGTC\\\n",
        "CAGCTGGAAGGGTCAACATCTTTTACATTCTGCAAGCACATCTGCATTTTCACCCCACCCTTCCCCTCCT\\\n",
        "TCTCCCTTTTTATATCCCATTTTTATATCGATCTCTTATTTTACAATAAAACTTTGCTGCCA'\n",
        "print(my_transcript)\n",
        "\n",
        "longest_orf = 0\n",
        "for i in range(len(my_transcript)-3):\n",
        "  if(my_transcript[i:i+3]=='ATG'):\n",
        "    start = i;\n",
        "    for j in range(i+3, len(my_transcript)-3, 3):\n",
        "      if(my_transcript[j:j+3]=='TAG' or my_transcript[j:j+3]=='TAA' or my_transcript[j:j+3]=='TGA'):\n",
        "        stop = j\n",
        "        #print('size: = '+str(j-i)+' start: '+str(i)+' stop: '+str(j))\n",
        "        #print(seq_translate(my_transcript[i:j+3]))\n",
        "        if(j-i>longest_orf):\n",
        "          print('found a longer one')\n",
        "          longest_orf = j-i\n",
        "          longest_start = i\n",
        "          longest_end = j\n",
        "        break\n",
        "print('The longest ORF has a size of: = '+str(longest_end-longest_start)+' start: '+str(longest_start)+' stop: '+str(longest_end))\n",
        "print('The amino acid sequence is:')\n",
        "print(seq_translate(my_transcript[longest_start:longest_end+3]))\n"
      ],
      "metadata": {
        "colab": {
          "base_uri": "https://localhost:8080/"
        },
        "id": "rSP0x09sxnp_",
        "outputId": "d2310a1b-fe9b-426b-e223-b251312d0c33"
      },
      "execution_count": 6,
      "outputs": [
        {
          "output_type": "stream",
          "name": "stdout",
          "text": [
            "CTCAAAAGTCTAGAGCCACCGTCCAGGGAGCAGGTAGCTGCTGGGCTCCGGGGACACTTTGCGTTCGGGCTGGGAGCGTGCTTTCCACGACGGTGACACGCTTCCCTGGATTGGCAGCCAGACTGCCTTCCGGGTCACTGCCATGGAGGAGCCGCAGTCAGATCCTAGCGTCGAGCCCCCTCTGAGTCAGGAAACATTTTCAGACCTATGGAAACTACTTCCTGAAAACAACGTTCTGTCCCCCTTGCCGTCCCAAGCAATGGATGATTTGATGCTGTCCCCGGACGATATTGAACAATGGTTCACTGAAGACCCAGGTCCAGATGAAGCTCCCAGAATGCCAGAGGCTGCTCCCCCCGTGGCCCCTGCACCAGCAGCTCCTACACCGGCGGCCCCTGCACCAGCCCCCTCCTGGCCCCTGTCATCTTCTGTCCCTTCCCAGAAAACCTACCAGGGCAGCTACGGTTTCCGTCTGGGCTTCTTGCATTCTGGGACAGCCAAGTCTGTGACTTGCACGTACTCCCCTGCCCTCAACAAGATGTTTTGCCAACTGGCCAAGACCTGCCCTGTGCAGCTGTGGGTTGATTCCACACCCCCGCCCGGCACCCGCGTCCGCGCCATGGCCATCTACAAGCAGTCACAGCACATGACGGAGGTTGTGAGGCGCTGCCCCCACCATGAGCGCTGCTCAGATAGCGATGGTCTGGCCCCTCCTCAGCATCTTATCCGAGTGGAAGGAAATTTGCGTGTGGAGTATTTGGATGACAGAAACACTTTTCGACATAGTGTGGTGGTGCCCTATGAGCCGCCTGAGGTTGGCTCTGACTGTACCACCATCCACTACAACTACATGTGTAACAGTTCCTGCATGGGCGGCATGAACCGGAGGCCCATCCTCACCATCATCACACTGGAAGACTCCAGTGGTAATCTACTGGGACGGAACAGCTTTGAGGTGCGTGTTTGTGCCTGTCCTGGGAGAGACCGGCGCACAGAGGAAGAGAATCTCCGCAAGAAAGGGGAGCCTCACCACGAGCTGCCCCCAGGGAGCACTAAGCGAGCACTGCCCAACAACACCAGCTCCTCTCCCCAGCCAAAGAAGAAACCACTGGATGGAGAATATTTCACCCTTCAGATCCGTGGGCGTGAGCGCTTCGAGATGTTCCGAGAGCTGAATGAGGCCTTGGAACTCAAGGATGCCCAGGCTGGGAAGGAGCCAGGGGGGAGCAGGGCTCACTCCAGCCACCTGAAGTCCAAAAAGGGTCAGTCTACCTCCCGCCATAAAAAACTCATGTTCAAGACAGAAGGGCCTGACTCAGACTGACATTCTCCACTTCTTGTTCCCCACTGACAGCCTCCCACCCCCATCTCTCCCTCCCCTGCCATTTTGGGTTTTGGGTCTTTGAACCCTTGCTTGCAATAGGTGTGCGTCAGAAGCACCCAGGACTTCCATTTGCTTTGTCCCGGGGCTCCACTGAACAAGTTGGCCTGCACTGGTGTTTTGTTGTGGGGAGGAGGATGGGGAGTAGGACATACCAGCTTAGATTTTAAGGTTTTTACTGTGAGGGATGTTTGGGAGATGTAAGAAATGTTCTTGCAGTTAAGGGTTAGTTTACAATCAGCCACATTCTAGGTAGGGGCCCACTTCACCGTACTAACCAGGGAAGCTGTCCCTCACTGTTGAATTTTCTCTAACTTCAAGGCCCATATCTGTGAAATGCTGGCATTTGCACCTACCTCACAGAGTGCATTGTGAGGGTTAATGAAATAATGTACATCTGGCCTTGAAACCACCTTTTATTACATGGGGTCTAGAACTTGACCCCCTTGAGGGTGCTTGTTCCCTCTCCCTGTTGGTCGGTGGGTTGGTAGTTTCTACAGTTGGGCAGCTGGTTAGGTAGAGGGAGTTGTCAAGTCTCTGCTGGCCCAGCCAAACCCTGTCTGACAACCTCTTGGTGAACCTTAGTACCTAAAAGGAAATCTCACCCCATCCCACACCCTGGAGGATTTCATCTCTTGTATATGATGATCTGGATCCACCAAGACTTGTTTTATGCTCAGGGTCAATTTCTTTTTTCTTTTTTTTTTTTTTTTTTCTTTTTCTTTGAGACTGGGTCTCGCTTTGTTGCCCAGGCTGGAGTGGAGTGGCGTGATCTTGGCTTACTGCAGCCTTTGCCTCCCCGGCTCGAGCAGTCCTGCCTCAGCCTCCGGAGTAGCTGGGACCACAGGTTCATGCCACCATGGCCAGCCAACTTTTGCATGTTTTGTAGAGATGGGGTCTCACAGTGTTGCCCAGGCTGGTCTCAAACTCCTGGGCTCAGGCGATCCACCTGTCTCAGCCTCCCAGAGTGCTGGGATTACAATTGTGAGCCACCACGTCCAGCTGGAAGGGTCAACATCTTTTACATTCTGCAAGCACATCTGCATTTTCACCCCACCCTTCCCCTCCTTCTCCCTTTTTATATCCCATTTTTATATCGATCTCTTATTTTACAATAAAACTTTGCTGCCA\n",
            "found a longer one\n",
            "The longest ORF has a size of: = 1179 start: 142 stop: 1321\n",
            "The amino acid sequence is:\n",
            "MEEPQSDPSVEPPLSQETFSDLWKLLPENNVLSPLPSQAMDDLMLSPDDIEQWFTEDPGPDEAPRMPEAAPPVAPAPAAPTPAAPAPAPSWPLSSSVPSQKTYQGSYGFRLGFLHSGTAKSVTCTYSPALNKMFCQLAKTCPVQLWVDSTPPPGTRVRAMAIYKQSQHMTEVVRRCPHHERCSDSDGLAPPQHLIRVEGNLRVEYLDDRNTFRHSVVVPYEPPEVGSDCTTIHYNYMCNSSCMGGMNRRPILTIITLEDSSGNLLGRNSFEVRVCACPGRDRRTEEENLRKKGEPHHELPPGSTKRALPNNTSSSPQPKKKPLDGEYFTLQIRGRERFEMFRELNEALELKDAQAGKEPGGSRAHSSHLKSKKGQSTSRHKKLMFKTEGPDSD_\n"
          ]
        }
      ]
    },
    {
      "cell_type": "markdown",
      "source": [
        "* A, T, C, G – already defined\n",
        "* N = “Any” = A,T,C, or G\n",
        "* R = “puRine” = G or A\n",
        "* Y = “pYrimidine” = C or T\n",
        "* S = “Strong” = G or C\n",
        "* W = “Weak” = A or T\n",
        "* K = “Keto” = G or T\n",
        "* M = “Amino” = A or C\n",
        "* B = “anything but A” = T, C, or G\n",
        "* D = “anything but C” = A, T, or G\n",
        "* H = “Anything but G” = A,T, or C\n",
        "* V = “anything but T” = A, C, or G"
      ],
      "metadata": {
        "id": "bKUq-J-W0GX-"
      }
    },
    {
      "cell_type": "code",
      "source": [
        "#Reverse complement function that allows ambiguous base pairs to be used\n",
        "def reverse_complement_ambiguous(my_seq):\n",
        " #Make a dictionary with ambiguous symbols\n",
        "  complements = { \"A\":\"T\", \"T\":\"A\",\"C\":\"G\",\"G\":\"C\",\"N\":\"N\",\"R\":\"Y\",\"Y\":\"R\",\n",
        "                 \"S\":\"S\",\"W\":\"W\",\"K\":\"M\",\"M\":\"K\",\"B\":\"V\",\"V\":\"B\",\"D\":\"H\",\"H\":\"D\",\n",
        "                 \"a\":\"t\", \"t\":\"a\",\"c\":\"g\",\"g\":\"c\",\"n\":\"n\",\"r\":\"y\",\"y\":\"r\",\n",
        "                 \"s\":\"s\",\"w\":\"w\",\"k\":\"m\",\"m\":\"k\",\"b\":\"v\",\"v\":\"b\",\"d\":\"h\",\"h\":\"d\"}\n",
        "  #This line is doing the wor. It is iterating through a reversed my_seq\n",
        "  #and putting each nucleotide into the variable base. For each of those\n",
        "  #it looks up in the dictionary what the complement is and adds those to\n",
        "  #a growing string.\n",
        "  return \"\".join(complements[base] for base in reversed(my_seq))\n",
        "\n",
        "#Example\n",
        "print(reverse_complement_ambiguous('ATGCTGANNNnnnRRGatcg'))"
      ],
      "metadata": {
        "id": "-h2v8Wqyz0Sl"
      },
      "execution_count": null,
      "outputs": []
    },
    {
      "cell_type": "code",
      "source": [
        "#a very clear demonstration of reverse complement\n",
        "def reverse_complement(my_seq):\n",
        "  print(my_seq)\n",
        "  reverse_seq = my_seq[::-1]\n",
        "  print(reverse_seq)\n",
        "  my_seq_upper = reverse_seq.upper()\n",
        "  print(my_seq_upper)\n",
        "\n",
        "  my_seq_rc = my_seq_upper.replace('A','t')\n",
        "  print(my_seq_rc)\n",
        "  my_seq_rc = my_seq_rc.replace('T','a')\n",
        "  print(my_seq_rc)\n",
        "  my_seq_rc = my_seq_rc.replace('C','g')\n",
        "  print(my_seq_rc)\n",
        "  my_seq_rc = my_seq_rc.replace('G','c')\n",
        "  print(my_seq_rc)\n",
        "  my_seq_rc = my_seq_rc.upper()\n",
        "  print(my_seq_rc)\n",
        "  return my_seq_rc\n",
        "\n",
        "print(reverse_complement('atcg'))"
      ],
      "metadata": {
        "id": "og-rBLLs0Ah6"
      },
      "execution_count": null,
      "outputs": []
    },
    {
      "cell_type": "code",
      "source": [
        "#Code below was generated with AI\n",
        "# prompt: write a function in python that calculates the number of A T C G and GC percent of DNA\n",
        "\n",
        "def count_nucleotides(dna_sequence):\n",
        "    # Initialize counters for each nucleotide\n",
        "    a_count = 0\n",
        "    t_count = 0\n",
        "    c_count = 0\n",
        "    g_count = 0\n",
        "\n",
        "    # Iterate through the DNA sequence and count each nucleotide\n",
        "    for nucleotide in dna_sequence:\n",
        "        if nucleotide == 'A':\n",
        "            a_count += 1\n",
        "        elif nucleotide == 'T':\n",
        "            t_count += 1\n",
        "        elif nucleotide == 'C':\n",
        "            c_count += 1\n",
        "        elif nucleotide == 'G':\n",
        "            g_count += 1\n",
        "\n",
        "    # Calculate the GC percentage\n",
        "    gc_percent = (c_count + g_count) / len(dna_sequence) * 100\n",
        "\n",
        "    # Return the counts and GC percentage\n",
        "    return {\n",
        "        'A': a_count,\n",
        "        'T': t_count,\n",
        "        'C': c_count,\n",
        "        'G': g_count,\n",
        "        'GC%': gc_percent\n",
        "    }\n",
        "\n",
        "# Example usage\n",
        "dna_sequence = 'ATCGATCGATCG'\n",
        "nucleotide_counts = count_nucleotides(dna_sequence)\n",
        "\n",
        "print(f'A: {nucleotide_counts[\"A\"]}')\n",
        "print(f'T: {nucleotide_counts[\"T\"]}')\n",
        "print(f'C: {nucleotide_counts[\"C\"]}')\n",
        "print(f'G: {nucleotide_counts[\"G\"]}')\n",
        "print(f'GC%: {nucleotide_counts[\"GC%\"]}')\n"
      ],
      "metadata": {
        "colab": {
          "base_uri": "https://localhost:8080/"
        },
        "id": "5oXW9yW70Q9L",
        "outputId": "f0cad0bf-3e4b-4bda-e11b-82d78d22db6c"
      },
      "execution_count": 7,
      "outputs": [
        {
          "output_type": "stream",
          "name": "stdout",
          "text": [
            "A: 3\n",
            "T: 3\n",
            "C: 3\n",
            "G: 3\n",
            "GC%: 50.0\n"
          ]
        }
      ]
    }
  ]
}